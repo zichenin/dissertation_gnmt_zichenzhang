{
  "nbformat": 4,
  "nbformat_minor": 0,
  "metadata": {
    "colab": {
      "name": "vb_encoder_0811.ipynb",
      "version": "0.3.2",
      "provenance": [],
      "collapsed_sections": []
    },
    "kernelspec": {
      "name": "python2",
      "display_name": "Python 2"
    },
    "accelerator": "GPU"
  },
  "cells": [
    {
      "metadata": {
        "id": "LSTAl6LKP2IJ",
        "colab_type": "text"
      },
      "cell_type": "markdown",
      "source": [
        "## Set up drive path"
      ]
    },
    {
      "metadata": {
        "id": "SOaUpZ5pKhYh",
        "colab_type": "code",
        "colab": {}
      },
      "cell_type": "code",
      "source": [
        "# !apt-get install -y -qq software-properties-common python-software-properties module-init-tools\n",
        "# !add-apt-repository -y ppa:alessandro-strada/ppa 2>&1 > /dev/null\n",
        "# !apt-get update -qq 2>&1 > /dev/null\n",
        "# !apt-get -y install -qq google-drive-ocamlfuse fuse\n",
        "# from google.colab import auth\n",
        "# auth.authenticate_user()\n",
        "# from oauth2client.client import GoogleCredentials\n",
        "# creds = GoogleCredentials.get_application_default()\n",
        "# import getpass\n",
        "# !google-drive-ocamlfuse -headless -id={creds.client_id} -secret={creds.client_secret} < /dev/null 2>&1 | grep URL\n",
        "# vcode = getpass.getpass()\n",
        "# !echo {vcode} | google-drive-ocamlfuse -headless -id={creds.client_id} -secret={creds.client_secret}"
      ],
      "execution_count": 0,
      "outputs": []
    },
    {
      "metadata": {
        "id": "9GyQO8qlKiza",
        "colab_type": "code",
        "colab": {}
      },
      "cell_type": "code",
      "source": [
        "# !mkdir -p drive\n",
        "# !google-drive-ocamlfuse drive"
      ],
      "execution_count": 0,
      "outputs": []
    },
    {
      "metadata": {
        "id": "xR-K-PeRyGHI",
        "colab_type": "code",
        "colab": {
          "base_uri": "https://localhost:8080/",
          "height": 34
        },
        "outputId": "ca090182-436d-453f-e520-b9b22b0eb45a"
      },
      "cell_type": "code",
      "source": [
        "ls"
      ],
      "execution_count": 1,
      "outputs": [
        {
          "output_type": "stream",
          "text": [
            "\u001b[0m\u001b[01;36mdatalab\u001b[0m@  \u001b[01;34msample_data\u001b[0m/\n"
          ],
          "name": "stdout"
        }
      ]
    },
    {
      "metadata": {
        "id": "FExueg_ByHLq",
        "colab_type": "code",
        "colab": {
          "base_uri": "https://localhost:8080/",
          "height": 34
        },
        "outputId": "cf9214a9-7b94-48e9-def5-16177c31f56a"
      },
      "cell_type": "code",
      "source": [
        "cd drive/VAE"
      ],
      "execution_count": 5,
      "outputs": [
        {
          "output_type": "stream",
          "text": [
            "/content/drive/VAE\n"
          ],
          "name": "stdout"
        }
      ]
    },
    {
      "metadata": {
        "id": "chJSJU_uH3yB",
        "colab_type": "text"
      },
      "cell_type": "markdown",
      "source": [
        "## Import library  and define functions"
      ]
    },
    {
      "metadata": {
        "id": "1dzbwS1XKQRl",
        "colab_type": "code",
        "colab": {}
      },
      "cell_type": "code",
      "source": [
        "import tensorflow as tf\n",
        "from tensorflow.examples.tutorials.mnist import input_data\n",
        "import numpy as np\n",
        "import os\n",
        "import matplotlib.pyplot as plt\n",
        "\n",
        "# Import dataset with one-hot encoding of the class labels.\n",
        "def get_data():\n",
        "    return input_data.read_data_sets(\"MNIST_data/\", one_hot=True)\n",
        "\n",
        "# Placeholders to feed train and test data into the graph.\n",
        "# Since batch dimension is 'None', we can reuse them both for train and eval.\n",
        "def get_placeholders():\n",
        "    x = tf.placeholder(tf.float32, [None, 784])\n",
        "    return x\n",
        "  \n",
        "def binarize(images, threshold=0.1):\n",
        "  return (threshold < images).astype('float32')\n",
        "\n",
        "def text_save(content,filename,mode='a'):\n",
        "    # Try to save a list variable in txt file.\n",
        "    file = open(filename,mode)\n",
        "    for i in range(len(content)):\n",
        "        file.write(str(content[i])+'\\n')\n",
        "    file.close()\n",
        "    \n",
        "def text_read(filename):\n",
        "    # Try to read a txt file and return a list.Return [] if there was a mistake.\n",
        "    try:\n",
        "        file = open(filename,'r')\n",
        "    except IOError:\n",
        "        error = []\n",
        "        return error\n",
        "    content = file.readlines()\n",
        " \n",
        "    for i in range(len(content)):\n",
        "        content[i] = content[i][:len(content[i])-1]\n",
        " \n",
        "    file.close()\n",
        "    return content"
      ],
      "execution_count": 0,
      "outputs": []
    },
    {
      "metadata": {
        "id": "pnLtkOa6FoUp",
        "colab_type": "text"
      },
      "cell_type": "markdown",
      "source": [
        "## MNIST Dataset"
      ]
    },
    {
      "metadata": {
        "id": "LtJA3FT-Fn7X",
        "colab_type": "code",
        "colab": {
          "base_uri": "https://localhost:8080/",
          "height": 87
        },
        "outputId": "d5c9d311-70fd-4d56-fedf-14317b0008c2"
      },
      "cell_type": "code",
      "source": [
        "show_mnist = get_data()        # use for training.\n",
        "\n",
        "x_sample = show_mnist.test.images[:100]\n",
        "binary_x_sample = binarize(x_sample)"
      ],
      "execution_count": 14,
      "outputs": [
        {
          "output_type": "stream",
          "text": [
            "Extracting MNIST_data/train-images-idx3-ubyte.gz\n",
            "Extracting MNIST_data/train-labels-idx1-ubyte.gz\n",
            "Extracting MNIST_data/t10k-images-idx3-ubyte.gz\n",
            "Extracting MNIST_data/t10k-labels-idx1-ubyte.gz\n"
          ],
          "name": "stdout"
        }
      ]
    },
    {
      "metadata": {
        "id": "iIo8B1laF1Pz",
        "colab_type": "code",
        "colab": {
          "base_uri": "https://localhost:8080/",
          "height": 291
        },
        "outputId": "e1a8066c-ae28-48cd-e08e-038e131191c7"
      },
      "cell_type": "code",
      "source": [
        "ddi = 0\n",
        "idlist = [1,2,3,4,15,26,51,88,9,61]\n",
        "fig = plt.figure()\n",
        "\n",
        "for j in range(2): \n",
        "  for i in range(5):\n",
        "    ddi = ddi+1\n",
        "    plt.subplot(2,5,ddi)   \n",
        "    plt.imshow(np.reshape(binary_x_sample[idlist[ddi-1]], (28,28)),cmap=\"gray\")\n",
        "    plt.axis('off')\n",
        "    \n",
        "fig.savefig('mnist_samples.png', dpi=fig.dpi)"
      ],
      "execution_count": 91,
      "outputs": [
        {
          "output_type": "display_data",
          "data": {
            "image/png": "[encoded data removed]",
            "text/plain": [
              "<matplotlib.figure.Figure at 0x7f67911dd910>"
            ]
          },
          "metadata": {
            "tags": []
          }
        }
      ]
    },
    {
      "metadata": {
        "id": "MKx_ViMbKiuK",
        "colab_type": "code",
        "colab": {
          "base_uri": "https://localhost:8080/",
          "height": 158
        },
        "outputId": "6b7890f9-190e-4bdf-9ce4-119e3af61b3e"
      },
      "cell_type": "code",
      "source": [
        "fig = plt.figure(figsize=(2,2))\n",
        "plt.imshow(np.reshape(binary_x_sample[75], (28,28)),cmap=\"gray\")\n",
        "plt.axis('off')\n",
        "fig.savefig('one_7_sample.png', dpi=fig.dpi)"
      ],
      "execution_count": 123,
      "outputs": [
        {
          "output_type": "display_data",
          "data": {
            "image/png": "[encoded data removed]",
            "text/plain": [
              "<matplotlib.figure.Figure at 0x7f67910e2450>"
            ]
          },
          "metadata": {
            "tags": []
          }
        }
      ]
    },
    {
      "metadata": {
        "id": "DIzMo_qaP_xW",
        "colab_type": "text"
      },
      "cell_type": "markdown",
      "source": [
        "## Models"
      ]
    },
    {
      "metadata": {
        "id": "t2D847wZHK6v",
        "colab_type": "text"
      },
      "cell_type": "markdown",
      "source": [
        "### Latent dimension = 5"
      ]
    },
    {
      "metadata": {
        "id": "FR0gghdUKQRq",
        "colab_type": "code",
        "colab": {}
      },
      "cell_type": "code",
      "source": [
        "#####################################################\n",
        "# Define model, loss, update and evaluation metric. #\n",
        "#####################################################\n",
        "\n",
        "# Global variables.\n",
        "batch_size = 100\n",
        "learning_rate = 0.01\n",
        "image_dim = 784\n",
        "hidden_dim = 500\n",
        "\n",
        "latent_dim = 5\n",
        "\n",
        "\n",
        "# Reset graph, recreate placeholders and dataset.\n",
        "tf.reset_default_graph()  # reset the tensorflow graph\n",
        "x = get_placeholders()\n",
        "\n",
        "def vari_init(shape):\n",
        "    return tf.random_normal(shape=shape, stddev=0.01, mean=0.0)\n",
        "  \n",
        "# intialize encoder parameters\n",
        "w_1_en = tf.Variable(vari_init([image_dim, hidden_dim]))\n",
        "b_1_en = tf.Variable(vari_init([hidden_dim,]))\n",
        "\n",
        "w_2_en = tf.Variable(vari_init([hidden_dim, latent_dim]))\n",
        "b_2_en = tf.Variable(vari_init([latent_dim,]))\n",
        "\n",
        "w_3_en = tf.Variable(vari_init([hidden_dim, latent_dim]))\n",
        "b_3_en = tf.Variable(vari_init([latent_dim,]))\n",
        "\n",
        "w_1_de = tf.Variable(vari_init([latent_dim, hidden_dim]))\n",
        "b_1_de = tf.Variable(vari_init([hidden_dim,]))\n",
        "\n",
        "w_2_de = tf.Variable(vari_init([hidden_dim, image_dim]))\n",
        "b_2_de = tf.Variable(vari_init([image_dim,]))\n",
        "\n",
        "encoder = tf.nn.tanh(tf.matmul(x,w_1_en) + b_1_en)\n",
        "\n",
        "z_mean = tf.matmul(encoder,w_2_en) + b_2_en\n",
        "\n",
        "z_log_var = tf.matmul(encoder,w_3_en) + b_3_en\n",
        "z_var = tf.exp(z_log_var)\n",
        "z_std = tf.sqrt(z_var)\n",
        "\n",
        "eposida = tf.random_normal(tf.shape(z_std), mean=0.0,stddev=1)\n",
        "z = z_mean + z_std*eposida\n",
        "\n",
        "inter_1 = tf.nn.tanh(tf.matmul(z,w_1_de) + b_1_de)\n",
        "decoder = tf.nn.sigmoid(tf.matmul(inter_1,w_2_de)+b_2_de)\n",
        "\n",
        "\n",
        "# Define VAE Loss\n",
        "\n",
        "def vae_loss(x_reconstructed, x_true):\n",
        "  \n",
        "    # Reconstruction loss   \n",
        "    encode_decode_loss = x_true * tf.log(1e-10 + x_reconstructed) \\\n",
        "                         + (1 - x_true) * tf.log(1e-10 + 1 - x_reconstructed)\n",
        "    encode_decode_loss = -tf.reduce_sum(encode_decode_loss, 1)\n",
        "    \n",
        "    # KL Divergence loss\n",
        "    kl_div_loss = 1 + z_log_var - tf.square(z_mean) - z_var\n",
        "    kl_div_loss = -0.5 * tf.reduce_sum(kl_div_loss, 1)\n",
        "    \n",
        "    return tf.reduce_mean(encode_decode_loss + kl_div_loss)\n",
        "\n",
        "\n",
        "loss_op = vae_loss(decoder, x)\n",
        "update = tf.train.AdagradOptimizer(learning_rate=learning_rate).minimize(loss_op)\n",
        "\n",
        "def save_model(session, path):\n",
        "    if not os.path.exists('./result_5/'):\n",
        "        os.mkdir('./result_5/')\n",
        "    saver = tf.train.Saver()\n",
        "    saver.save(session, path)\n",
        "\n",
        "path1 = './result_5/model_epch5.ckpt'"
      ],
      "execution_count": 0,
      "outputs": []
    },
    {
      "metadata": {
        "id": "v48C0UnCxHmN",
        "colab_type": "code",
        "colab": {}
      },
      "cell_type": "code",
      "source": [
        "def save_model(session, path):\n",
        "    if not os.path.exists('./result_5/'):\n",
        "        os.mkdir('./result_5/')\n",
        "    saver = tf.train.Saver()\n",
        "    saver.save(session, path)\n",
        "\n",
        "path1 = './result_5/model_epch5.ckpt'"
      ],
      "execution_count": 0,
      "outputs": []
    },
    {
      "metadata": {
        "id": "RcCVwUwSHunD",
        "colab_type": "code",
        "colab": {
          "base_uri": "https://localhost:8080/",
          "height": 2490
        },
        "outputId": "42219d1e-96b3-4791-8e31-9fafb85c8453"
      },
      "cell_type": "code",
      "source": [
        "#####################################################\n",
        "###################### Training #####################\n",
        "#####################################################\n",
        "\n",
        "mnist = get_data()        # use for training.\n",
        "eva_mnist = get_data()    # use for testing.\n",
        "\n",
        "num_epochs = 100\n",
        "i, train_elbo, test_elbo = 0, [], []\n",
        "\n",
        "init = tf.global_variables_initializer()\n",
        "\n",
        "with tf.Session() as sess:\n",
        "  \n",
        "    sess.run(init)    \n",
        "    \n",
        "    while mnist.train.epochs_completed < num_epochs:\n",
        "   \n",
        "        i += 1    \n",
        "        batch_xs, _ = mnist.train.next_batch(batch_size)\n",
        "        batch_xs_bi = binarize(batch_xs)\n",
        "        feed_dict = {x: batch_xs_bi,}\n",
        "        \n",
        "        _ = sess.run(update, feed_dict=feed_dict)\n",
        "        \n",
        "        if i % 1000 == 0 or i == 1:\n",
        "            \n",
        "            \n",
        "            test = binarize(eva_mnist.test.images)\n",
        "            train = binarize(eva_mnist.train.images[:10000])\n",
        "\n",
        "            test_feed_dict = {x: test,}\n",
        "            train_feed_dict = {x: train,}\n",
        "            \n",
        "            testElbo = sess.run(loss_op, feed_dict=test_feed_dict)\n",
        "            trainElbo = sess.run(loss_op, feed_dict=train_feed_dict)\n",
        "            \n",
        "            test_elbo.append(-testElbo)\n",
        "            train_elbo.append(-trainElbo)\n",
        "            \n",
        "            print('Step %i, Train Lower likelihood: %f' % (i, -trainElbo))\n",
        "            print('Step %i, Test Lower likelihood: %f' % (i, -testElbo))\n",
        "    \n",
        "    \n",
        "    save_model(sess, path1)\n",
        "    \n",
        "text_save(train_elbo, 'train_elbo_la_5.txt')\n",
        "text_save(test_elbo, 'test_elbo_la_5.txt')"
      ],
      "execution_count": 5,
      "outputs": [
        {
          "output_type": "stream",
          "text": [
            "WARNING:tensorflow:From <ipython-input-3-71fc08df4b39>:9: read_data_sets (from tensorflow.contrib.learn.python.learn.datasets.mnist) is deprecated and will be removed in a future version.\n",
            "Instructions for updating:\n",
            "Please use alternatives such as official/mnist/dataset.py from tensorflow/models.\n",
            "WARNING:tensorflow:From /usr/local/lib/python2.7/dist-packages/tensorflow/contrib/learn/python/learn/datasets/mnist.py:260: maybe_download (from tensorflow.contrib.learn.python.learn.datasets.base) is deprecated and will be removed in a future version.\n",
            "Instructions for updating:\n",
            "Please write your own downloading logic.\n",
            "WARNING:tensorflow:From /usr/local/lib/python2.7/dist-packages/tensorflow/contrib/learn/python/learn/datasets/mnist.py:262: extract_images (from tensorflow.contrib.learn.python.learn.datasets.mnist) is deprecated and will be removed in a future version.\n",
            "Instructions for updating:\n",
            "Please use tf.data to implement this functionality.\n",
            "Extracting MNIST_data/train-images-idx3-ubyte.gz\n",
            "WARNING:tensorflow:From /usr/local/lib/python2.7/dist-packages/tensorflow/contrib/learn/python/learn/datasets/mnist.py:267: extract_labels (from tensorflow.contrib.learn.python.learn.datasets.mnist) is deprecated and will be removed in a future version.\n",
            "Instructions for updating:\n",
            "Please use tf.data to implement this functionality.\n",
            "Extracting MNIST_data/train-labels-idx1-ubyte.gz\n",
            "WARNING:tensorflow:From /usr/local/lib/python2.7/dist-packages/tensorflow/contrib/learn/python/learn/datasets/mnist.py:110: dense_to_one_hot (from tensorflow.contrib.learn.python.learn.datasets.mnist) is deprecated and will be removed in a future version.\n",
            "Instructions for updating:\n",
            "Please use tf.one_hot on tensors.\n",
            "Extracting MNIST_data/t10k-images-idx3-ubyte.gz\n",
            "Extracting MNIST_data/t10k-labels-idx1-ubyte.gz\n",
            "WARNING:tensorflow:From /usr/local/lib/python2.7/dist-packages/tensorflow/contrib/learn/python/learn/datasets/mnist.py:290: __init__ (from tensorflow.contrib.learn.python.learn.datasets.mnist) is deprecated and will be removed in a future version.\n",
            "Instructions for updating:\n",
            "Please use alternatives such as official/mnist/dataset.py from tensorflow/models.\n",
            "Extracting MNIST_data/train-images-idx3-ubyte.gz\n",
            "Extracting MNIST_data/train-labels-idx1-ubyte.gz\n",
            "Extracting MNIST_data/t10k-images-idx3-ubyte.gz\n",
            "Extracting MNIST_data/t10k-labels-idx1-ubyte.gz\n",
            "Step 1, Train Lower likelihood: -541.041748\n",
            "Step 1, Test Lower likelihood: -541.027527\n",
            "Step 1000, Train Lower likelihood: -206.274414\n",
            "Step 1000, Test Lower likelihood: -204.212646\n",
            "Step 2000, Train Lower likelihood: -164.628082\n",
            "Step 2000, Test Lower likelihood: -164.145416\n",
            "Step 3000, Train Lower likelihood: -156.058228\n",
            "Step 3000, Test Lower likelihood: -155.412521\n",
            "Step 4000, Train Lower likelihood: -151.391357\n",
            "Step 4000, Test Lower likelihood: -150.854416\n",
            "Step 5000, Train Lower likelihood: -147.012985\n",
            "Step 5000, Test Lower likelihood: -146.554291\n",
            "Step 6000, Train Lower likelihood: -142.974823\n",
            "Step 6000, Test Lower likelihood: -142.541382\n",
            "Step 7000, Train Lower likelihood: -140.199768\n",
            "Step 7000, Test Lower likelihood: -139.907227\n",
            "Step 8000, Train Lower likelihood: -138.023697\n",
            "Step 8000, Test Lower likelihood: -137.772476\n",
            "Step 9000, Train Lower likelihood: -136.173279\n",
            "Step 9000, Test Lower likelihood: -136.052032\n",
            "Step 10000, Train Lower likelihood: -134.740982\n",
            "Step 10000, Test Lower likelihood: -134.695786\n",
            "Step 11000, Train Lower likelihood: -133.365631\n",
            "Step 11000, Test Lower likelihood: -133.459244\n",
            "Step 12000, Train Lower likelihood: -132.248932\n",
            "Step 12000, Test Lower likelihood: -132.324799\n",
            "Step 13000, Train Lower likelihood: -131.217300\n",
            "Step 13000, Test Lower likelihood: -131.311584\n",
            "Step 14000, Train Lower likelihood: -130.416550\n",
            "Step 14000, Test Lower likelihood: -130.599396\n",
            "Step 15000, Train Lower likelihood: -129.373856\n",
            "Step 15000, Test Lower likelihood: -129.633820\n",
            "Step 16000, Train Lower likelihood: -128.631516\n",
            "Step 16000, Test Lower likelihood: -128.853348\n",
            "Step 17000, Train Lower likelihood: -128.018570\n",
            "Step 17000, Test Lower likelihood: -128.333878\n",
            "Step 18000, Train Lower likelihood: -127.376472\n",
            "Step 18000, Test Lower likelihood: -127.661690\n",
            "Step 19000, Train Lower likelihood: -126.818665\n",
            "Step 19000, Test Lower likelihood: -127.123398\n",
            "Step 20000, Train Lower likelihood: -126.227600\n",
            "Step 20000, Test Lower likelihood: -126.618729\n",
            "Step 21000, Train Lower likelihood: -125.763702\n",
            "Step 21000, Test Lower likelihood: -126.130089\n",
            "Step 22000, Train Lower likelihood: -125.294289\n",
            "Step 22000, Test Lower likelihood: -125.629585\n",
            "Step 23000, Train Lower likelihood: -124.919586\n",
            "Step 23000, Test Lower likelihood: -125.322777\n",
            "Step 24000, Train Lower likelihood: -124.481575\n",
            "Step 24000, Test Lower likelihood: -124.932053\n",
            "Step 25000, Train Lower likelihood: -124.091873\n",
            "Step 25000, Test Lower likelihood: -124.536102\n",
            "Step 26000, Train Lower likelihood: -123.638260\n",
            "Step 26000, Test Lower likelihood: -124.187073\n",
            "Step 27000, Train Lower likelihood: -123.401299\n",
            "Step 27000, Test Lower likelihood: -123.872887\n",
            "Step 28000, Train Lower likelihood: -123.065048\n",
            "Step 28000, Test Lower likelihood: -123.567772\n",
            "Step 29000, Train Lower likelihood: -122.694977\n",
            "Step 29000, Test Lower likelihood: -123.286728\n",
            "Step 30000, Train Lower likelihood: -122.444687\n",
            "Step 30000, Test Lower likelihood: -123.037086\n",
            "Step 31000, Train Lower likelihood: -122.126663\n",
            "Step 31000, Test Lower likelihood: -122.763916\n",
            "Step 32000, Train Lower likelihood: -121.899414\n",
            "Step 32000, Test Lower likelihood: -122.439751\n",
            "Step 33000, Train Lower likelihood: -121.609589\n",
            "Step 33000, Test Lower likelihood: -122.235184\n",
            "Step 34000, Train Lower likelihood: -121.352615\n",
            "Step 34000, Test Lower likelihood: -121.966423\n",
            "Step 35000, Train Lower likelihood: -121.113274\n",
            "Step 35000, Test Lower likelihood: -121.734497\n",
            "Step 36000, Train Lower likelihood: -120.899002\n",
            "Step 36000, Test Lower likelihood: -121.534264\n",
            "Step 37000, Train Lower likelihood: -120.686966\n",
            "Step 37000, Test Lower likelihood: -121.377296\n",
            "Step 38000, Train Lower likelihood: -120.542900\n",
            "Step 38000, Test Lower likelihood: -121.188538\n",
            "Step 39000, Train Lower likelihood: -120.292740\n",
            "Step 39000, Test Lower likelihood: -120.986053\n",
            "Step 40000, Train Lower likelihood: -120.109451\n",
            "Step 40000, Test Lower likelihood: -120.799797\n",
            "Step 41000, Train Lower likelihood: -119.945747\n",
            "Step 41000, Test Lower likelihood: -120.546051\n",
            "Step 42000, Train Lower likelihood: -119.768135\n",
            "Step 42000, Test Lower likelihood: -120.495003\n",
            "Step 43000, Train Lower likelihood: -119.559647\n",
            "Step 43000, Test Lower likelihood: -120.284775\n",
            "Step 44000, Train Lower likelihood: -119.384949\n",
            "Step 44000, Test Lower likelihood: -120.122360\n",
            "Step 45000, Train Lower likelihood: -119.228622\n",
            "Step 45000, Test Lower likelihood: -120.004227\n",
            "Step 46000, Train Lower likelihood: -119.071198\n",
            "Step 46000, Test Lower likelihood: -119.842773\n",
            "Step 47000, Train Lower likelihood: -118.943085\n",
            "Step 47000, Test Lower likelihood: -119.679749\n",
            "Step 48000, Train Lower likelihood: -118.802887\n",
            "Step 48000, Test Lower likelihood: -119.569572\n",
            "Step 49000, Train Lower likelihood: -118.616661\n",
            "Step 49000, Test Lower likelihood: -119.448151\n",
            "Step 50000, Train Lower likelihood: -118.559036\n",
            "Step 50000, Test Lower likelihood: -119.335762\n",
            "Step 51000, Train Lower likelihood: -118.339989\n",
            "Step 51000, Test Lower likelihood: -119.138100\n",
            "Step 52000, Train Lower likelihood: -118.182091\n",
            "Step 52000, Test Lower likelihood: -118.980621\n",
            "Step 53000, Train Lower likelihood: -118.091972\n",
            "Step 53000, Test Lower likelihood: -118.872002\n",
            "Step 54000, Train Lower likelihood: -117.926750\n",
            "Step 54000, Test Lower likelihood: -118.783012\n",
            "Step 55000, Train Lower likelihood: -117.800026\n",
            "Step 55000, Test Lower likelihood: -118.586723\n"
          ],
          "name": "stdout"
        }
      ]
    },
    {
      "metadata": {
        "id": "Sr8Gv9w6NSNS",
        "colab_type": "code",
        "colab": {
          "base_uri": "https://localhost:8080/",
          "height": 34
        },
        "outputId": "e4606d87-6666-4240-ee36-4687bc02617c"
      },
      "cell_type": "code",
      "source": [
        "with tf.Session() as sess:\n",
        "  \n",
        "    # LOAD THE MODEL\n",
        "    saver = tf.train.Saver()  \n",
        "    saver.restore(sess, path1)\n",
        "    \n",
        "    x_sample = binarize(eva_mnist.test.images[:100])\n",
        "    \n",
        "    feed_dict = {x: x_sample,}\n",
        "    \n",
        "    reconstruct_mean_la_5 = sess.run(decoder, feed_dict=feed_dict)"
      ],
      "execution_count": 21,
      "outputs": [
        {
          "output_type": "stream",
          "text": [
            "INFO:tensorflow:Restoring parameters from ./result_5/model_epch5.ckpt\n"
          ],
          "name": "stdout"
        }
      ]
    },
    {
      "metadata": {
        "id": "VFNT_UjPHUae",
        "colab_type": "text"
      },
      "cell_type": "markdown",
      "source": [
        "### Latent dimension = 10"
      ]
    },
    {
      "metadata": {
        "id": "frulRUq1ICaX",
        "colab_type": "code",
        "colab": {}
      },
      "cell_type": "code",
      "source": [
        "#####################################################\n",
        "# Define model, loss, update and evaluation metric. #\n",
        "#####################################################\n",
        "\n",
        "# Global variables.\n",
        "batch_size = 100\n",
        "learning_rate = 0.01\n",
        "image_dim = 784\n",
        "hidden_dim = 500\n",
        "\n",
        "latent_dim = 10\n",
        "\n",
        "\n",
        "# Reset graph, recreate placeholders and dataset.\n",
        "tf.reset_default_graph()  # reset the tensorflow graph\n",
        "x = get_placeholders()\n",
        "\n",
        "def vari_init(shape):\n",
        "    return tf.random_normal(shape=shape, stddev=0.01, mean=0.0)\n",
        "  \n",
        "# intialize encoder parameters\n",
        "w_1_en = tf.Variable(vari_init([image_dim, hidden_dim]))\n",
        "b_1_en = tf.Variable(vari_init([hidden_dim,]))\n",
        "\n",
        "w_2_en = tf.Variable(vari_init([hidden_dim, latent_dim]))\n",
        "b_2_en = tf.Variable(vari_init([latent_dim,]))\n",
        "\n",
        "w_3_en = tf.Variable(vari_init([hidden_dim, latent_dim]))\n",
        "b_3_en = tf.Variable(vari_init([latent_dim,]))\n",
        "\n",
        "w_1_de = tf.Variable(vari_init([latent_dim, hidden_dim]))\n",
        "b_1_de = tf.Variable(vari_init([hidden_dim,]))\n",
        "\n",
        "w_2_de = tf.Variable(vari_init([hidden_dim, image_dim]))\n",
        "b_2_de = tf.Variable(vari_init([image_dim,]))\n",
        "\n",
        "encoder = tf.nn.tanh(tf.matmul(x,w_1_en) + b_1_en)\n",
        "\n",
        "z_mean = tf.matmul(encoder,w_2_en) + b_2_en\n",
        "\n",
        "z_log_var = tf.matmul(encoder,w_3_en) + b_3_en\n",
        "z_var = tf.exp(z_log_var)\n",
        "z_std = tf.sqrt(z_var)\n",
        "\n",
        "eposida = tf.random_normal(tf.shape(z_std), mean=0.0,stddev=1)\n",
        "z = z_mean + z_std*eposida\n",
        "\n",
        "inter_1 = tf.nn.tanh(tf.matmul(z,w_1_de) + b_1_de)\n",
        "decoder = tf.nn.sigmoid(tf.matmul(inter_1,w_2_de)+b_2_de)\n",
        "\n",
        "\n",
        "# Define VAE Loss\n",
        "\n",
        "def vae_loss(x_reconstructed, x_true):\n",
        "  \n",
        "    # Reconstruction loss   \n",
        "    encode_decode_loss = x_true * tf.log(1e-10 + x_reconstructed) \\\n",
        "                         + (1 - x_true) * tf.log(1e-10 + 1 - x_reconstructed)\n",
        "    encode_decode_loss = -tf.reduce_sum(encode_decode_loss, 1)\n",
        "    \n",
        "    # KL Divergence loss\n",
        "    kl_div_loss = 1 + z_log_var - tf.square(z_mean) - z_var\n",
        "    kl_div_loss = -0.5 * tf.reduce_sum(kl_div_loss, 1)\n",
        "    \n",
        "    return tf.reduce_mean(encode_decode_loss + kl_div_loss)\n",
        "\n",
        "\n",
        "loss_op = vae_loss(decoder, x)\n",
        "update = tf.train.AdagradOptimizer(learning_rate=learning_rate).minimize(loss_op)\n",
        "\n",
        "def save_model(session, path):\n",
        "    if not os.path.exists('./result_10/'):\n",
        "        os.mkdir('./result_10/')\n",
        "    saver = tf.train.Saver()\n",
        "    saver.save(session, path)\n",
        "\n",
        "path2 = './result_10/model_epch10.ckpt'"
      ],
      "execution_count": 0,
      "outputs": []
    },
    {
      "metadata": {
        "id": "ihBlQI7TIyKC",
        "colab_type": "code",
        "colab": {
          "base_uri": "https://localhost:8080/",
          "height": 2150
        },
        "outputId": "0aee0263-edd7-4d0b-a4a6-41ca7a0a1a1e"
      },
      "cell_type": "code",
      "source": [
        "#####################################################\n",
        "###################### Training #####################\n",
        "#####################################################\n",
        "\n",
        "mnist = get_data()        # use for training.\n",
        "eva_mnist = get_data()    # use for testing.\n",
        "\n",
        "num_epochs = 100\n",
        "i, train_elbo, test_elbo = 0, [], []\n",
        "\n",
        "init = tf.global_variables_initializer()\n",
        "\n",
        "with tf.Session() as sess:\n",
        "  \n",
        "    sess.run(init)    \n",
        "    \n",
        "    while mnist.train.epochs_completed < num_epochs:\n",
        "   \n",
        "        i += 1    \n",
        "        batch_xs, _ = mnist.train.next_batch(batch_size)\n",
        "        batch_xs_bi = binarize(batch_xs)\n",
        "        feed_dict = {x: batch_xs_bi,}\n",
        "        \n",
        "        _, trainElbo = sess.run([update, loss_op], feed_dict=feed_dict)\n",
        "        \n",
        "        if i % 1000 == 0 or i == 1:\n",
        "            \n",
        "            test = binarize(eva_mnist.test.images)\n",
        "            train = binarize(eva_mnist.train.images[:10000])\n",
        "\n",
        "            test_feed_dict = {x: test,}\n",
        "            train_feed_dict = {x: train,}\n",
        "            \n",
        "            testElbo = sess.run(loss_op, feed_dict=test_feed_dict)\n",
        "            trainElbo = sess.run(loss_op, feed_dict=train_feed_dict)\n",
        "            \n",
        "            test_elbo.append(-testElbo)\n",
        "            train_elbo.append(-trainElbo)\n",
        "            \n",
        "            print('Step %i, Train Lower likelihood: %f' % (i, -trainElbo))\n",
        "            print('Step %i, Test Lower likelihood: %f' % (i, -testElbo))\n",
        "    \n",
        "    \n",
        "    save_model(sess, path2)\n",
        "    \n",
        "text_save(train_elbo, 'train_elbo_la_10.txt')\n",
        "text_save(test_elbo, 'test_elbo_la_10.txt')"
      ],
      "execution_count": 8,
      "outputs": [
        {
          "output_type": "stream",
          "text": [
            "Extracting MNIST_data/train-images-idx3-ubyte.gz\n",
            "Extracting MNIST_data/train-labels-idx1-ubyte.gz\n",
            "Extracting MNIST_data/t10k-images-idx3-ubyte.gz\n",
            "Extracting MNIST_data/t10k-labels-idx1-ubyte.gz\n",
            "Extracting MNIST_data/train-images-idx3-ubyte.gz\n",
            "Extracting MNIST_data/train-labels-idx1-ubyte.gz\n",
            "Extracting MNIST_data/t10k-images-idx3-ubyte.gz\n",
            "Extracting MNIST_data/t10k-labels-idx1-ubyte.gz\n",
            "Step 1, Train Lower likelihood: -541.067505\n",
            "Step 1, Test Lower likelihood: -541.065491\n",
            "Step 1000, Train Lower likelihood: -189.246933\n",
            "Step 1000, Test Lower likelihood: -188.103195\n",
            "Step 2000, Train Lower likelihood: -155.247681\n",
            "Step 2000, Test Lower likelihood: -154.216202\n",
            "Step 3000, Train Lower likelihood: -143.061264\n",
            "Step 3000, Test Lower likelihood: -142.533127\n",
            "Step 4000, Train Lower likelihood: -131.386551\n",
            "Step 4000, Test Lower likelihood: -130.982468\n",
            "Step 5000, Train Lower likelihood: -127.029778\n",
            "Step 5000, Test Lower likelihood: -126.741302\n",
            "Step 6000, Train Lower likelihood: -124.246613\n",
            "Step 6000, Test Lower likelihood: -124.026489\n",
            "Step 7000, Train Lower likelihood: -122.196602\n",
            "Step 7000, Test Lower likelihood: -122.069801\n",
            "Step 8000, Train Lower likelihood: -120.246613\n",
            "Step 8000, Test Lower likelihood: -120.151749\n",
            "Step 9000, Train Lower likelihood: -118.407166\n",
            "Step 9000, Test Lower likelihood: -118.257935\n",
            "Step 10000, Train Lower likelihood: -116.640198\n",
            "Step 10000, Test Lower likelihood: -116.552803\n",
            "Step 11000, Train Lower likelihood: -115.102539\n",
            "Step 11000, Test Lower likelihood: -114.961685\n",
            "Step 12000, Train Lower likelihood: -113.720497\n",
            "Step 12000, Test Lower likelihood: -113.720497\n",
            "Step 13000, Train Lower likelihood: -112.521797\n",
            "Step 13000, Test Lower likelihood: -112.489021\n",
            "Step 14000, Train Lower likelihood: -111.492226\n",
            "Step 14000, Test Lower likelihood: -111.429749\n",
            "Step 15000, Train Lower likelihood: -110.416359\n",
            "Step 15000, Test Lower likelihood: -110.400391\n",
            "Step 16000, Train Lower likelihood: -109.485939\n",
            "Step 16000, Test Lower likelihood: -109.532974\n",
            "Step 17000, Train Lower likelihood: -108.685577\n",
            "Step 17000, Test Lower likelihood: -108.626152\n",
            "Step 18000, Train Lower likelihood: -107.961914\n",
            "Step 18000, Test Lower likelihood: -108.046089\n",
            "Step 19000, Train Lower likelihood: -107.528503\n",
            "Step 19000, Test Lower likelihood: -107.637604\n",
            "Step 20000, Train Lower likelihood: -106.573647\n",
            "Step 20000, Test Lower likelihood: -106.714111\n",
            "Step 21000, Train Lower likelihood: -105.900398\n",
            "Step 21000, Test Lower likelihood: -106.043900\n",
            "Step 22000, Train Lower likelihood: -105.382149\n",
            "Step 22000, Test Lower likelihood: -105.552734\n",
            "Step 23000, Train Lower likelihood: -104.807648\n",
            "Step 23000, Test Lower likelihood: -104.955986\n",
            "Step 24000, Train Lower likelihood: -104.296608\n",
            "Step 24000, Test Lower likelihood: -104.447174\n",
            "Step 25000, Train Lower likelihood: -103.807816\n",
            "Step 25000, Test Lower likelihood: -104.000153\n",
            "Step 26000, Train Lower likelihood: -103.342926\n",
            "Step 26000, Test Lower likelihood: -103.611618\n",
            "Step 27000, Train Lower likelihood: -102.976242\n",
            "Step 27000, Test Lower likelihood: -103.227547\n",
            "Step 28000, Train Lower likelihood: -102.603302\n",
            "Step 28000, Test Lower likelihood: -102.809227\n",
            "Step 29000, Train Lower likelihood: -102.276855\n",
            "Step 29000, Test Lower likelihood: -102.634499\n",
            "Step 30000, Train Lower likelihood: -101.750298\n",
            "Step 30000, Test Lower likelihood: -102.104599\n",
            "Step 31000, Train Lower likelihood: -101.439812\n",
            "Step 31000, Test Lower likelihood: -101.672554\n",
            "Step 32000, Train Lower likelihood: -101.083527\n",
            "Step 32000, Test Lower likelihood: -101.330826\n",
            "Step 33000, Train Lower likelihood: -100.724640\n",
            "Step 33000, Test Lower likelihood: -100.990631\n",
            "Step 34000, Train Lower likelihood: -100.490059\n",
            "Step 34000, Test Lower likelihood: -100.834351\n",
            "Step 35000, Train Lower likelihood: -100.166328\n",
            "Step 35000, Test Lower likelihood: -100.526276\n",
            "Step 36000, Train Lower likelihood: -99.899025\n",
            "Step 36000, Test Lower likelihood: -100.307610\n",
            "Step 37000, Train Lower likelihood: -99.522690\n",
            "Step 37000, Test Lower likelihood: -99.935989\n",
            "Step 38000, Train Lower likelihood: -99.315208\n",
            "Step 38000, Test Lower likelihood: -99.881943\n",
            "Step 39000, Train Lower likelihood: -99.062721\n",
            "Step 39000, Test Lower likelihood: -99.513657\n",
            "Step 40000, Train Lower likelihood: -98.836784\n",
            "Step 40000, Test Lower likelihood: -99.317238\n",
            "Step 41000, Train Lower likelihood: -98.642303\n",
            "Step 41000, Test Lower likelihood: -99.195747\n",
            "Step 42000, Train Lower likelihood: -98.380508\n",
            "Step 42000, Test Lower likelihood: -98.890259\n",
            "Step 43000, Train Lower likelihood: -98.121010\n",
            "Step 43000, Test Lower likelihood: -98.630363\n",
            "Step 44000, Train Lower likelihood: -98.004128\n",
            "Step 44000, Test Lower likelihood: -98.526245\n",
            "Step 45000, Train Lower likelihood: -97.712852\n",
            "Step 45000, Test Lower likelihood: -98.256775\n",
            "Step 46000, Train Lower likelihood: -97.484589\n",
            "Step 46000, Test Lower likelihood: -98.104309\n",
            "Step 47000, Train Lower likelihood: -97.327492\n",
            "Step 47000, Test Lower likelihood: -97.852875\n",
            "Step 48000, Train Lower likelihood: -97.181885\n",
            "Step 48000, Test Lower likelihood: -97.879730\n",
            "Step 49000, Train Lower likelihood: -96.929810\n",
            "Step 49000, Test Lower likelihood: -97.670158\n",
            "Step 50000, Train Lower likelihood: -96.817314\n",
            "Step 50000, Test Lower likelihood: -97.391289\n",
            "Step 51000, Train Lower likelihood: -96.647408\n",
            "Step 51000, Test Lower likelihood: -97.316002\n",
            "Step 52000, Train Lower likelihood: -96.564590\n",
            "Step 52000, Test Lower likelihood: -97.310974\n",
            "Step 53000, Train Lower likelihood: -96.371315\n",
            "Step 53000, Test Lower likelihood: -97.045197\n",
            "Step 54000, Train Lower likelihood: -96.036552\n",
            "Step 54000, Test Lower likelihood: -96.906265\n",
            "Step 55000, Train Lower likelihood: -96.011192\n",
            "Step 55000, Test Lower likelihood: -96.793091\n"
          ],
          "name": "stdout"
        }
      ]
    },
    {
      "metadata": {
        "id": "-2YRvJRGNQv6",
        "colab_type": "code",
        "colab": {
          "base_uri": "https://localhost:8080/",
          "height": 34
        },
        "outputId": "1feb4580-2b91-4002-c12e-63a1b0ce0165"
      },
      "cell_type": "code",
      "source": [
        "with tf.Session() as sess:\n",
        "  \n",
        "    # LOAD THE MODEL\n",
        "    saver = tf.train.Saver()  \n",
        "    saver.restore(sess, path2)\n",
        "    \n",
        "    x_sample = binarize(eva_mnist.test.images[:100])\n",
        "    \n",
        "    feed_dict = {x: x_sample,}\n",
        "    \n",
        "    reconstruct_mean_la_10 = sess.run(decoder, feed_dict=feed_dict)"
      ],
      "execution_count": 23,
      "outputs": [
        {
          "output_type": "stream",
          "text": [
            "INFO:tensorflow:Restoring parameters from ./result_10/model_epch10.ckpt\n"
          ],
          "name": "stdout"
        }
      ]
    },
    {
      "metadata": {
        "id": "5PU5kXMEJjwL",
        "colab_type": "text"
      },
      "cell_type": "markdown",
      "source": [
        "### Latent dimension = 50"
      ]
    },
    {
      "metadata": {
        "id": "sYpgXzdXJqNG",
        "colab_type": "code",
        "colab": {}
      },
      "cell_type": "code",
      "source": [
        "#####################################################\n",
        "# Define model, loss, update and evaluation metric. #\n",
        "#####################################################\n",
        "\n",
        "# Global variables.\n",
        "batch_size = 100\n",
        "learning_rate = 0.01\n",
        "image_dim = 784\n",
        "hidden_dim = 500\n",
        "\n",
        "latent_dim = 50\n",
        "\n",
        "\n",
        "# Reset graph, recreate placeholders and dataset.\n",
        "tf.reset_default_graph()  # reset the tensorflow graph\n",
        "x = get_placeholders()\n",
        "\n",
        "def vari_init(shape):\n",
        "    return tf.random_normal(shape=shape, stddev=0.01, mean=0.0)\n",
        "  \n",
        "# intialize encoder parameters\n",
        "w_1_en = tf.Variable(vari_init([image_dim, hidden_dim]))\n",
        "b_1_en = tf.Variable(vari_init([hidden_dim,]))\n",
        "\n",
        "w_2_en = tf.Variable(vari_init([hidden_dim, latent_dim]))\n",
        "b_2_en = tf.Variable(vari_init([latent_dim,]))\n",
        "\n",
        "w_3_en = tf.Variable(vari_init([hidden_dim, latent_dim]))\n",
        "b_3_en = tf.Variable(vari_init([latent_dim,]))\n",
        "\n",
        "w_1_de = tf.Variable(vari_init([latent_dim, hidden_dim]))\n",
        "b_1_de = tf.Variable(vari_init([hidden_dim,]))\n",
        "\n",
        "w_2_de = tf.Variable(vari_init([hidden_dim, image_dim]))\n",
        "b_2_de = tf.Variable(vari_init([image_dim,]))\n",
        "\n",
        "encoder = tf.nn.tanh(tf.matmul(x,w_1_en) + b_1_en)\n",
        "\n",
        "z_mean = tf.matmul(encoder,w_2_en) + b_2_en\n",
        "\n",
        "z_log_var = tf.matmul(encoder,w_3_en) + b_3_en\n",
        "z_var = tf.exp(z_log_var)\n",
        "z_std = tf.sqrt(z_var)\n",
        "\n",
        "eposida = tf.random_normal(tf.shape(z_std), mean=0.0,stddev=1)\n",
        "z = z_mean + z_std*eposida\n",
        "\n",
        "inter_1 = tf.nn.tanh(tf.matmul(z,w_1_de) + b_1_de)\n",
        "decoder = tf.nn.sigmoid(tf.matmul(inter_1,w_2_de)+b_2_de)\n",
        "\n",
        "\n",
        "# Define VAE Loss\n",
        "\n",
        "def vae_loss(x_reconstructed, x_true):\n",
        "  \n",
        "    # Reconstruction loss   \n",
        "    encode_decode_loss = x_true * tf.log(1e-10 + x_reconstructed) \\\n",
        "                         + (1 - x_true) * tf.log(1e-10 + 1 - x_reconstructed)\n",
        "    encode_decode_loss = -tf.reduce_sum(encode_decode_loss, 1)\n",
        "    \n",
        "    # KL Divergence loss\n",
        "    kl_div_loss = 1 + z_log_var - tf.square(z_mean) - z_var\n",
        "    kl_div_loss = -0.5 * tf.reduce_sum(kl_div_loss, 1)\n",
        "    \n",
        "    return tf.reduce_mean(encode_decode_loss + kl_div_loss)\n",
        "\n",
        "\n",
        "loss_op = vae_loss(decoder, x)\n",
        "update = tf.train.AdagradOptimizer(learning_rate=learning_rate).minimize(loss_op)\n",
        "\n",
        "def save_model(session, path):\n",
        "    if not os.path.exists('./result_50/'):\n",
        "        os.mkdir('./result_50/')\n",
        "    saver = tf.train.Saver()\n",
        "    saver.save(session, path)\n",
        "\n",
        "path3 = './result_50/model_epch50.ckpt'"
      ],
      "execution_count": 0,
      "outputs": []
    },
    {
      "metadata": {
        "id": "03UkR6VWJ24T",
        "colab_type": "code",
        "colab": {
          "base_uri": "https://localhost:8080/",
          "height": 2150
        },
        "outputId": "7d849bb9-5807-4834-fb05-10f796246986"
      },
      "cell_type": "code",
      "source": [
        "#####################################################\n",
        "###################### Training #####################\n",
        "#####################################################\n",
        "\n",
        "mnist = get_data()        # use for training.\n",
        "eva_mnist = get_data()    # use for testing.\n",
        "\n",
        "num_epochs = 100\n",
        "i, train_elbo, test_elbo = 0, [], []\n",
        "\n",
        "init = tf.global_variables_initializer()\n",
        "\n",
        "with tf.Session() as sess:\n",
        "  \n",
        "    sess.run(init)    \n",
        "    \n",
        "    while mnist.train.epochs_completed < num_epochs:\n",
        "   \n",
        "        i += 1    \n",
        "        batch_xs, _ = mnist.train.next_batch(batch_size)\n",
        "        batch_xs_bi = binarize(batch_xs)\n",
        "        feed_dict = {x: batch_xs_bi,}\n",
        "        \n",
        "        _, trainElbo = sess.run([update, loss_op], feed_dict=feed_dict)\n",
        "        \n",
        "        if i % 1000 == 0 or i == 1:\n",
        "            \n",
        "            test = binarize(eva_mnist.test.images)\n",
        "            train = binarize(eva_mnist.train.images[:10000])\n",
        "\n",
        "            test_feed_dict = {x: test,}\n",
        "            train_feed_dict = {x: train,}\n",
        "            \n",
        "            testElbo = sess.run(loss_op, feed_dict=test_feed_dict)\n",
        "            trainElbo = sess.run(loss_op, feed_dict=train_feed_dict)\n",
        "            \n",
        "            test_elbo.append(-testElbo)\n",
        "            train_elbo.append(-trainElbo)\n",
        "\n",
        "            print('Step %i, Train Lower likelihood: %f' % (i, -trainElbo))\n",
        "            print('Step %i, Test Lower likelihood: %f' % (i, -testElbo))\n",
        "    \n",
        "    \n",
        "    save_model(sess, path3)\n",
        "    \n",
        "text_save(train_elbo, 'train_elbo_la_50.txt')\n",
        "text_save(test_elbo, 'test_elbo_la_50.txt')"
      ],
      "execution_count": 11,
      "outputs": [
        {
          "output_type": "stream",
          "text": [
            "Extracting MNIST_data/train-images-idx3-ubyte.gz\n",
            "Extracting MNIST_data/train-labels-idx1-ubyte.gz\n",
            "Extracting MNIST_data/t10k-images-idx3-ubyte.gz\n",
            "Extracting MNIST_data/t10k-labels-idx1-ubyte.gz\n",
            "Extracting MNIST_data/train-images-idx3-ubyte.gz\n",
            "Extracting MNIST_data/train-labels-idx1-ubyte.gz\n",
            "Extracting MNIST_data/t10k-images-idx3-ubyte.gz\n",
            "Extracting MNIST_data/t10k-labels-idx1-ubyte.gz\n",
            "Step 1, Train Lower likelihood: -540.933044\n",
            "Step 1, Test Lower likelihood: -540.922729\n",
            "Step 1000, Train Lower likelihood: -200.512207\n",
            "Step 1000, Test Lower likelihood: -198.504776\n",
            "Step 2000, Train Lower likelihood: -168.444244\n",
            "Step 2000, Test Lower likelihood: -167.806412\n",
            "Step 3000, Train Lower likelihood: -152.847412\n",
            "Step 3000, Test Lower likelihood: -151.900208\n",
            "Step 4000, Train Lower likelihood: -140.199554\n",
            "Step 4000, Test Lower likelihood: -139.662231\n",
            "Step 5000, Train Lower likelihood: -134.272125\n",
            "Step 5000, Test Lower likelihood: -133.566895\n",
            "Step 6000, Train Lower likelihood: -129.604385\n",
            "Step 6000, Test Lower likelihood: -129.121307\n",
            "Step 7000, Train Lower likelihood: -125.782799\n",
            "Step 7000, Test Lower likelihood: -125.413673\n",
            "Step 8000, Train Lower likelihood: -121.838753\n",
            "Step 8000, Test Lower likelihood: -121.392509\n",
            "Step 9000, Train Lower likelihood: -119.012199\n",
            "Step 9000, Test Lower likelihood: -118.434624\n",
            "Step 10000, Train Lower likelihood: -115.667435\n",
            "Step 10000, Test Lower likelihood: -115.185234\n",
            "Step 11000, Train Lower likelihood: -113.660622\n",
            "Step 11000, Test Lower likelihood: -113.092926\n",
            "Step 12000, Train Lower likelihood: -111.725609\n",
            "Step 12000, Test Lower likelihood: -111.245247\n",
            "Step 13000, Train Lower likelihood: -110.232765\n",
            "Step 13000, Test Lower likelihood: -109.873573\n",
            "Step 14000, Train Lower likelihood: -108.998322\n",
            "Step 14000, Test Lower likelihood: -108.566803\n",
            "Step 15000, Train Lower likelihood: -107.503998\n",
            "Step 15000, Test Lower likelihood: -107.137848\n",
            "Step 16000, Train Lower likelihood: -106.413147\n",
            "Step 16000, Test Lower likelihood: -106.034073\n",
            "Step 17000, Train Lower likelihood: -105.182175\n",
            "Step 17000, Test Lower likelihood: -104.859459\n",
            "Step 18000, Train Lower likelihood: -103.988785\n",
            "Step 18000, Test Lower likelihood: -103.523705\n",
            "Step 19000, Train Lower likelihood: -102.920990\n",
            "Step 19000, Test Lower likelihood: -102.649323\n",
            "Step 20000, Train Lower likelihood: -102.109604\n",
            "Step 20000, Test Lower likelihood: -101.896103\n",
            "Step 21000, Train Lower likelihood: -101.481499\n",
            "Step 21000, Test Lower likelihood: -101.125504\n",
            "Step 22000, Train Lower likelihood: -100.475471\n",
            "Step 22000, Test Lower likelihood: -100.184837\n",
            "Step 23000, Train Lower likelihood: -99.648911\n",
            "Step 23000, Test Lower likelihood: -99.433128\n",
            "Step 24000, Train Lower likelihood: -99.172615\n",
            "Step 24000, Test Lower likelihood: -98.952606\n",
            "Step 25000, Train Lower likelihood: -98.582535\n",
            "Step 25000, Test Lower likelihood: -98.213837\n",
            "Step 26000, Train Lower likelihood: -97.788673\n",
            "Step 26000, Test Lower likelihood: -97.623680\n",
            "Step 27000, Train Lower likelihood: -97.253738\n",
            "Step 27000, Test Lower likelihood: -97.025253\n",
            "Step 28000, Train Lower likelihood: -96.683022\n",
            "Step 28000, Test Lower likelihood: -96.520477\n",
            "Step 29000, Train Lower likelihood: -96.192215\n",
            "Step 29000, Test Lower likelihood: -96.119049\n",
            "Step 30000, Train Lower likelihood: -95.756813\n",
            "Step 30000, Test Lower likelihood: -95.741699\n",
            "Step 31000, Train Lower likelihood: -95.306328\n",
            "Step 31000, Test Lower likelihood: -95.211037\n",
            "Step 32000, Train Lower likelihood: -94.927963\n",
            "Step 32000, Test Lower likelihood: -94.726814\n",
            "Step 33000, Train Lower likelihood: -94.450241\n",
            "Step 33000, Test Lower likelihood: -94.419617\n",
            "Step 34000, Train Lower likelihood: -93.994629\n",
            "Step 34000, Test Lower likelihood: -93.917183\n",
            "Step 35000, Train Lower likelihood: -93.581116\n",
            "Step 35000, Test Lower likelihood: -93.578659\n",
            "Step 36000, Train Lower likelihood: -93.460770\n",
            "Step 36000, Test Lower likelihood: -93.345596\n",
            "Step 37000, Train Lower likelihood: -92.968849\n",
            "Step 37000, Test Lower likelihood: -93.023651\n",
            "Step 38000, Train Lower likelihood: -92.723465\n",
            "Step 38000, Test Lower likelihood: -92.656914\n",
            "Step 39000, Train Lower likelihood: -92.342842\n",
            "Step 39000, Test Lower likelihood: -92.271339\n",
            "Step 40000, Train Lower likelihood: -92.030228\n",
            "Step 40000, Test Lower likelihood: -92.169426\n",
            "Step 41000, Train Lower likelihood: -91.784447\n",
            "Step 41000, Test Lower likelihood: -91.782249\n",
            "Step 42000, Train Lower likelihood: -91.504761\n",
            "Step 42000, Test Lower likelihood: -91.443459\n",
            "Step 43000, Train Lower likelihood: -91.203552\n",
            "Step 43000, Test Lower likelihood: -91.336098\n",
            "Step 44000, Train Lower likelihood: -91.001846\n",
            "Step 44000, Test Lower likelihood: -91.032555\n",
            "Step 45000, Train Lower likelihood: -90.675522\n",
            "Step 45000, Test Lower likelihood: -90.641762\n",
            "Step 46000, Train Lower likelihood: -90.347183\n",
            "Step 46000, Test Lower likelihood: -90.510468\n",
            "Step 47000, Train Lower likelihood: -90.104187\n",
            "Step 47000, Test Lower likelihood: -90.369072\n",
            "Step 48000, Train Lower likelihood: -89.934677\n",
            "Step 48000, Test Lower likelihood: -90.148270\n",
            "Step 49000, Train Lower likelihood: -89.738022\n",
            "Step 49000, Test Lower likelihood: -89.961235\n",
            "Step 50000, Train Lower likelihood: -89.526085\n",
            "Step 50000, Test Lower likelihood: -89.673386\n",
            "Step 51000, Train Lower likelihood: -89.298126\n",
            "Step 51000, Test Lower likelihood: -89.495972\n",
            "Step 52000, Train Lower likelihood: -89.322563\n",
            "Step 52000, Test Lower likelihood: -89.485550\n",
            "Step 53000, Train Lower likelihood: -88.969009\n",
            "Step 53000, Test Lower likelihood: -89.152946\n",
            "Step 54000, Train Lower likelihood: -88.840492\n",
            "Step 54000, Test Lower likelihood: -89.086128\n",
            "Step 55000, Train Lower likelihood: -88.665985\n",
            "Step 55000, Test Lower likelihood: -88.868073\n"
          ],
          "name": "stdout"
        }
      ]
    },
    {
      "metadata": {
        "id": "oPxQgrUGRHES",
        "colab_type": "code",
        "colab": {
          "base_uri": "https://localhost:8080/",
          "height": 34
        },
        "outputId": "67cefa8a-f8bc-4b5c-ea2c-c89e2b9c1068"
      },
      "cell_type": "code",
      "source": [
        "with tf.Session() as sess:\n",
        "  \n",
        "    # LOAD THE MODEL\n",
        "    saver = tf.train.Saver()  \n",
        "    saver.restore(sess, path3)\n",
        "    \n",
        "    x_sample = binarize(eva_mnist.test.images[:100])\n",
        "    \n",
        "    feed_dict = {x: x_sample,}\n",
        "    \n",
        "    reconstruct_mean_la_50 = sess.run(decoder, feed_dict=feed_dict)"
      ],
      "execution_count": 25,
      "outputs": [
        {
          "output_type": "stream",
          "text": [
            "INFO:tensorflow:Restoring parameters from ./result_50/model_epch50.ckpt\n"
          ],
          "name": "stdout"
        }
      ]
    },
    {
      "metadata": {
        "id": "eD9PGslRu0z3",
        "colab_type": "text"
      },
      "cell_type": "markdown",
      "source": [
        "### Latent dimension = 200"
      ]
    },
    {
      "metadata": {
        "id": "F7-jPK4xu7Rm",
        "colab_type": "code",
        "colab": {}
      },
      "cell_type": "code",
      "source": [
        "#####################################################\n",
        "# Define model, loss, update and evaluation metric. #\n",
        "#####################################################\n",
        "\n",
        "# Global variables.\n",
        "batch_size = 100\n",
        "learning_rate = 0.01\n",
        "image_dim = 784\n",
        "hidden_dim = 500\n",
        "\n",
        "latent_dim = 200\n",
        "\n",
        "\n",
        "# Reset graph, recreate placeholders and dataset.\n",
        "tf.reset_default_graph()  # reset the tensorflow graph\n",
        "x = get_placeholders()\n",
        "\n",
        "def vari_init(shape):\n",
        "    return tf.random_normal(shape=shape, stddev=0.01, mean=0.0)\n",
        "  \n",
        "# intialize encoder parameters\n",
        "w_1_en = tf.Variable(vari_init([image_dim, hidden_dim]))\n",
        "b_1_en = tf.Variable(vari_init([hidden_dim,]))\n",
        "\n",
        "w_2_en = tf.Variable(vari_init([hidden_dim, latent_dim]))\n",
        "b_2_en = tf.Variable(vari_init([latent_dim,]))\n",
        "\n",
        "w_3_en = tf.Variable(vari_init([hidden_dim, latent_dim]))\n",
        "b_3_en = tf.Variable(vari_init([latent_dim,]))\n",
        "\n",
        "w_1_de = tf.Variable(vari_init([latent_dim, hidden_dim]))\n",
        "b_1_de = tf.Variable(vari_init([hidden_dim,]))\n",
        "\n",
        "w_2_de = tf.Variable(vari_init([hidden_dim, image_dim]))\n",
        "b_2_de = tf.Variable(vari_init([image_dim,]))\n",
        "\n",
        "encoder = tf.nn.tanh(tf.matmul(x,w_1_en) + b_1_en)\n",
        "\n",
        "z_mean = tf.matmul(encoder,w_2_en) + b_2_en\n",
        "\n",
        "z_log_var = tf.matmul(encoder,w_3_en) + b_3_en\n",
        "z_var = tf.exp(z_log_var)\n",
        "z_std = tf.sqrt(z_var)\n",
        "\n",
        "eposida = tf.random_normal(tf.shape(z_std), mean=0.0,stddev=1)\n",
        "z = z_mean + z_std*eposida\n",
        "\n",
        "inter_1 = tf.nn.tanh(tf.matmul(z,w_1_de) + b_1_de)\n",
        "decoder = tf.nn.sigmoid(tf.matmul(inter_1,w_2_de)+b_2_de)\n",
        "\n",
        "\n",
        "# Define VAE Loss\n",
        "\n",
        "def vae_loss(x_reconstructed, x_true):\n",
        "  \n",
        "    # Reconstruction loss   \n",
        "    encode_decode_loss = x_true * tf.log(1e-10 + x_reconstructed) \\\n",
        "                         + (1 - x_true) * tf.log(1e-10 + 1 - x_reconstructed)\n",
        "    encode_decode_loss = -tf.reduce_sum(encode_decode_loss, 1)\n",
        "    \n",
        "    # KL Divergence loss\n",
        "    kl_div_loss = 1 + z_log_var - tf.square(z_mean) - z_var\n",
        "    kl_div_loss = -0.5 * tf.reduce_sum(kl_div_loss, 1)\n",
        "    \n",
        "    return tf.reduce_mean(encode_decode_loss + kl_div_loss)\n",
        "\n",
        "\n",
        "loss_op = vae_loss(decoder, x)\n",
        "update = tf.train.AdagradOptimizer(learning_rate=learning_rate).minimize(loss_op)\n",
        "\n",
        "def save_model(session, path):\n",
        "    if not os.path.exists('./result_200/'):\n",
        "        os.mkdir('./result_200/')\n",
        "    saver = tf.train.Saver()\n",
        "    saver.save(session, path)\n",
        "\n",
        "path4 = './result_200/model_epch200.ckpt'"
      ],
      "execution_count": 0,
      "outputs": []
    },
    {
      "metadata": {
        "id": "kZ3aPBQrvPr9",
        "colab_type": "code",
        "colab": {
          "base_uri": "https://localhost:8080/",
          "height": 2150
        },
        "outputId": "4686769a-6d2f-486f-bbc6-bdf12b6034df"
      },
      "cell_type": "code",
      "source": [
        "#####################################################\n",
        "###################### Training #####################\n",
        "#####################################################\n",
        "\n",
        "mnist = get_data()        # use for training.\n",
        "eva_mnist = get_data()    # use for testing.\n",
        "\n",
        "num_epochs = 100\n",
        "\n",
        "i, train_elbo, test_elbo = 0, [], []\n",
        "\n",
        "init = tf.global_variables_initializer()\n",
        "\n",
        "with tf.Session() as sess:\n",
        "  \n",
        "    sess.run(init)    \n",
        "    \n",
        "    while mnist.train.epochs_completed < num_epochs:\n",
        "   \n",
        "        i += 1    \n",
        "        batch_xs, _ = mnist.train.next_batch(batch_size)\n",
        "        batch_xs_bi = binarize(batch_xs)\n",
        "        feed_dict = {x: batch_xs_bi,}\n",
        "        \n",
        "        _, trainElbo = sess.run([update, loss_op], feed_dict=feed_dict)\n",
        "        \n",
        "        if i % 1000 == 0 or i == 1:\n",
        "            \n",
        "            test = binarize(eva_mnist.test.images)\n",
        "            train = binarize(eva_mnist.train.images[:10000])\n",
        "\n",
        "            test_feed_dict = {x: test,}\n",
        "            train_feed_dict = {x: train,}\n",
        "            \n",
        "            testElbo = sess.run(loss_op, feed_dict=test_feed_dict)\n",
        "            trainElbo = sess.run(loss_op, feed_dict=train_feed_dict)\n",
        "            \n",
        "            test_elbo.append(-testElbo)\n",
        "            train_elbo.append(-trainElbo)\n",
        "            \n",
        "            print('Step %i, Train Lower likelihood: %f' % (i, -trainElbo))\n",
        "            print('Step %i, Test Lower likelihood: %f' % (i, -testElbo))\n",
        "    \n",
        "    \n",
        "    save_model(sess, path4)\n",
        "    \n",
        "text_save(train_elbo, './train_elbo_la_200.txt')\n",
        "text_save(test_elbo, './test_elbo_la_200.txt')"
      ],
      "execution_count": 14,
      "outputs": [
        {
          "output_type": "stream",
          "text": [
            "Extracting MNIST_data/train-images-idx3-ubyte.gz\n",
            "Extracting MNIST_data/train-labels-idx1-ubyte.gz\n",
            "Extracting MNIST_data/t10k-images-idx3-ubyte.gz\n",
            "Extracting MNIST_data/t10k-labels-idx1-ubyte.gz\n",
            "Extracting MNIST_data/train-images-idx3-ubyte.gz\n",
            "Extracting MNIST_data/train-labels-idx1-ubyte.gz\n",
            "Extracting MNIST_data/t10k-images-idx3-ubyte.gz\n",
            "Extracting MNIST_data/t10k-labels-idx1-ubyte.gz\n",
            "Step 1, Train Lower likelihood: -541.041626\n",
            "Step 1, Test Lower likelihood: -541.027222\n",
            "Step 1000, Train Lower likelihood: -182.318619\n",
            "Step 1000, Test Lower likelihood: -181.425430\n",
            "Step 2000, Train Lower likelihood: -155.423569\n",
            "Step 2000, Test Lower likelihood: -154.751633\n",
            "Step 3000, Train Lower likelihood: -140.648407\n",
            "Step 3000, Test Lower likelihood: -140.219406\n",
            "Step 4000, Train Lower likelihood: -131.661957\n",
            "Step 4000, Test Lower likelihood: -131.173981\n",
            "Step 5000, Train Lower likelihood: -124.499153\n",
            "Step 5000, Test Lower likelihood: -124.065903\n",
            "Step 6000, Train Lower likelihood: -121.694176\n",
            "Step 6000, Test Lower likelihood: -121.206612\n",
            "Step 7000, Train Lower likelihood: -116.024841\n",
            "Step 7000, Test Lower likelihood: -115.747902\n",
            "Step 8000, Train Lower likelihood: -113.334297\n",
            "Step 8000, Test Lower likelihood: -112.769760\n",
            "Step 9000, Train Lower likelihood: -110.614799\n",
            "Step 9000, Test Lower likelihood: -110.098648\n",
            "Step 10000, Train Lower likelihood: -108.463776\n",
            "Step 10000, Test Lower likelihood: -108.181984\n",
            "Step 11000, Train Lower likelihood: -106.479210\n",
            "Step 11000, Test Lower likelihood: -106.280663\n",
            "Step 12000, Train Lower likelihood: -104.710785\n",
            "Step 12000, Test Lower likelihood: -104.519409\n",
            "Step 13000, Train Lower likelihood: -103.473961\n",
            "Step 13000, Test Lower likelihood: -103.169395\n",
            "Step 14000, Train Lower likelihood: -102.146622\n",
            "Step 14000, Test Lower likelihood: -101.820396\n",
            "Step 15000, Train Lower likelihood: -101.160851\n",
            "Step 15000, Test Lower likelihood: -100.825386\n",
            "Step 16000, Train Lower likelihood: -100.039528\n",
            "Step 16000, Test Lower likelihood: -99.848450\n",
            "Step 17000, Train Lower likelihood: -99.129860\n",
            "Step 17000, Test Lower likelihood: -98.993652\n",
            "Step 18000, Train Lower likelihood: -98.233765\n",
            "Step 18000, Test Lower likelihood: -98.101921\n",
            "Step 19000, Train Lower likelihood: -97.421959\n",
            "Step 19000, Test Lower likelihood: -97.419785\n",
            "Step 20000, Train Lower likelihood: -96.756195\n",
            "Step 20000, Test Lower likelihood: -96.612228\n",
            "Step 21000, Train Lower likelihood: -96.032410\n",
            "Step 21000, Test Lower likelihood: -95.911278\n",
            "Step 22000, Train Lower likelihood: -95.452690\n",
            "Step 22000, Test Lower likelihood: -95.327461\n",
            "Step 23000, Train Lower likelihood: -94.863052\n",
            "Step 23000, Test Lower likelihood: -94.770561\n",
            "Step 24000, Train Lower likelihood: -94.290977\n",
            "Step 24000, Test Lower likelihood: -94.275017\n",
            "Step 25000, Train Lower likelihood: -93.989426\n",
            "Step 25000, Test Lower likelihood: -93.828346\n",
            "Step 26000, Train Lower likelihood: -93.437172\n",
            "Step 26000, Test Lower likelihood: -93.429077\n",
            "Step 27000, Train Lower likelihood: -93.035858\n",
            "Step 27000, Test Lower likelihood: -92.934364\n",
            "Step 28000, Train Lower likelihood: -92.547409\n",
            "Step 28000, Test Lower likelihood: -92.543327\n",
            "Step 29000, Train Lower likelihood: -92.212349\n",
            "Step 29000, Test Lower likelihood: -92.177559\n",
            "Step 30000, Train Lower likelihood: -92.049881\n",
            "Step 30000, Test Lower likelihood: -92.176620\n",
            "Step 31000, Train Lower likelihood: -91.500946\n",
            "Step 31000, Test Lower likelihood: -91.589539\n",
            "Step 32000, Train Lower likelihood: -91.437561\n",
            "Step 32000, Test Lower likelihood: -91.564415\n",
            "Step 33000, Train Lower likelihood: -91.088593\n",
            "Step 33000, Test Lower likelihood: -91.119049\n",
            "Step 34000, Train Lower likelihood: -90.796074\n",
            "Step 34000, Test Lower likelihood: -90.854385\n",
            "Step 35000, Train Lower likelihood: -90.471725\n",
            "Step 35000, Test Lower likelihood: -90.675758\n",
            "Step 36000, Train Lower likelihood: -90.200546\n",
            "Step 36000, Test Lower likelihood: -90.316391\n",
            "Step 37000, Train Lower likelihood: -89.992706\n",
            "Step 37000, Test Lower likelihood: -90.211357\n",
            "Step 38000, Train Lower likelihood: -89.863289\n",
            "Step 38000, Test Lower likelihood: -89.861641\n",
            "Step 39000, Train Lower likelihood: -89.711540\n",
            "Step 39000, Test Lower likelihood: -89.759384\n",
            "Step 40000, Train Lower likelihood: -89.354057\n",
            "Step 40000, Test Lower likelihood: -89.493484\n",
            "Step 41000, Train Lower likelihood: -89.041939\n",
            "Step 41000, Test Lower likelihood: -89.253059\n",
            "Step 42000, Train Lower likelihood: -89.159576\n",
            "Step 42000, Test Lower likelihood: -89.209358\n",
            "Step 43000, Train Lower likelihood: -88.820114\n",
            "Step 43000, Test Lower likelihood: -88.937439\n",
            "Step 44000, Train Lower likelihood: -88.498764\n",
            "Step 44000, Test Lower likelihood: -88.778870\n",
            "Step 45000, Train Lower likelihood: -88.514778\n",
            "Step 45000, Test Lower likelihood: -88.639862\n",
            "Step 46000, Train Lower likelihood: -88.276924\n",
            "Step 46000, Test Lower likelihood: -88.424980\n",
            "Step 47000, Train Lower likelihood: -88.115341\n",
            "Step 47000, Test Lower likelihood: -88.423553\n",
            "Step 48000, Train Lower likelihood: -87.901474\n",
            "Step 48000, Test Lower likelihood: -88.228516\n",
            "Step 49000, Train Lower likelihood: -87.795616\n",
            "Step 49000, Test Lower likelihood: -88.083374\n",
            "Step 50000, Train Lower likelihood: -87.676834\n",
            "Step 50000, Test Lower likelihood: -87.870102\n",
            "Step 51000, Train Lower likelihood: -87.550728\n",
            "Step 51000, Test Lower likelihood: -87.900528\n",
            "Step 52000, Train Lower likelihood: -87.374352\n",
            "Step 52000, Test Lower likelihood: -87.672012\n",
            "Step 53000, Train Lower likelihood: -87.271942\n",
            "Step 53000, Test Lower likelihood: -87.586205\n",
            "Step 54000, Train Lower likelihood: -87.168205\n",
            "Step 54000, Test Lower likelihood: -87.478951\n",
            "Step 55000, Train Lower likelihood: -87.016953\n",
            "Step 55000, Test Lower likelihood: -87.257729\n"
          ],
          "name": "stdout"
        }
      ]
    },
    {
      "metadata": {
        "id": "5NjyZV6TwYT0",
        "colab_type": "code",
        "colab": {
          "base_uri": "https://localhost:8080/",
          "height": 34
        },
        "outputId": "9d8ca211-3b39-4112-8191-09e2b56f593b"
      },
      "cell_type": "code",
      "source": [
        "with tf.Session() as sess:\n",
        "  \n",
        "    # LOAD THE MODEL\n",
        "    saver = tf.train.Saver()  \n",
        "    saver.restore(sess, path4)\n",
        "    \n",
        "    x_sample = binarize(eva_mnist.test.images[:100])\n",
        "    \n",
        "    feed_dict = {x: x_sample,}\n",
        "    \n",
        "    reconstruct_mean_la_100 = sess.run(decoder, feed_dict=feed_dict)"
      ],
      "execution_count": 32,
      "outputs": [
        {
          "output_type": "stream",
          "text": [
            "INFO:tensorflow:Restoring parameters from ./result_200/model_epch200.ckpt\n"
          ],
          "name": "stdout"
        }
      ]
    },
    {
      "metadata": {
        "id": "WkBZnY1ou-4s",
        "colab_type": "text"
      },
      "cell_type": "markdown",
      "source": [
        "## Results"
      ]
    },
    {
      "metadata": {
        "id": "dzZZfbglRIKA",
        "colab_type": "code",
        "colab": {}
      },
      "cell_type": "code",
      "source": [
        "update_step = []\n",
        "for i in range(55000):\n",
        "  if i % 1000 == 0 or i == 1:\n",
        "    update_step.append(i)"
      ],
      "execution_count": 0,
      "outputs": []
    },
    {
      "metadata": {
        "id": "0R-_JcJkxzWg",
        "colab_type": "code",
        "colab": {}
      },
      "cell_type": "code",
      "source": [
        "train_elbo_la_200 = text_read('./numerical_result/train_elbo_la_200.txt')\n",
        "test_elbo_la_200 = text_read('./numerical_result/test_elbo_la_200.txt')\n",
        "train_elbo_la_200 = [float(elbo) for elbo in train_elbo_la_200]\n",
        "test_elbo_la_200 = [float(elbo) for elbo in test_elbo_la_200]\n",
        "\n",
        "train_elbo_la_50 = text_read('./numerical_result/train_elbo_la_50.txt')\n",
        "test_elbo_la_50 = text_read('./numerical_result/test_elbo_la_50.txt')\n",
        "train_elbo_la_50 = [float(elbo) for elbo in train_elbo_la_50]\n",
        "test_elbo_la_50 = [float(elbo) for elbo in test_elbo_la_50]\n",
        "\n",
        "train_elbo_la_10 = text_read('./numerical_result/train_elbo_la_10.txt')\n",
        "test_elbo_la_10 = text_read('./numerical_result/test_elbo_la_10.txt')\n",
        "train_elbo_la_10 = [float(elbo) for elbo in train_elbo_la_10]\n",
        "test_elbo_la_10 = [float(elbo) for elbo in test_elbo_la_10]\n",
        "\n",
        "train_elbo_la_5 = text_read('./numerical_result/train_elbo_la_5.txt')\n",
        "test_elbo_la_5 = text_read('./numerical_result/test_elbo_la_5.txt')\n",
        "train_elbo_la_5 = [float(elbo) for elbo in train_elbo_la_5]\n",
        "test_elbo_la_5 = [float(elbo) for elbo in test_elbo_la_5]"
      ],
      "execution_count": 0,
      "outputs": []
    },
    {
      "metadata": {
        "id": "OLKFpDrGOYAM",
        "colab_type": "code",
        "colab": {
          "base_uri": "https://localhost:8080/",
          "height": 393
        },
        "outputId": "1b3a1854-df64-40c0-c96d-f51c7e67a354"
      },
      "cell_type": "code",
      "source": [
        "import numpy as np\n",
        "import matplotlib.pyplot as plt\n",
        " \n",
        "x=[0,1]\n",
        "y=[0,1]\n",
        " \n",
        "plt.figure()\n",
        "plt.plot(x,y)\n",
        "plt.xlabel(\"time(s)\")\n",
        "plt.ylabel(\"value(m)\")\n",
        "plt.title(\"A simple plot\")\n"
      ],
      "execution_count": 6,
      "outputs": [
        {
          "output_type": "execute_result",
          "data": {
            "text/plain": [
              "Text(0.5,1,u'A simple plot')"
            ]
          },
          "metadata": {
            "tags": []
          },
          "execution_count": 6
        },
        {
          "output_type": "display_data",
          "data": {
            "image/png": "[encoded data removed]",
            "text/plain": [
              "<matplotlib.figure.Figure at 0x7f69467d0cd0>"
            ]
          },
          "metadata": {
            "tags": []
          }
        }
      ]
    },
    {
      "metadata": {
        "id": "1KQnMa-fHTcS",
        "colab_type": "code",
        "colab": {
          "base_uri": "https://localhost:8080/",
          "height": 323
        },
        "outputId": "3aa2a683-6107-46d2-e251-0cd103970bf5"
      },
      "cell_type": "code",
      "source": [
        "plt.figure(figsize=(6,5))\n",
        "\n",
        "plt.rcParams['axes.edgecolor'] = 'red'\n",
        "\n",
        "plt.plot(update_step,train_elbo_la_200, '-', color='C0', linewidth=1.0, label=\"Train-200\")\n",
        "plt.plot(update_step,test_elbo_la_200, '-.',color='C0', linewidth=1.0, label=\"Test-200\")\n",
        "\n",
        "plt.plot(update_step,train_elbo_la_50, '-', color='C1', linewidth=1.0, label=\"Train-50\")\n",
        "plt.plot(update_step,test_elbo_la_50, '-.', color='C1', linewidth=1.0, label=\"Test-50\")\n",
        "\n",
        "plt.plot(update_step,train_elbo_la_10, '-', color='C8', linewidth=1.0, label=\"Train-10\")\n",
        "plt.plot(update_step,test_elbo_la_10, '-.', color='C8', linewidth=1.0, label=\"Test-10\")\n",
        "\n",
        "plt.plot(update_step,train_elbo_la_5, '-', color='C5', linewidth=1.0, label=\"Train-5\")\n",
        "plt.plot(update_step,test_elbo_la_5, '-.', color='C5', linewidth=1.0, label=\"Test-5\")\n",
        "\n",
        "plt.ylim((-180, -80))\n",
        "plt.xlim((0, 55000))\n",
        "\n",
        "# ax = plt.gca()\n",
        "# ax.spines['bottom'].set_color('black')\n",
        "# ax.spines['top'].set_color('black')\n",
        "# ax.spines['right'].set_color('black')\n",
        "# ax.spines['left'].set_color('black')\n",
        "\n",
        "\n",
        "# ax.xaxis.set_ticks_position('bottom')\n",
        "# ax.yaxis.set_ticks_position('left')\n",
        "\n",
        "# ax.spines['bottom'].set_position(('data', -180))\n",
        "# ax.spines['left'].set_position(('data', 0))\n",
        "\n",
        "#plt.legend(bbox_to_anchor=(1.05, 1), loc=2, borderaxespad=1)\n",
        "\n",
        "#plt.legend(['Train-200', 'Test-200', 'Train-50', 'Test-50', 'Train-10', 'Test-10', 'Train-5', 'Test-5'], fontsize=10, frameon=True) \n",
        "\n",
        "plt.grid(False)\n",
        "\n",
        "plt.show()"
      ],
      "execution_count": 29,
      "outputs": [
        {
          "output_type": "display_data",
          "data": {
            "image/png": "[encoded data removed]",
            "text/plain": [
              "<matplotlib.figure.Figure at 0x7f86f41de590>"
            ]
          },
          "metadata": {
            "tags": []
          }
        }
      ]
    },
    {
      "metadata": {
        "id": "hyTi7ix7UoU9",
        "colab_type": "code",
        "colab": {
          "base_uri": "https://localhost:8080/",
          "height": 144
        },
        "outputId": "8a7ed16a-8bd7-4e8f-b970-3b167ca758a8"
      },
      "cell_type": "code",
      "source": [
        "i = 62\n",
        "\n",
        "plt.subplot(1,5,1)   \n",
        "im_recon = np.reshape(reconstruct_mean_la_5[i], (28,28))\n",
        "plt.imshow(im_recon,cmap=\"gray\")\n",
        "plt.grid(False)\n",
        "plt.axis('off')\n",
        "\n",
        "plt.subplot(1,5,2)   \n",
        "im_recon = np.reshape(reconstruct_mean_la_10[i], (28,28))\n",
        "plt.imshow(im_recon,cmap=\"gray\")\n",
        "plt.grid(False)\n",
        "plt.axis('off')\n",
        "\n",
        "plt.subplot(1,5,3)   \n",
        "im_recon = np.reshape(reconstruct_mean_la_50[i], (28,28))\n",
        "plt.imshow(im_recon,cmap=\"gray\")\n",
        "plt.grid(False)\n",
        "plt.axis('off')\n",
        "\n",
        "plt.subplot(1,5,4)   \n",
        "im_recon = np.reshape(reconstruct_mean_la_100[i], (28,28))\n",
        "plt.imshow(im_recon,cmap=\"gray\")\n",
        "plt.grid(False)\n",
        "plt.axis('off')\n",
        "\n",
        "plt.subplot(1,5,5)  \n",
        "im_recon = np.reshape(binarize(x_sample[i]), (28,28))\n",
        "plt.imshow(im_recon, cmap=\"gray\")\n",
        "plt.grid(False)\n",
        "plt.axis('off')"
      ],
      "execution_count": 38,
      "outputs": [
        {
          "output_type": "execute_result",
          "data": {
            "text/plain": [
              "(-0.5, 27.5, 27.5, -0.5)"
            ]
          },
          "metadata": {
            "tags": []
          },
          "execution_count": 38
        },
        {
          "output_type": "display_data",
          "data": {
            "image/png": "[encoded data removed]",
            "text/plain": [
              "<matplotlib.figure.Figure at 0x7f86f206da50>"
            ]
          },
          "metadata": {
            "tags": []
          }
        }
      ]
    },
    {
      "metadata": {
        "id": "S0DeybbLayA0",
        "colab_type": "code",
        "colab": {
          "base_uri": "https://localhost:8080/",
          "height": 1122
        },
        "outputId": "b3382ca3-339c-4cd5-a76c-8880f01f1bde"
      },
      "cell_type": "code",
      "source": [
        "idlist = [62, 84, 97, 21, 52, 24, 30, 38, 14, 3]\n",
        "model_num = 5\n",
        "sample_num = 10\n",
        "\n",
        "i = 0\n",
        "\n",
        "fig = plt.figure(figsize=(8,20))          # 创建一个figure对象，底下的一切显示均在此figure上完成\n",
        "\n",
        "for idd in idlist:\n",
        "\n",
        "  plt.subplot(sample_num,model_num,1+i)   \n",
        "  im_recon = np.reshape(reconstruct_mean_la_5[idd], (28,28))\n",
        "  plt.imshow(im_recon,cmap=\"gray\")\n",
        "  plt.grid(False)\n",
        "  plt.axis('off')\n",
        "\n",
        "  plt.subplot(sample_num,model_num,2+i)   \n",
        "  im_recon = np.reshape(reconstruct_mean_la_10[idd], (28,28))\n",
        "  plt.imshow(im_recon,cmap=\"gray\")\n",
        "  plt.grid(False)\n",
        "  plt.axis('off')\n",
        "\n",
        "\n",
        "  plt.subplot(sample_num,model_num,3+i)   \n",
        "  im_recon = np.reshape(reconstruct_mean_la_50[idd], (28,28))\n",
        "  plt.imshow(im_recon,cmap=\"gray\")\n",
        "  plt.grid(False)\n",
        "  plt.axis('off')\n",
        "  \n",
        "  plt.subplot(sample_num,model_num,4+i)   \n",
        "  im_recon = np.reshape(reconstruct_mean_la_100[idd], (28,28))\n",
        "  plt.imshow(im_recon,cmap=\"gray\")\n",
        "  plt.grid(False)\n",
        "  plt.axis('off')\n",
        "\n",
        "\n",
        "  plt.subplot(sample_num,model_num,5+i)  \n",
        "  im_recon = np.reshape(binarize(x_sample[idd]), (28,28))\n",
        "  plt.imshow(im_recon, cmap=\"gray\")\n",
        "  plt.grid(False)\n",
        "  plt.axis('off')\n",
        "  \n",
        "  i = i+5\n",
        "  \n",
        "plt.show()"
      ],
      "execution_count": 34,
      "outputs": [
        {
          "output_type": "display_data",
          "data": {
            "image/png": "[encoded data removed]",
            "text/plain": [
              "<matplotlib.figure.Figure at 0x7f86f7b3ab10>"
            ]
          },
          "metadata": {
            "tags": []
          }
        }
      ]
    },
    {
      "metadata": {
        "id": "eUfHkVjfLjYq",
        "colab_type": "code",
        "colab": {
          "base_uri": "https://localhost:8080/",
          "height": 266
        },
        "outputId": "349680e8-4c54-4b97-fa36-dd9396b7e714"
      },
      "cell_type": "code",
      "source": [
        "i = 20\n",
        "plt.subplot(1,2,1)\n",
        "plt.title('reconstructed image')   \n",
        "im_recon = np.reshape(reconstruct_mean[i], (28,28))\n",
        "plt.imshow(im_recon,cmap=\"gray\")\n",
        "\n",
        "\n",
        "plt.subplot(1,2,2)\n",
        "plt.title('ground truth image')   \n",
        "im_recon = np.reshape(x_sample[i], (28,28))\n",
        "plt.imshow(im_recon, cmap=\"gray\")\n",
        "plt.show()"
      ],
      "execution_count": 53,
      "outputs": [
        {
          "output_type": "display_data",
          "data": {
            "image/png": "[encoded data removed]",
            "text/plain": [
              "<matplotlib.figure.Figure at 0x7f871e7c6550>"
            ]
          },
          "metadata": {
            "tags": []
          }
        }
      ]
    },
    {
      "metadata": {
        "id": "m7y8SDzw1Im8",
        "colab_type": "code",
        "colab": {
          "base_uri": "https://localhost:8080/",
          "height": 266
        },
        "outputId": "b32d3fde-9138-46a7-885e-f9d7b48d422f"
      },
      "cell_type": "code",
      "source": [
        "i = 2\n",
        "plt.subplot(1,2,1)\n",
        "plt.title('reconstructed image')   \n",
        "im_recon = np.reshape(reconstruct_mean[i], (28,28))\n",
        "plt.imshow(im_recon,cmap=\"gray\")\n",
        "\n",
        "\n",
        "plt.subplot(1,2,2)\n",
        "plt.title('ground truth image')   \n",
        "im_recon = np.reshape(x_sample[i], (28,28))\n",
        "plt.imshow(im_recon,cmap=\"gray\")\n",
        "plt.show()"
      ],
      "execution_count": 27,
      "outputs": [
        {
          "output_type": "display_data",
          "data": {
            "image/png": "[encoded data removed]",
            "text/plain": [
              "<matplotlib.figure.Figure at 0x7f875949b780>"
            ]
          },
          "metadata": {
            "tags": []
          }
        }
      ]
    },
    {
      "metadata": {
        "id": "LMqkaf2r1Im-",
        "colab_type": "code",
        "colab": {
          "base_uri": "https://localhost:8080/",
          "height": 266
        },
        "outputId": "4008ac6e-a42d-491e-eb4f-85a3d09d9bc6"
      },
      "cell_type": "code",
      "source": [
        "i = 68\n",
        "plt.subplot(1,2,1)\n",
        "plt.title('reconstructed image')   \n",
        "im_recon = np.reshape(reconstruct_mean[i], (28,28))\n",
        "plt.imshow(im_recon,cmap=\"gray\")\n",
        "\n",
        "\n",
        "plt.subplot(1,2,2)\n",
        "plt.title('ground truth image')   \n",
        "im_recon = np.reshape(x_sample[i], (28,28))\n",
        "plt.imshow(im_recon,cmap=\"gray\")\n",
        "plt.show()"
      ],
      "execution_count": 105,
      "outputs": [
        {
          "output_type": "display_data",
          "data": {
            "image/png": "[encoded data removed]",
            "text/plain": [
              "<matplotlib.figure.Figure at 0x7f871b7dad68>"
            ]
          },
          "metadata": {
            "tags": []
          }
        }
      ]
    },
    {
      "metadata": {
        "id": "E_b6I9j51InC",
        "colab_type": "code",
        "colab": {
          "base_uri": "https://localhost:8080/",
          "height": 266
        },
        "outputId": "f8e88986-a47b-49ce-da0d-8c001c80225c"
      },
      "cell_type": "code",
      "source": [
        "i = 3\n",
        "plt.subplot(1,2,1)\n",
        "plt.title('reconstructed image')   \n",
        "im_recon = np.reshape(reconstruct_mean[i], (28,28))\n",
        "plt.imshow(im_recon,cmap=\"gray\")\n",
        "\n",
        "\n",
        "plt.subplot(1,2,2)\n",
        "plt.title('ground truth image')   \n",
        "im_recon = np.reshape(x_sample[i], (28,28))\n",
        "plt.imshow(im_recon,cmap=\"gray\")\n",
        "plt.show()"
      ],
      "execution_count": 29,
      "outputs": [
        {
          "output_type": "display_data",
          "data": {
            "image/png": "[encoded data removed]",
            "text/plain": [
              "<matplotlib.figure.Figure at 0x7f871b8214e0>"
            ]
          },
          "metadata": {
            "tags": []
          }
        }
      ]
    },
    {
      "metadata": {
        "id": "Ep8ITd1O1InH",
        "colab_type": "code",
        "colab": {
          "base_uri": "https://localhost:8080/",
          "height": 266
        },
        "outputId": "2288ca76-62f5-44a1-f9b6-cb58414befc1"
      },
      "cell_type": "code",
      "source": [
        "i = 9\n",
        "plt.subplot(1,2,1)\n",
        "plt.title('reconstructed image')   \n",
        "im_recon = np.reshape(reconstruct_mean[i], (28,28))\n",
        "plt.imshow(im_recon,cmap=\"gray\")\n",
        "\n",
        "\n",
        "plt.subplot(1,2,2)\n",
        "plt.title('ground truth image')   \n",
        "im_recon = np.reshape(x_sample[i], (28,28))\n",
        "plt.imshow(im_recon,cmap=\"gray\")\n",
        "plt.show()"
      ],
      "execution_count": 78,
      "outputs": [
        {
          "output_type": "display_data",
          "data": {
            "image/png": "[encoded data removed]",
            "text/plain": [
              "<matplotlib.figure.Figure at 0x7f875937f710>"
            ]
          },
          "metadata": {
            "tags": []
          }
        }
      ]
    },
    {
      "metadata": {
        "id": "JL-tnxwj8o47",
        "colab_type": "code",
        "colab": {
          "base_uri": "https://localhost:8080/",
          "height": 272
        },
        "outputId": "80578030-cec6-4ce3-ebc8-6b2cc4dff5a2"
      },
      "cell_type": "code",
      "source": [
        "i = 42\n",
        "plt.subplot(1,2,1)\n",
        "plt.title('Reconstructed Image', fontsize=20)   \n",
        "im_recon = np.reshape(reconstruct_mean[i], (28,28))\n",
        "plt.imshow(im_recon,cmap=\"gray\")\n",
        "\n",
        "\n",
        "plt.subplot(1,2,2)\n",
        "plt.title('Ground Truth Image', fontsize=20)   \n",
        "im_recon = np.reshape(x_sample[i], (28,28))\n",
        "plt.imshow(im_recon,cmap=\"gray\")\n",
        "plt.show()"
      ],
      "execution_count": 109,
      "outputs": [
        {
          "output_type": "display_data",
          "data": {
            "image/png": "[encoded data removed]",
            "text/plain": [
              "<matplotlib.figure.Figure at 0x7f871e8c8828>"
            ]
          },
          "metadata": {
            "tags": []
          }
        }
      ]
    },
    {
      "metadata": {
        "id": "wjVtMwPx8tYu",
        "colab_type": "code",
        "colab": {
          "base_uri": "https://localhost:8080/",
          "height": 266
        },
        "outputId": "d3194f12-2821-4f35-a183-64bf5d2c30f8"
      },
      "cell_type": "code",
      "source": [
        "i = 97\n",
        "plt.subplot(1,2,1)\n",
        "plt.title('reconstructed image')   \n",
        "im_recon = np.reshape(reconstruct_mean[i], (28,28))\n",
        "plt.imshow(im_recon,cmap=\"gray\")\n",
        "\n",
        "\n",
        "plt.subplot(1,2,2)\n",
        "plt.title('ground truth image')   \n",
        "im_recon = np.reshape(x_sample[i], (28,28))\n",
        "plt.imshow(im_recon,cmap=\"gray\")\n",
        "plt.show()"
      ],
      "execution_count": 85,
      "outputs": [
        {
          "output_type": "display_data",
          "data": {
            "image/png": "[encoded data removed]",
            "text/plain": [
              "<matplotlib.figure.Figure at 0x7f871b618c50>"
            ]
          },
          "metadata": {
            "tags": []
          }
        }
      ]
    }
  ]
}