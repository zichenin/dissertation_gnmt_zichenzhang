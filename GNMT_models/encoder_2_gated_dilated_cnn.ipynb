{
  "nbformat": 4,
  "nbformat_minor": 0,
  "metadata": {
    "colab": {
      "name": "Gene_translation_cnn_0812.ipynb",
      "version": "0.3.2",
      "provenance": [],
      "collapsed_sections": [
        "lq37O5wR21AC",
        "BSBf8rYS9hX9",
        "gJjC0NuO9oE4"
      ]
    },
    "kernelspec": {
      "display_name": "Python 3",
      "language": "python",
      "name": "python3"
    },
    "accelerator": "GPU"
  },
  "cells": [
    {
      "metadata": {
        "id": "rMcrrnEBsjy3",
        "colab_type": "text"
      },
      "cell_type": "markdown",
      "source": [
        "## Set up the drive path"
      ]
    },
    {
      "metadata": {
        "id": "66FgEFRN-AMY",
        "colab_type": "code",
        "colab": {}
      },
      "cell_type": "code",
      "source": [
        "# !apt-get install -y -qq software-properties-common python-software-properties module-init-tools\n",
        "# !add-apt-repository -y ppa:alessandro-strada/ppa 2>&1 > /dev/null\n",
        "# !apt-get update -qq 2>&1 > /dev/null\n",
        "# !apt-get -y install -qq google-drive-ocamlfuse fuse\n",
        "# from google.colab import auth\n",
        "# auth.authenticate_user()\n",
        "# from oauth2client.client import GoogleCredentials\n",
        "# creds = GoogleCredentials.get_application_default()\n",
        "# import getpass\n",
        "# !google-drive-ocamlfuse -headless -id={creds.client_id} -secret={creds.client_secret} < /dev/null 2>&1 | grep URL\n",
        "# vcode = getpass.getpass()\n",
        "# !echo {vcode} | google-drive-ocamlfuse -headless -id={creds.client_id} -secret={creds.client_secret}"
      ],
      "execution_count": 0,
      "outputs": []
    },
    {
      "metadata": {
        "id": "SWRjvljv-GT1",
        "colab_type": "code",
        "colab": {}
      },
      "cell_type": "code",
      "source": [
        "# !mkdir -p drive\n",
        "# !google-drive-ocamlfuse drive"
      ],
      "execution_count": 0,
      "outputs": []
    },
    {
      "metadata": {
        "id": "Vn79dig8uT8B",
        "colab_type": "code",
        "colab": {
          "base_uri": "https://localhost:8080/",
          "height": 34
        },
        "outputId": "a9150b16-8f06-4b76-d259-c16fc2c3eead"
      },
      "cell_type": "code",
      "source": [
        "ls"
      ],
      "execution_count": 3,
      "outputs": [
        {
          "output_type": "stream",
          "text": [
            "\u001b[0m\u001b[01;34mdatalab\u001b[0m/  \u001b[01;34mdrive\u001b[0m/\r\n"
          ],
          "name": "stdout"
        }
      ]
    },
    {
      "metadata": {
        "id": "3MTeUgeB-seY",
        "colab_type": "code",
        "colab": {
          "base_uri": "https://localhost:8080/",
          "height": 34
        },
        "outputId": "ce0fa746-34a9-46e8-b4fb-9fa200c83737"
      },
      "cell_type": "code",
      "source": [
        "cd drive/encoder_2_GDCNN_300_dropout_08"
      ],
      "execution_count": 4,
      "outputs": [
        {
          "output_type": "stream",
          "text": [
            "/content/drive/encoder_2_GDCNN_300_dropout_08\n"
          ],
          "name": "stdout"
        }
      ]
    },
    {
      "metadata": {
        "id": "B12HWS4xsx4b",
        "colab_type": "text"
      },
      "cell_type": "markdown",
      "source": [
        "## Import Library"
      ]
    },
    {
      "metadata": {
        "id": "Ly79OANzc7RS",
        "colab_type": "code",
        "colab": {}
      },
      "cell_type": "code",
      "source": [
        "import collections\n",
        "import os\n",
        "import sys\n",
        "\n",
        "import tensorflow as tf\n",
        "import numpy as np\n",
        "\n",
        "from tensorflow.contrib.seq2seq import sequence_loss\n",
        "\n",
        "import math\n",
        "import re\n",
        "import matplotlib.pyplot as plt\n",
        "\n",
        "import pickle\n",
        "\n",
        "!pip install -q mosestokenizer\n",
        "from mosestokenizer import *\n",
        "\n",
        "from nltk.translate.bleu_score import sentence_bleu\n",
        "\n",
        "\n",
        "from scipy.stats import multivariate_normal\n",
        "from scipy.stats import norm\n",
        "import copy"
      ],
      "execution_count": 0,
      "outputs": []
    },
    {
      "metadata": {
        "id": "842o8uvRtBnF",
        "colab_type": "text"
      },
      "cell_type": "markdown",
      "source": [
        "## Data Pre-processing"
      ]
    },
    {
      "metadata": {
        "id": "wjDy6-mfnnit",
        "colab_type": "code",
        "colab": {}
      },
      "cell_type": "code",
      "source": [
        "## load vocab dict from txt file\n",
        "\n",
        "f = open(\"../dictionary 2/en_word_to_id.txt\", \"rb\")\n",
        "en_word_to_id = pickle.load(f)\n",
        "f.close()\n",
        "\n",
        "f = open(\"../dictionary 2/fr_word_to_id.txt\", \"rb\")\n",
        "fr_word_to_id = pickle.load(f)\n",
        "f.close()"
      ],
      "execution_count": 0,
      "outputs": []
    },
    {
      "metadata": {
        "id": "TuETWPMbu2Yj",
        "colab_type": "code",
        "colab": {
          "base_uri": "https://localhost:8080/",
          "height": 52
        },
        "outputId": "9e5f4878-4867-486e-e240-121bcecfb268"
      },
      "cell_type": "code",
      "source": [
        "en_vocab_size = len(en_word_to_id)\n",
        "fr_vocab_size = len(fr_word_to_id)\n",
        "\n",
        "en_eos = en_word_to_id['eos']\n",
        "fr_eos = fr_word_to_id['eos']\n",
        "\n",
        "print(en_vocab_size)\n",
        "print(fr_vocab_size)"
      ],
      "execution_count": 7,
      "outputs": [
        {
          "output_type": "stream",
          "text": [
            "30772\n",
            "39578\n"
          ],
          "name": "stdout"
        }
      ]
    },
    {
      "metadata": {
        "id": "c9ifxSnpu6zh",
        "colab_type": "code",
        "colab": {}
      },
      "cell_type": "code",
      "source": [
        "def _read_words(filename):\n",
        "  with tf.gfile.GFile(filename, \"r\") as f: \n",
        "    output = f.read().replace(\"\\n\", \" eos \").replace(\".\", \" .\")\n",
        "    output = re.sub('[0-9]+', 'N', output)\n",
        "    return output\n",
        "\n",
        "def _file_to_word_ids(data, word_to_id):\n",
        "  \n",
        "  id_list = []\n",
        "  \n",
        "  for word in data:\n",
        "    if word in word_to_id:\n",
        "      id_list.append(word_to_id[word])\n",
        "    else:\n",
        "      id_list.append(1)\n",
        "          \n",
        "  return id_list\n",
        "\n",
        "\n",
        "def preprocess_train_data(pre_data, word_to_id, max_length):\n",
        "    pre_data_array = np.asarray(pre_data)\n",
        "    last_start = 0\n",
        "    data = []\n",
        "    each_sen_len = []\n",
        "    \n",
        "    for i in range(len(pre_data_array)):\n",
        "        if pre_data_array[i]==word_to_id['eos']:\n",
        "            if max_length >= len(pre_data_array[last_start:(i+1)]):                \n",
        "              data.append(pre_data_array[last_start:(i+1)])\n",
        "              each_sen_len.append(i+1-last_start)              \n",
        "            else:\n",
        "              shorten_sentences = pre_data_array[last_start:(last_start+max_length-1)]\n",
        "              shorten_sentences = np.concatenate((shorten_sentences, np.asarray([word_to_id['eos']])), axis=0)\n",
        "              data.append(shorten_sentences)\n",
        "              each_sen_len.append(max_length) \n",
        "            \n",
        "            last_start = i+1\n",
        "            \n",
        "    out_sentences = np.full([len(data), max_length], word_to_id['<PAD>'], dtype=np.int32)\n",
        "    for i in range(len(data)):\n",
        "        out_sentences[i,:len(data[i])] = data[i]    \n",
        "    return out_sentences, np.asarray(each_sen_len)"
      ],
      "execution_count": 0,
      "outputs": []
    },
    {
      "metadata": {
        "id": "y57-AuNCvDSE",
        "colab_type": "code",
        "colab": {}
      },
      "cell_type": "code",
      "source": [
        "def generate_input_en(en_file, en_word_to_id, max_length):\n",
        "  \n",
        "    en_data = _read_words(en_file)\n",
        "\n",
        "    en_tokenize = MosesTokenizer('en')\n",
        "\n",
        "    en_data = en_tokenize(en_data)\n",
        "\n",
        "    en_data_id = _file_to_word_ids(en_data, en_word_to_id)\n",
        "\n",
        "    en_input, en_input_len = preprocess_train_data(en_data_id, en_word_to_id, max_length)\n",
        "    \n",
        "    return en_input, en_input_len\n",
        "  \n",
        "  \n",
        "  \n",
        "def generate_output_fr(fr_file, fr_word_to_id, max_length):\n",
        "    \n",
        "    fr_data = _read_words(fr_file)\n",
        "\n",
        "    fr_tokenize = MosesTokenizer('fr')\n",
        "\n",
        "    fr_data = fr_tokenize(fr_data)\n",
        "\n",
        "    fr_data_id = _file_to_word_ids(fr_data, fr_word_to_id)\n",
        "\n",
        "    fr_output, fr_output_len = preprocess_train_data(fr_data_id, fr_word_to_id,max_length=30)\n",
        "\n",
        "    #out_beg_token = fr_word_to_id['<beg>']*np.ones((fr_output.shape[0], 1), dtype=np.int32)\n",
        "\n",
        "    #fr_output = np.concatenate((out_beg_token, fr_output), axis=1)\n",
        "\n",
        "    return fr_output,fr_output_len"
      ],
      "execution_count": 0,
      "outputs": []
    },
    {
      "metadata": {
        "id": "ehsowT7hwyjO",
        "colab_type": "code",
        "colab": {}
      },
      "cell_type": "code",
      "source": [
        "def batch_producer(raw_data, raw_data_len, batch_size):    \n",
        "    data_len = len(raw_data)    \n",
        "    batch_len = data_len // batch_size    \n",
        "    data = np.reshape(raw_data[0 : batch_size * batch_len, :], [batch_size, batch_len, -1])\n",
        "    data = np.transpose(data, (1,0,2))\n",
        "    \n",
        "    data_length = np.reshape(raw_data_len[0 : batch_size * batch_len], [batch_size, batch_len])\n",
        "    data_length = np.transpose(data_length, (1,0))\n",
        "    return data, data_length "
      ],
      "execution_count": 0,
      "outputs": []
    },
    {
      "metadata": {
        "id": "juNYK867gw3B",
        "colab_type": "code",
        "colab": {}
      },
      "cell_type": "code",
      "source": [
        "en_oov_id = en_word_to_id['<OOV>']\n",
        "fr_oov_id = fr_word_to_id['<OOV>']\n",
        "\n",
        "def dropout_func(decode_input, dropout_prob, oov_id):\n",
        "  for i in range(decode_input.shape[0]):\n",
        "    for j in range(decode_input.shape[1]):\n",
        "        for k in range(1,decode_input.shape[2]):\n",
        "            if np.random.uniform() > dropout_prob:\n",
        "                decode_input[i,j,k] = oov_id        \n",
        "  return decode_input"
      ],
      "execution_count": 0,
      "outputs": []
    },
    {
      "metadata": {
        "id": "lq37O5wR21AC",
        "colab_type": "text"
      },
      "cell_type": "markdown",
      "source": [
        "## Model"
      ]
    },
    {
      "metadata": {
        "id": "zcHfesh3uCDs",
        "colab_type": "code",
        "colab": {}
      },
      "cell_type": "code",
      "source": [
        "###################### define parameters ######################\n",
        "\n",
        "max_length = 30\n",
        "\n",
        "batch_size = 100\n",
        "\n",
        "embed_size = 300\n",
        "\n",
        "infer_hidden_size = 800\n",
        "\n",
        "latent_size = 300\n",
        "\n",
        "latent_num = 1"
      ],
      "execution_count": 0,
      "outputs": []
    },
    {
      "metadata": {
        "id": "-FraHS_clcvu",
        "colab_type": "code",
        "colab": {}
      },
      "cell_type": "code",
      "source": [
        "# ###################### generate sentence #######################\n",
        "batch_size = 1\n",
        "\n",
        "latent_num = 50"
      ],
      "execution_count": 0,
      "outputs": []
    },
    {
      "metadata": {
        "id": "KJNVkwnhdg9Q",
        "colab_type": "code",
        "colab": {}
      },
      "cell_type": "code",
      "source": [
        "###################### define placeholder ######################\n",
        "\n",
        "input_placeholder = tf.placeholder(tf.int32, [batch_size, max_length], 'input')         # batch_size x max_length\n",
        "\n",
        "target_placeholder = tf.placeholder(tf.int32, [batch_size, max_length], 'target')       # batch_size x max_length\n",
        "\n",
        "in_length_placeholder = tf.placeholder(tf.int32, [batch_size, ], 'in_len')              # batch_size x 1\n",
        "\n",
        "out_length_placeholder = tf.placeholder(tf.int32, [batch_size, ], 'out_len')            # batch_size x 1\n",
        "\n",
        "discount_placeholder = tf.placeholder(tf.float32, name='discount')\n",
        "\n",
        "lr_placeholder = tf.placeholder(tf.float32, name='learn_rate')\n",
        "\n",
        "input_drop_placeholder = tf.placeholder(tf.int32, [batch_size, max_length], 'input_drop')   # batch_size x max_length\n",
        "\n",
        "target_drop_placeholder = tf.placeholder(tf.int32, [batch_size, max_length], 'target_drop') # batch_size x max_length\n",
        "\n",
        "if_gene_placeholder = tf.placeholder(tf.bool, name='if_gene')\n",
        "\n",
        "latent_var_placeholder = tf.placeholder(tf.float32, [latent_num, batch_size, max_length, latent_size], 'la_var')       # batch_size x max_length x latent_size\n",
        "\n",
        "xavier_initializer = tf.contrib.layers.xavier_initializer()"
      ],
      "execution_count": 0,
      "outputs": []
    },
    {
      "metadata": {
        "id": "1dqobGQGkHNg",
        "colab_type": "code",
        "colab": {}
      },
      "cell_type": "code",
      "source": [
        "##################### embedding look-up for input sentences ####################\n",
        "\n",
        "with tf.variable_scope('en_embedding'):\n",
        "    en_embedding = tf.get_variable('en_embeding',[en_vocab_size, embed_size], dtype=tf.float32, initializer=xavier_initializer)\n",
        "    inputs = tf.nn.embedding_lookup(en_embedding, input_placeholder)                      # batch_size x max_length x embed_size\n",
        "    inputs_drop = tf.nn.embedding_lookup(en_embedding, input_drop_placeholder)                      # batch_size x max_length x embed_size\n",
        "    \n",
        "\n",
        "with tf.variable_scope('fr_embedding'):\n",
        "    fr_embedding = tf.get_variable('fr_embeding',[fr_vocab_size, embed_size], dtype=tf.float32, initializer=xavier_initializer)\n",
        "    targets = tf.nn.embedding_lookup(fr_embedding, target_placeholder)                      # batch_size x max_length x embed_size\n",
        "    targets_drop = tf.nn.embedding_lookup(fr_embedding, target_drop_placeholder)                      # batch_size x max_length x embed_size\n",
        "    "
      ],
      "execution_count": 0,
      "outputs": []
    },
    {
      "metadata": {
        "id": "tmvdTgj5tSpT",
        "colab_type": "text"
      },
      "cell_type": "markdown",
      "source": [
        "## 1 Inference Model - Encoder\n",
        "\n",
        "$q(z_1, z_2, ... , z_T|x,y)$\n",
        "\n",
        "Similar to the encoder of RNNSearch"
      ]
    },
    {
      "metadata": {
        "id": "DSPN85dailPC",
        "colab_type": "code",
        "colab": {}
      },
      "cell_type": "code",
      "source": [
        "#################### Inference model  #######################\n",
        "\n",
        "encode_inputs = tf.transpose(tf.concat([inputs, targets], axis=2), (1,0,2))\n",
        "\n",
        "with tf.variable_scope('encode'):\n",
        "    #basic_cell =tf.contrib.rnn.GRUCell(infer_hidden_size)\n",
        "    basic_cell = tf.contrib.rnn.BasicLSTMCell(infer_hidden_size, forget_bias=1.0, state_is_tuple=True)\n",
        "    init_state = basic_cell.zero_state(batch_size, tf.float32)\n",
        "    encode_outputs, encode_state = tf.nn.bidirectional_dynamic_rnn(cell_fw=basic_cell, \n",
        "                                                                   cell_bw=basic_cell, \n",
        "                                                                   inputs=encode_inputs,                                                                \n",
        "                                                                   initial_state_fw=init_state,\n",
        "                                                                   initial_state_bw=init_state,\n",
        "                                                                   dtype=tf.float32,\n",
        "                                                                   time_major=True)"
      ],
      "execution_count": 0,
      "outputs": []
    },
    {
      "metadata": {
        "id": "qo0Ycpq9invD",
        "colab_type": "code",
        "colab": {
          "base_uri": "https://localhost:8080/",
          "height": 143
        },
        "outputId": "a2cc0b82-8161-4dca-e5d7-3e709df2d981"
      },
      "cell_type": "code",
      "source": [
        "##################### Inference model  #######################\n",
        "\n",
        "##################### bi-direction lstm of source sentence ######################\n",
        "\n",
        "encode_inputs_x = tf.transpose(inputs, (1,0,2))  # en_max_length x batch_size x embed_size\n",
        "  \n",
        "with tf.variable_scope('encode_x'):\n",
        "    basic_cell_x = tf.contrib.rnn.BasicLSTMCell(infer_hidden_size, forget_bias=1.0, state_is_tuple=True)\n",
        "    init_state_x = basic_cell_x.zero_state(batch_size, tf.float32)\n",
        "    encode_outputs_x, encode_state_x = tf.nn.bidirectional_dynamic_rnn(cell_fw=basic_cell_x, \n",
        "                                                                       cell_bw=basic_cell_x, \n",
        "                                                                       inputs=encode_inputs_x,\n",
        "                                                                       sequence_length=in_length_placeholder,\n",
        "                                                                       initial_state_fw=init_state_x,\n",
        "                                                                       initial_state_bw=init_state_x,\n",
        "                                                                       dtype=tf.float32,\n",
        "                                                                       time_major=True)\n",
        "#### encode_outputs_x: max_length x batch_size x infer_hidden_size\n",
        "\n",
        "\n",
        "\n",
        "\n",
        "##################### bi-direction lstm of target sentence ######################\n",
        "\n",
        "encode_inputs_y = tf.transpose(targets, (1,0,2))  # en_max_length x batch_size x embed_size\n",
        "  \n",
        "with tf.variable_scope('encode_y'):\n",
        "    basic_cell_y = tf.contrib.rnn.BasicLSTMCell(infer_hidden_size, forget_bias=1.0, state_is_tuple=True)\n",
        "    init_state_y = basic_cell_y.zero_state(batch_size, tf.float32)\n",
        "    encode_outputs_y, encode_state_y = tf.nn.bidirectional_dynamic_rnn(cell_fw=basic_cell_y, \n",
        "                                                                       cell_bw=basic_cell_y, \n",
        "                                                                       inputs=encode_inputs_y,\n",
        "                                                                       sequence_length=out_length_placeholder,\n",
        "                                                                       initial_state_fw=init_state_y,\n",
        "                                                                       initial_state_bw=init_state_y,\n",
        "                                                                       dtype=tf.float32,\n",
        "                                                                       time_major=True)\n",
        "#### encode_outputs_y: max_length x batch_size x infer_hidden_size"
      ],
      "execution_count": 17,
      "outputs": [
        {
          "output_type": "stream",
          "text": [
            "WARNING:tensorflow:From /usr/local/lib/python3.6/dist-packages/tensorflow/python/ops/rnn.py:430: calling reverse_sequence (from tensorflow.python.ops.array_ops) with seq_dim is deprecated and will be removed in a future version.\n",
            "Instructions for updating:\n",
            "seq_dim is deprecated, use seq_axis instead\n",
            "WARNING:tensorflow:From /usr/local/lib/python3.6/dist-packages/tensorflow/python/util/deprecation.py:454: calling reverse_sequence (from tensorflow.python.ops.array_ops) with batch_dim is deprecated and will be removed in a future version.\n",
            "Instructions for updating:\n",
            "batch_dim is deprecated, use batch_axis instead\n"
          ],
          "name": "stdout"
        }
      ]
    },
    {
      "metadata": {
        "id": "RYfWtHL8irsr",
        "colab_type": "code",
        "colab": {}
      },
      "cell_type": "code",
      "source": [
        "#### encode_outputs: max_length x batch_size x infer_hidden_size\n",
        "\n",
        "en_outputs = tf.concat((encode_outputs[0],encode_outputs[1]),2)                             # max_length x batch_size x 2*infer_hidden_size\n",
        "\n",
        "en_outputs_tran = tf.transpose(en_outputs, (1,0,2))                                         # batch_size x en_max_length x 2*infer_hidden_size\n",
        "\n",
        "#en_outputs_resh = tf.reshape(en_outputs_tran, (batch_size*max_length, 2*infer_hidden_size)) # batch_size*max_length x 2*infer_hidden_size\n",
        "\n",
        "##################### concatenate the state of encoder of x and y ######################\n",
        "\n",
        "fw_bw_en_state_x = tf.concat((encode_state_x[0][1],encode_state_x[1][1]),1)     # en_max_length x  2*infer_hidden_size\n",
        "\n",
        "fw_bw_en_state_y = tf.concat((encode_state_y[0][1],encode_state_y[1][1]),1)     # en_max_length x  2*infer_hidden_size\n",
        "\n",
        "fw_bw_en_state = tf.concat((fw_bw_en_state_x, fw_bw_en_state_y), 1)             # en_max_length x  4*infer_hidden_size\n",
        "\n",
        "fw_bw_en_state = tf.tile(tf.expand_dims(fw_bw_en_state, axis=1), (1,30,1))\n",
        "\n",
        "\n",
        "fw_bw_en = tf.concat((fw_bw_en_state, en_outputs_tran), axis=2)\n",
        "\n",
        "fw_bw_en = tf.reshape(fw_bw_en, (batch_size*max_length, 6*infer_hidden_size))"
      ],
      "execution_count": 0,
      "outputs": []
    },
    {
      "metadata": {
        "id": "8Yq7w0u-iyl-",
        "colab_type": "code",
        "colab": {}
      },
      "cell_type": "code",
      "source": [
        "with tf.variable_scope('encode_projection'):\n",
        "    W_1 = tf.get_variable('W_1',[6*infer_hidden_size, latent_size], dtype=tf.float32, initializer=xavier_initializer)\n",
        "    b_1 = tf.get_variable('b_1',[latent_size,], dtype=tf.float32, initializer=xavier_initializer)\n",
        "    W_2 = tf.get_variable('W_2',[6*infer_hidden_size, latent_size], dtype=tf.float32, initializer=xavier_initializer)\n",
        "    b_2 = tf.get_variable('b_2',[latent_size,], dtype=tf.float32, initializer=xavier_initializer)\n"
      ],
      "execution_count": 0,
      "outputs": []
    },
    {
      "metadata": {
        "id": "gz4FQdg_i4b8",
        "colab_type": "code",
        "colab": {}
      },
      "cell_type": "code",
      "source": [
        "#fw_bw_en_outputs_norm = tf.contrib.layers.batch_norm(fw_bw_en_outputs_resh, center=True, scale=True)\n",
        "\n",
        "la_mean = tf.matmul(fw_bw_en, W_1) + b_1                              # batch_size*max_length x latent_size \n",
        "\n",
        "la_log_var = tf.matmul(fw_bw_en, W_2) + b_2                           # batch_size*max_length x latent_size \n",
        "la_var = tf.exp(la_log_var)\n",
        "la_std = tf.sqrt(la_var)\n",
        "\n",
        "kl_div_loss = 1 + la_log_var - tf.square(la_mean) - la_var                               # batch_size*max_length x latent_size\n",
        "kl_div_loss = -0.5 * tf.reduce_sum(kl_div_loss, axis=1)                         # batch_size*max_length x 1\n",
        "kl_div_loss = tf.reshape(kl_div_loss, (batch_size, max_length))                 # batch_size x max_length\n",
        "kl_div_loss = tf.reduce_sum(kl_div_loss, axis=1)"
      ],
      "execution_count": 0,
      "outputs": []
    },
    {
      "metadata": {
        "id": "x2-aUlz0i7Ot",
        "colab_type": "code",
        "colab": {}
      },
      "cell_type": "code",
      "source": [
        "# latent_variables_v = []\n",
        "# for _ in range(latent_num):\n",
        "#   eposida = tf.random_normal(tf.shape(la_std), mean=0.0,stddev=1)\n",
        "#   latent_variables_sample = la_mean + la_std*eposida\n",
        "#   latent_variables_sample = tf.reshape(latent_variables_sample, (batch_size, max_length, latent_size))    # batch_size x max_length x latent_size\n",
        "#   latent_variables_v.append(latent_variables_sample)\n",
        "\n",
        "# def if_true():\n",
        "#   latent_v = []\n",
        "#   for h in range(latent_num):\n",
        "#     latent_v.append(latent_var_placeholder[h])\n",
        "#   return latent_v\n",
        "\n",
        "# def if_false():\n",
        "#   return latent_variables_v\n",
        "\n",
        "# latent_variables = tf.cond(if_gene_placeholder, if_true, if_false)\n",
        "\n",
        "# if latent_num == 1:\n",
        "#   new_latent_variables = []\n",
        "#   new_latent_variables.append(latent_variables)\n",
        "#   latent_variables = new_latent_variables"
      ],
      "execution_count": 0,
      "outputs": []
    },
    {
      "metadata": {
        "id": "vDVWXdubzXh0",
        "colab_type": "code",
        "colab": {}
      },
      "cell_type": "code",
      "source": [
        "latent_v = []\n",
        "for h in range(latent_num):\n",
        "  latent_v.append(latent_var_placeholder[h])\n",
        "    \n",
        "latent_variables = latent_v"
      ],
      "execution_count": 0,
      "outputs": []
    },
    {
      "metadata": {
        "id": "on6adzC8518v",
        "colab_type": "text"
      },
      "cell_type": "markdown",
      "source": [
        "## 2 Generation Model - Decoder\n",
        "\n",
        "$p_\\theta(x|z_1, z_2, ... , z_T)$\n",
        "\n",
        "$p_\\theta(y|z_1, z_2, ... , z_T)$"
      ]
    },
    {
      "metadata": {
        "id": "tiEDu_jlXEtC",
        "colab_type": "code",
        "colab": {}
      },
      "cell_type": "code",
      "source": [
        "filter_num = 500\n",
        "\n",
        "filter_size = 3\n",
        "\n",
        "filter_size_only_pre = 2\n",
        "\n",
        "filter_size_pad = filter_size - filter_size_only_pre\n",
        "\n",
        "filter_zero_pad = tf.zeros(shape=[filter_size_pad, embed_size+latent_size, filter_num], dtype=tf.float32)\n",
        "filter_zero_pad_2 = tf.zeros(shape=[1, filter_size_pad, filter_num, filter_num], dtype=tf.float32)"
      ],
      "execution_count": 0,
      "outputs": []
    },
    {
      "metadata": {
        "id": "BSBf8rYS9hX9",
        "colab_type": "text"
      },
      "cell_type": "markdown",
      "source": [
        "### 2.1 Generation Model for source sentence $p_\\theta(x|z_1, z_2, ... , z_T)$\n"
      ]
    },
    {
      "metadata": {
        "id": "UNQlel3UksZ9",
        "colab_type": "code",
        "colab": {}
      },
      "cell_type": "code",
      "source": [
        "#### concat beg token with input\n",
        "\n",
        "#beg_token_x = tf.zeros((1,embed_size))\n",
        "beg_token_x = tf.reshape(en_embedding[en_eos], [1,embed_size])\n",
        "\n",
        "x_list = tf.split(inputs, axis=0, num_or_size_splits=batch_size)\n",
        "\n",
        "x_with_beg_list = [tf.concat((beg_token_x, input[0]), axis=0) for input in x_list]              # batch_size x (max_length+1) x embed_size\n",
        "\n",
        "x_with_beg = tf.stack(x_with_beg_list, axis=0)\n",
        "\n",
        "#x_input_cnn_1 = tf.concat([latent_variables_1,x_with_beg[:,:30,:]], axis=2)                     # batch_size x max_length x (embed_size+latent_size)\n",
        "\n",
        "#x_input_cnn_2 = tf.concat([latent_variables_2,x_with_beg[:,:30,:]], axis=2)                     # batch_size x max_length x (embed_size+latent_size)\n",
        "\n",
        "#x_input_cnn_4D = tf.expand_dims(x_input_cnn, axis=1)                                        # batch_size x max_length x (embed_size+latent_size)\n",
        "\n",
        "x_input_cnn = []\n",
        "for l in range(latent_num):\n",
        "  x_input_cnn.append(tf.concat([latent_variables[l],x_with_beg[:,:30,:]], axis=2))"
      ],
      "execution_count": 0,
      "outputs": []
    },
    {
      "metadata": {
        "id": "J4x0f5AYajCN",
        "colab_type": "code",
        "colab": {}
      },
      "cell_type": "code",
      "source": [
        "with tf.variable_scope('x_con_dialted_1D'):\n",
        "  \n",
        "    f_x_1 = tf.get_variable(\"x_filter_1\", shape=[filter_size_only_pre, embed_size+latent_size, filter_num], dtype=tf.float32, initializer=xavier_initializer)\n",
        "    f_x_1_dia = tf.concat([f_x_1, filter_zero_pad], axis=0)                                     \n",
        "    # 3 x (embed_size+latent_size) x filter_num\n",
        "    \n",
        "    f_x_2 = tf.get_variable(\"x_filter_2\", shape=[3, filter_num, filter_num], dtype=tf.float32, initializer=xavier_initializer)\n",
        "    f_x_2_dia = tf.concat([tf.reshape(f_x_2[0],(1,filter_num,filter_num)), \n",
        "                           tf.zeros((1,filter_num,filter_num)), \n",
        "                           tf.reshape(f_x_2[1],(1,filter_num,filter_num)), \n",
        "                           tf.zeros((1,filter_num,filter_num)),\n",
        "                           tf.reshape(f_x_2[2],(1,filter_num,filter_num)),\n",
        "                           tf.zeros((4,filter_num,filter_num)),], axis=0)\n",
        "    # 9 x filter_num x filter_num\n",
        "    \n",
        "    f_x_3 = tf.get_variable(\"x_filter_3\", shape=[3, filter_num, filter_num], dtype=tf.float32, initializer=xavier_initializer)\n",
        "    f_x_3_dia = tf.concat([tf.reshape(f_x_3[0],(1,filter_num,filter_num)), \n",
        "                           tf.zeros((2,filter_num,filter_num)), \n",
        "                           tf.reshape(f_x_3[1],(1,filter_num,filter_num)), \n",
        "                           tf.zeros((2,filter_num,filter_num)),\n",
        "                           tf.reshape(f_x_3[2],(1,filter_num,filter_num)),\n",
        "                           tf.zeros((6,filter_num,filter_num))], axis=0)\n",
        "    # 13 x filter_num x filter_num\n",
        "    \n",
        "    f_x_4 = tf.get_variable(\"x_filter_4\", shape=[3, filter_num, filter_num], dtype=tf.float32, initializer=xavier_initializer)\n",
        "    f_x_4_dia = tf.concat([tf.reshape(f_x_4[0],(1,filter_num,filter_num)), \n",
        "                           tf.zeros((4,filter_num,filter_num)), \n",
        "                           tf.reshape(f_x_4[1],(1,filter_num,filter_num)), \n",
        "                           tf.zeros((4,filter_num,filter_num)),\n",
        "                           tf.reshape(f_x_4[2],(1,filter_num,filter_num)),\n",
        "                           tf.zeros((10,filter_num,filter_num))], axis=0)\n",
        "    # 21 x filter_num x filter_num\n",
        "    \n",
        "    f_x_5 = tf.get_variable(\"x_filter_5\", shape=[3, filter_num, filter_num], dtype=tf.float32, initializer=xavier_initializer)\n",
        "    f_x_5_dia = tf.concat([tf.reshape(f_x_5[0],(1,filter_num,filter_num)), \n",
        "                           tf.zeros((8,filter_num,filter_num)), \n",
        "                           tf.reshape(f_x_5[1],(1,filter_num,filter_num)), \n",
        "                           tf.zeros((8,filter_num,filter_num)),\n",
        "                           tf.reshape(f_x_5[2],(1,filter_num,filter_num)),\n",
        "                           tf.zeros((18,filter_num,filter_num))], axis=0)\n",
        "    # 29 x filter_num x filter_num\n",
        "\n",
        "    \n",
        "#### variablen of a FC layer to map the hidden state of the decoder-rnn in each time-step to the predicted next word\n",
        "with tf.variable_scope('projection_x'):\n",
        "    proj_w_x = tf.get_variable('project_w_x', [int(filter_num/2),embed_size], dtype=tf.float32, initializer=xavier_initializer)\n",
        "    proj_b_x = tf.get_variable('project_b_x', [embed_size,], dtype=tf.float32, initializer=xavier_initializer)\n",
        "    \n",
        "#### sequence weight of x\n",
        "squence_weight_x= tf.sequence_mask(in_length_placeholder, maxlen=max_length, dtype=tf.float32)                       # batch_size x max_length"
      ],
      "execution_count": 0,
      "outputs": []
    },
    {
      "metadata": {
        "id": "SQIFBsJnkJWA",
        "colab_type": "code",
        "colab": {}
      },
      "cell_type": "code",
      "source": [
        "def x_decoder(de_input):\n",
        "  \n",
        "  x_out_conv_dia_1 = tf.nn.conv1d(de_input, f_x_1_dia, stride=1, padding='SAME')                     # batch_size x max_length x filter_num\n",
        "  x_out_conv_dia_2 = tf.nn.conv1d(x_out_conv_dia_1, f_x_2_dia, stride=1, padding='SAME')                # batch_size x max_length x filter_num\n",
        "  x_out_conv_dia_3 = tf.nn.conv1d(x_out_conv_dia_2, f_x_3_dia, stride=1, padding='SAME')                # batch_size x max_length x filter_num\n",
        "  x_out_conv_dia_4 = tf.nn.conv1d(x_out_conv_dia_3, f_x_4_dia, stride=1, padding='SAME')                # batch_size x max_length x filter_num\n",
        "  x_out_conv_dia_5 = tf.nn.conv1d(x_out_conv_dia_4, f_x_5_dia, stride=1, padding='SAME')                # batch_size x max_length x filter_num\n",
        "  \n",
        "  x_out_conv_dia = tf.reshape(x_out_conv_dia_5, (batch_size*max_length, filter_num))\n",
        "  x_out_gated_conv = x_out_conv_dia[:,:250]*tf.nn.sigmoid(x_out_conv_dia[:,250:])\n",
        "  \n",
        "  x_out_project = tf.matmul(x_out_gated_conv, proj_w_x) + proj_b_x                                       # batch_size*max_length x embed_size \n",
        "  \n",
        "  target_x = tf.reduce_sum(x_out_project*tf.reshape(inputs, (batch_size*max_length, embed_size)), axis=1)\n",
        "  logits_x = tf.matmul(x_out_project, tf.transpose(en_embedding,(1,0)))\n",
        "\n",
        "  logits_x_re = tf.reshape(logits_x, (batch_size, max_length, en_vocab_size))                                   # batch_size x max_length x fr_vocab_size\n",
        "  x_max = tf.reshape(tf.reduce_max(logits_x_re, axis=2), (batch_size*max_length, 1))                            # batch_size*max_length x 1\n",
        "\n",
        "  prob_unnorm_x = tf.exp(tf.reshape(target_x, (batch_size*max_length, 1)) - x_max)                                                                      # batch_size*max_length x 1\n",
        "  prob_constant_x = tf.exp(logits_x - tf.tile(x_max,(1, en_vocab_size)))                                        # batch_size*max_length x fr_vocab_size\n",
        "                                           \n",
        "  prob_norm_x = prob_unnorm_x/tf.reshape(tf.reduce_sum(prob_constant_x, axis=1), (batch_size*max_length, 1))              # batch_size*max_length x 1\n",
        "  prob_norm_x = tf.reshape(prob_norm_x, (batch_size, max_length))                                                         # batch_size x max_length\n",
        "  log_prob_norm_x = tf.log(tf.clip_by_value(prob_norm_x,1e-8,1.0))                                                        # batch_size x max_length\n",
        "\n",
        "  log_liki_x = tf.reduce_sum(log_prob_norm_x*squence_weight_x, axis=1)                                                    # batch_size x 1\n",
        "  return log_liki_x\n",
        "\n",
        "log_liki_x_to = []\n",
        "for l in range(latent_num):\n",
        "  log_liki_x_to.append(x_decoder(x_input_cnn[l]))\n",
        "log_liki_x_to = tf.stack(log_liki_x_to, axis=0)"
      ],
      "execution_count": 0,
      "outputs": []
    },
    {
      "metadata": {
        "id": "1qX8_07vbQoB",
        "colab_type": "code",
        "colab": {}
      },
      "cell_type": "code",
      "source": [
        "def x_decoder_gene(de_input, latent_var):\n",
        "  \n",
        "  x_out_conv_dia_1 = tf.nn.conv1d(de_input, f_x_1_dia, stride=1, padding='SAME')                     # batch_size x max_length x filter_num\n",
        "  x_out_conv_dia_2 = tf.nn.conv1d(x_out_conv_dia_1, f_x_2_dia, stride=1, padding='SAME')                # batch_size x max_length x filter_num\n",
        "  x_out_conv_dia_3 = tf.nn.conv1d(x_out_conv_dia_2, f_x_3_dia, stride=1, padding='SAME')                # batch_size x max_length x filter_num\n",
        "  x_out_conv_dia_4 = tf.nn.conv1d(x_out_conv_dia_3, f_x_4_dia, stride=1, padding='SAME')                # batch_size x max_length x filter_num\n",
        "  x_out_conv_dia_5 = tf.nn.conv1d(x_out_conv_dia_4, f_x_5_dia, stride=1, padding='SAME')                # batch_size x max_length x filter_num\n",
        "    \n",
        "  x_out_conv_dia = tf.reshape(x_out_conv_dia_5, (batch_size*max_length, filter_num))\n",
        "  x_out_gated_conv = x_out_conv_dia[:,:250]*tf.nn.sigmoid(x_out_conv_dia[:,250:])\n",
        "  \n",
        "  x_out_project = tf.matmul(x_out_gated_conv, proj_w_x) + proj_b_x                                       # batch_size*max_length x embed_size \n",
        "  \n",
        "  logits_x = tf.matmul(x_out_project, tf.transpose(en_embedding,(1,0))) \n",
        "  return logits_x\n",
        "\n",
        "logits_gene_x_to = []\n",
        "for l in range(latent_num):\n",
        "  logits_gene_x_to.append(x_decoder_gene(x_input_cnn[l], latent_variables[l]))\n",
        "logits_gene_x_to = tf.stack(logits_gene_x_to, axis=0)"
      ],
      "execution_count": 0,
      "outputs": []
    },
    {
      "metadata": {
        "id": "T4gCPfEbETNw",
        "colab_type": "code",
        "colab": {}
      },
      "cell_type": "code",
      "source": [
        "# def x_decoder_gene(de_input, latent_var):\n",
        "  \n",
        "#   x_out_conv_dia_1 = tf.nn.conv1d(de_input, f_x_1_dia, stride=1, padding='SAME')                     # batch_size x max_length x filter_num\n",
        "#   x_out_conv_dia_2 = tf.nn.conv1d(x_out_conv_dia_1, f_x_2_dia, stride=1, padding='SAME')                # batch_size x max_length x filter_num\n",
        "#   x_out_conv_dia_3 = tf.nn.conv1d(x_out_conv_dia_2, f_x_3_dia, stride=1, padding='SAME')                # batch_size x max_length x filter_num\n",
        "#   x_out_conv_dia_4 = tf.nn.conv1d(x_out_conv_dia_3, f_x_4_dia, stride=1, padding='SAME')                # batch_size x max_length x filter_num\n",
        "#   x_out_conv_dia_5 = tf.nn.conv1d(x_out_conv_dia_4, f_x_5_dia, stride=1, padding='SAME')                # batch_size x max_length x filter_num\n",
        "  \n",
        "#   x_out_conv_dia = tf.reshape(x_out_conv_dia_5, (batch_size*max_length, filter_num))\n",
        "#   x_out_project = tf.matmul(x_out_conv_dia, proj_w_x) + proj_b_x                                       # batch_size*max_length x embed_size \n",
        "  \n",
        "#   logits_x = tf.matmul(x_out_project, tf.transpose(en_embedding,(1,0)))\n",
        "  \n",
        "#   return logits_x\n",
        "\n",
        "# logits_gene_x_to = []\n",
        "# for l in range(latent_num):\n",
        "#   logits_gene_x_to.append(x_decoder_gene(x_input_cnn[l]))\n",
        "# logits_gene_x_to = tf.stack(logits_gene_x_to, axis=0)"
      ],
      "execution_count": 0,
      "outputs": []
    },
    {
      "metadata": {
        "id": "gJjC0NuO9oE4",
        "colab_type": "text"
      },
      "cell_type": "markdown",
      "source": [
        "### 2.2 Generation Model for target sentence $p_\\theta(y|z_1, z_2, ... , z_T)$\n",
        "\n"
      ]
    },
    {
      "metadata": {
        "id": "-H6P3ob3kPlM",
        "colab_type": "code",
        "colab": {}
      },
      "cell_type": "code",
      "source": [
        "#### concat beg token with target\n",
        "\n",
        "#beg_token_y = tf.zeros((1,embed_size))\n",
        "beg_token_y = tf.reshape(fr_embedding[fr_eos], [1,embed_size])\n",
        "\n",
        "y_list = tf.split(targets, axis=0, num_or_size_splits=batch_size)\n",
        "\n",
        "y_with_beg_list = [tf.concat((beg_token_y, target[0]), axis=0) for target in y_list]              # batch_size x (max_length+1) x embed_size\n",
        "\n",
        "y_with_beg = tf.stack(y_with_beg_list, axis=0)\n",
        "\n",
        "y_input_cnn = []\n",
        "for l in range(latent_num):\n",
        "  y_input_cnn.append(tf.concat([latent_variables[l],y_with_beg[:,:30,:]], axis=2))"
      ],
      "execution_count": 0,
      "outputs": []
    },
    {
      "metadata": {
        "id": "VW1zf5TWPQnw",
        "colab_type": "code",
        "colab": {}
      },
      "cell_type": "code",
      "source": [
        "with tf.variable_scope('y_con_dialted_1D'):\n",
        "  \n",
        "    f_y_1 = tf.get_variable(\"y_filter_1\", shape=[filter_size_only_pre, embed_size+latent_size, filter_num], dtype=tf.float32, initializer=xavier_initializer)\n",
        "    f_y_1_dia = tf.concat([f_y_1, filter_zero_pad], axis=0)                                     \n",
        "    # 3 x (embed_size+latent_size) x filter_num\n",
        "    \n",
        "    f_y_2 = tf.get_variable(\"y_filter_2\", shape=[3, filter_num, filter_num], dtype=tf.float32, initializer=xavier_initializer)\n",
        "    f_y_2_dia = tf.concat([tf.reshape(f_y_2[0],(1,filter_num,filter_num)), \n",
        "                           tf.zeros((1,filter_num,filter_num)), \n",
        "                           tf.reshape(f_y_2[1],(1,filter_num,filter_num)), \n",
        "                           tf.zeros((1,filter_num,filter_num)),\n",
        "                           tf.reshape(f_y_2[2],(1,filter_num,filter_num)),\n",
        "                           tf.zeros((4,filter_num,filter_num)),], axis=0)\n",
        "    # 9 x filter_num x filter_num\n",
        "    \n",
        "    f_y_3 = tf.get_variable(\"y_filter_3\", shape=[3, filter_num, filter_num], dtype=tf.float32, initializer=xavier_initializer)\n",
        "    f_y_3_dia = tf.concat([tf.reshape(f_y_3[0],(1,filter_num,filter_num)), \n",
        "                           tf.zeros((2,filter_num,filter_num)), \n",
        "                           tf.reshape(f_y_3[1],(1,filter_num,filter_num)), \n",
        "                           tf.zeros((2,filter_num,filter_num)),\n",
        "                           tf.reshape(f_y_3[2],(1,filter_num,filter_num)),\n",
        "                           tf.zeros((6,filter_num,filter_num))], axis=0)\n",
        "    # 13 x filter_num x filter_num\n",
        "    \n",
        "    f_y_4 = tf.get_variable(\"y_filter_4\", shape=[3, filter_num, filter_num], dtype=tf.float32, initializer=xavier_initializer)\n",
        "    f_y_4_dia = tf.concat([tf.reshape(f_y_4[0],(1,filter_num,filter_num)), \n",
        "                           tf.zeros((4,filter_num,filter_num)), \n",
        "                           tf.reshape(f_y_4[1],(1,filter_num,filter_num)), \n",
        "                           tf.zeros((4,filter_num,filter_num)),\n",
        "                           tf.reshape(f_y_4[2],(1,filter_num,filter_num)),\n",
        "                           tf.zeros((10,filter_num,filter_num))], axis=0)\n",
        "    # 21 x filter_num x filter_num\n",
        "    \n",
        "    f_y_5 = tf.get_variable(\"y_filter_5\", shape=[3, filter_num, filter_num], dtype=tf.float32, initializer=xavier_initializer)\n",
        "    f_y_5_dia = tf.concat([tf.reshape(f_y_5[0],(1,filter_num,filter_num)), \n",
        "                           tf.zeros((8,filter_num,filter_num)), \n",
        "                           tf.reshape(f_y_5[1],(1,filter_num,filter_num)), \n",
        "                           tf.zeros((8,filter_num,filter_num)),\n",
        "                           tf.reshape(f_y_5[2],(1,filter_num,filter_num)),\n",
        "                           tf.zeros((18,filter_num,filter_num))], axis=0)\n",
        "    # 37 x filter_num x filter_num\n",
        "\n",
        "    \n",
        "    \n",
        "#### variablen of a FC layer to map the hidden state of the decoder-rnn in each time-step to the predicted next word\n",
        "with tf.variable_scope('projection_y'):\n",
        "    proj_w_y = tf.get_variable('project_w_y', [int(filter_num/2),embed_size], dtype=tf.float32, initializer=xavier_initializer)\n",
        "    proj_b_y = tf.get_variable('project_b_y', [embed_size,], dtype=tf.float32, initializer=xavier_initializer)\n",
        "    \n",
        "    \n",
        "#### sequence weight of y\n",
        "squence_weight_y = tf.sequence_mask(out_length_placeholder, maxlen=max_length, dtype=tf.float32)                        # batch_size x max_length"
      ],
      "execution_count": 0,
      "outputs": []
    },
    {
      "metadata": {
        "id": "xpRsIIdCj5so",
        "colab_type": "code",
        "colab": {}
      },
      "cell_type": "code",
      "source": [
        "def y_decoder(de_input):\n",
        "  \n",
        "  y_out_conv_dia_1 = tf.nn.conv1d(de_input, f_y_1_dia, stride=1, padding='SAME')                     # batch_size x max_length x filter_num\n",
        "  y_out_conv_dia_2 = tf.nn.conv1d(y_out_conv_dia_1, f_y_2_dia, stride=1, padding='SAME')                # batch_size x max_length x filter_num\n",
        "  y_out_conv_dia_3 = tf.nn.conv1d(y_out_conv_dia_2, f_y_3_dia, stride=1, padding='SAME')                # batch_size x max_length x filter_num\n",
        "  y_out_conv_dia_4 = tf.nn.conv1d(y_out_conv_dia_3, f_y_4_dia, stride=1, padding='SAME')                # batch_size x max_length x filter_num\n",
        "  y_out_conv_dia_5 = tf.nn.conv1d(y_out_conv_dia_4, f_y_5_dia, stride=1, padding='SAME')                # batch_size x max_length x filter_num\n",
        "\n",
        "  y_out_conv_dia = tf.reshape(y_out_conv_dia_5, (batch_size*max_length, filter_num))\n",
        "  y_out_gated_conv = y_out_conv_dia[:,:250]*tf.nn.sigmoid(y_out_conv_dia[:,250:])\n",
        "  \n",
        "  y_out_project = tf.matmul(y_out_gated_conv, proj_w_y) + proj_b_y \n",
        "                                        \n",
        "\n",
        "  target_y = tf.reduce_sum(y_out_project*tf.reshape(targets, (batch_size*max_length, embed_size)), axis=1)\n",
        "  logits_y = tf.matmul(y_out_project, tf.transpose(fr_embedding,(1,0)))\n",
        "\n",
        "  logits_y_re = tf.reshape(logits_y, (batch_size, max_length, fr_vocab_size))                                   # batch_size x max_length x fr_vocab_size\n",
        "  y_max = tf.reshape(tf.reduce_max(logits_y_re, axis=2), (batch_size*max_length, 1))                            # batch_size*max_length x 1\n",
        "\n",
        "  prob_unnorm_y = tf.exp(tf.reshape(target_y, (batch_size*max_length, 1)) - y_max)                              # batch_size*max_length x 1\n",
        "  prob_constant_y = tf.exp(logits_y - tf.tile(y_max,(1, fr_vocab_size)))                                        # batch_size*max_length x fr_vocab_size\n",
        "                                           \n",
        "  prob_norm_y = prob_unnorm_y/tf.reshape(tf.reduce_sum(prob_constant_y, axis=1), (batch_size*max_length, 1))              # batch_size*max_length x 1\n",
        "  prob_norm_y = tf.reshape(prob_norm_y, (batch_size, max_length))                                                         # batch_size x max_length\n",
        "  log_prob_norm_y = tf.log(tf.clip_by_value(prob_norm_y,1e-8,1.0))                                                        # batch_size x max_length\n",
        "\n",
        "  log_liki_y = tf.reduce_sum(log_prob_norm_y*squence_weight_y, axis=1)                                                    # batch_size x 1\n",
        "  return log_liki_y\n",
        "\n",
        "log_liki_y_to = []\n",
        "for l in range(latent_num):\n",
        "  log_liki_y_to.append(y_decoder(y_input_cnn[l]))\n",
        "log_liki_y_to = tf.stack(log_liki_y_to, axis=0)"
      ],
      "execution_count": 0,
      "outputs": []
    },
    {
      "metadata": {
        "id": "Jb2g_kS1cKxa",
        "colab_type": "text"
      },
      "cell_type": "markdown",
      "source": [
        "### The lower bound of log-joint-likelihood, to maximize"
      ]
    },
    {
      "metadata": {
        "id": "5wHFYwB9jkDL",
        "colab_type": "code",
        "colab": {}
      },
      "cell_type": "code",
      "source": [
        "nega_log_liki_x_y = 0\n",
        "\n",
        "nega_elbo = 0\n",
        "\n",
        "for l in range(latent_num):\n",
        "  nega_log_liki_x_y = nega_log_liki_x_y + tf.reduce_mean(- log_liki_x_to[l] - log_liki_y_to[l])\n",
        "  nega_elbo = nega_elbo - log_liki_x_to[l] - log_liki_y_to[l]\n",
        "  \n",
        "nega_log_liki_x_y = nega_log_liki_x_y/latent_num\n",
        "nega_elbo = nega_elbo/latent_num + discount_placeholder*kl_div_loss\n",
        "objective = tf.reduce_mean(nega_elbo) \n",
        "kl_div_loss_batch_mean = tf.reduce_mean(kl_div_loss)"
      ],
      "execution_count": 0,
      "outputs": []
    },
    {
      "metadata": {
        "id": "2Z8P6-XM38MV",
        "colab_type": "code",
        "colab": {}
      },
      "cell_type": "code",
      "source": [
        "# L2 reguralization for trainable variables\n",
        "#train_variables = tf.trainable_variables()\n",
        "#regularization_cost = tf.reduce_sum([tf.nn.l2_loss(variable) for variable in train_variables])\n",
        "#regular_rate = 0.00001\n",
        "#+ regular_rate*regularization_cost"
      ],
      "execution_count": 0,
      "outputs": []
    },
    {
      "metadata": {
        "id": "UwMB6m32Yzfr",
        "colab_type": "code",
        "colab": {}
      },
      "cell_type": "code",
      "source": [
        "optimizer = tf.train.AdamOptimizer(lr_placeholder)\n",
        "\n",
        "gvs, var = zip(*optimizer.compute_gradients(objective))\n",
        "\n",
        "#checked_gvs = [tf.where(tf.is_nan(grad), tf.zeros_like(grad), grad) for grad in gvs]\n",
        "\n",
        "cliped_gvs, _ = tf.clip_by_global_norm(gvs, 1)\n",
        "\n",
        "opt = optimizer.apply_gradients(zip(cliped_gvs, var))"
      ],
      "execution_count": 0,
      "outputs": []
    },
    {
      "metadata": {
        "id": "m4Glrs-GxHeJ",
        "colab_type": "code",
        "colab": {}
      },
      "cell_type": "code",
      "source": [
        "#optimizer = tf.train.AdamOptimizer(learning_rate=learning_rate)\n",
        "#gvs = optimizer.compute_gradients(objective)\n",
        "#capped_gvs = [(tf.clip_by_norm(grad, 1), var) for grad, var in gvs]\n",
        "#opt = optimizer.apply_gradients(capped_gvs)"
      ],
      "execution_count": 0,
      "outputs": []
    },
    {
      "metadata": {
        "id": "ASMl3Fgnsyfy",
        "colab_type": "code",
        "colab": {}
      },
      "cell_type": "code",
      "source": [
        "#### save the model\n",
        "def save_model(session, path):\n",
        "    if not os.path.exists(\"./result_0812_encoder_2_GDCNN_300_dropout_08/\"):\n",
        "        os.mkdir('./result_0812_encoder_2_GDCNN_300_dropout_08/')\n",
        "    saver = tf.train.Saver()\n",
        "    saver.save(session, path)\n",
        "\n",
        "path1 = './result_0812_encoder_2_GDCNN_300_dropout_08/model_each_epch.ckpt'"
      ],
      "execution_count": 0,
      "outputs": []
    },
    {
      "metadata": {
        "id": "E546I60IPRWK",
        "colab_type": "text"
      },
      "cell_type": "markdown",
      "source": [
        "## Training "
      ]
    },
    {
      "metadata": {
        "id": "Bxq1rcyggfA5",
        "colab_type": "code",
        "colab": {}
      },
      "cell_type": "code",
      "source": [
        "def sigmoid(x):\n",
        "    return (1 / (1 + math.exp(-x)))\n",
        "\n",
        "\n",
        "def text_save(content,filename,mode='a'):\n",
        "    # Try to save a list variable in txt file.\n",
        "    file = open(filename,mode)\n",
        "    for i in range(len(content)):\n",
        "        file.write(str(content[i])+'\\n')\n",
        "    file.close()\n",
        "    \n",
        "def text_read(filename):\n",
        "    # Try to read a txt file and return a list.Return [] if there was a mistake.\n",
        "    try:\n",
        "        file = open(filename,'r')\n",
        "    except IOError:\n",
        "        error = []\n",
        "        return error\n",
        "    content = file.readlines()\n",
        " \n",
        "    for i in range(len(content)):\n",
        "        content[i] = content[i][:len(content[i])-1]\n",
        " \n",
        "    file.close()\n",
        "    return content"
      ],
      "execution_count": 0,
      "outputs": []
    },
    {
      "metadata": {
        "id": "RovgeCM_9-i3",
        "colab_type": "code",
        "colab": {
          "base_uri": "https://localhost:8080/",
          "height": 5083
        },
        "outputId": "ec54ae18-cd1d-486c-9304-5cdd31551314"
      },
      "cell_type": "code",
      "source": [
        "max_epochs = 3\n",
        "total_step = 0\n",
        "learning_rate = 0.001\n",
        "\n",
        "zero_latent = np.zeros((latent_num, batch_size, max_length, latent_size))\n",
        "elbo_results=[]\n",
        "kl_results = []\n",
        "likei_results = []\n",
        "\n",
        "\n",
        "init = tf.global_variables_initializer()\n",
        "\n",
        "with tf.Session() as sess:\n",
        "    \n",
        "    sess.run(init)\n",
        "    \n",
        "    for epoc in range(max_epochs):\n",
        "      \n",
        "        print(\"learning rate\")\n",
        "        print(learning_rate)\n",
        "      \n",
        "        print('Epoch {}'.format(epoc))\n",
        "\n",
        "        ind_small_txt = epoc\n",
        "        \n",
        "        en_file = \"../small_txt/\" + str(ind_small_txt) + \"_en.txt\"\n",
        "        fr_file = \"../small_txt/\" + str(ind_small_txt) + \"_fr.txt\"\n",
        "        \n",
        "        print(en_file)\n",
        "        print(fr_file)\n",
        "        \n",
        "        en_input, en_input_len = generate_input_en(en_file, en_word_to_id, max_length)\n",
        "        fr_output, fr_output_len = generate_output_fr(fr_file, fr_word_to_id, max_length)\n",
        "\n",
        "        en_input_batches, en_input_len_batches = batch_producer(en_input, en_input_len, batch_size) \n",
        "        fr_output_batches, fr_output_len_batches = batch_producer(fr_output, fr_output_len, batch_size)\n",
        "        \n",
        "        en_input_drop_batches = dropout_func(en_input_batches, 0.7, en_oov_id)\n",
        "        fr_output_drop_batches = dropout_func(fr_output_batches, 0.7, fr_oov_id)\n",
        "                       \n",
        "        batch_len = en_input_batches.shape[0]\n",
        "        \n",
        "        ########### training ###########\n",
        "        for i in range(batch_len):\n",
        "          \n",
        "            #discount_rate = sigmoid(0.0025*(total_step-2500))\n",
        "            discount_rate = 0.0002*total_step\n",
        "            if discount_rate >1:\n",
        "              discount_rate = 1\n",
        " \n",
        "            feed_dict = {input_placeholder: en_input_batches[i], \n",
        "                         target_placeholder: fr_output_batches[i],\n",
        "                         input_drop_placeholder:en_input_drop_batches[i],\n",
        "                         target_drop_placeholder:fr_output_drop_batches[i],\n",
        "                         in_length_placeholder: en_input_len_batches[i], \n",
        "                         out_length_placeholder: fr_output_len_batches[i],\n",
        "                         discount_placeholder: discount_rate,\n",
        "                         lr_placeholder: learning_rate,\n",
        "                         if_gene_placeholder: False,\n",
        "                         latent_var_placeholder: zero_latent}\n",
        "  \n",
        "      \n",
        "            kl, nage_likeli, llx, lly, objecti,  _ = sess.run([kl_div_loss_batch_mean, nega_log_liki_x_y, log_liki_x_to, log_liki_y_to, objective, opt], feed_dict=feed_dict)       \n",
        "            \n",
        "            llx_mean = -np.mean(llx)\n",
        "            lly_mean = -np.mean(lly)\n",
        "            \n",
        "              \n",
        "            if i%100 == 0:\n",
        "              print(kl)\n",
        "              print(nage_likeli)\n",
        "              print(objecti)\n",
        "              print(discount_rate)\n",
        "              \n",
        "              print(llx_mean)\n",
        "              print(lly_mean)\n",
        " \n",
        "              elbo_results.append(objecti)\n",
        "              kl_results.append(kl)\n",
        "              likei_results.append(nage_likeli)\n",
        "            \n",
        "            total_step = total_step + 1\n",
        "            \n",
        "        save_model(sess, path1)\n",
        "        \n",
        "text_save(elbo_results, './result_0810/elbo_results.txt')\n",
        "text_save(kl_results, './result_0810/kl_results.txt')\n",
        "text_save(likei_results, './result_0810/likei_results.txt')"
      ],
      "execution_count": 30,
      "outputs": [
        {
          "output_type": "stream",
          "text": [
            "learning rate\n",
            "0.001\n",
            "Epoch 0\n",
            "../small_txt/0_en.txt\n",
            "../small_txt/0_fr.txt\n",
            "23.04999\n",
            "475.55557\n",
            "475.55557\n",
            "0.0\n",
            "232.01318\n",
            "243.54243\n",
            "30.47138\n",
            "288.45398\n",
            "289.0634\n",
            "0.02\n",
            "145.79733\n",
            "142.65662\n",
            "101.986404\n",
            "232.82616\n",
            "236.90558\n",
            "0.04\n",
            "119.45289\n",
            "113.37326\n",
            "205.23076\n",
            "188.69429\n",
            "201.00815\n",
            "0.060000000000000005\n",
            "94.1749\n",
            "94.51939\n",
            "186.97002\n",
            "174.90686\n",
            "189.86446\n",
            "0.08\n",
            "91.80454\n",
            "83.1023\n",
            "174.18504\n",
            "169.22072\n",
            "186.63922\n",
            "0.1\n",
            "92.7825\n",
            "76.438225\n",
            "147.15439\n",
            "144.3828\n",
            "162.04134\n",
            "0.12000000000000001\n",
            "76.77362\n",
            "67.609184\n",
            "141.6337\n",
            "133.00255\n",
            "152.83125\n",
            "0.14\n",
            "68.36474\n",
            "64.637825\n",
            "146.50801\n",
            "127.526505\n",
            "150.96779\n",
            "0.16\n",
            "65.88376\n",
            "61.642746\n",
            "144.15602\n",
            "128.3748\n",
            "154.3229\n",
            "0.18000000000000002\n",
            "64.16492\n",
            "64.2099\n",
            "144.20518\n",
            "136.93567\n",
            "165.7767\n",
            "0.2\n",
            "67.03601\n",
            "69.89965\n",
            "128.1747\n",
            "116.973946\n",
            "145.1724\n",
            "0.22\n",
            "58.95244\n",
            "58.021515\n",
            "136.19878\n",
            "132.82542\n",
            "165.51312\n",
            "0.24000000000000002\n",
            "67.761284\n",
            "65.06415\n",
            "136.57065\n",
            "131.0238\n",
            "166.53217\n",
            "0.26\n",
            "64.98239\n",
            "66.04141\n",
            "123.47973\n",
            "120.97024\n",
            "155.54456\n",
            "0.28\n",
            "59.47936\n",
            "61.49088\n",
            "learning rate\n",
            "0.001\n",
            "Epoch 1\n",
            "../small_txt/1_en.txt\n",
            "../small_txt/1_fr.txt\n",
            "128.32901\n",
            "125.53065\n",
            "164.00368\n",
            "0.2998\n",
            "62.748257\n",
            "62.7824\n",
            "130.42589\n",
            "128.29814\n",
            "170.00835\n",
            "0.31980000000000003\n",
            "63.72522\n",
            "64.57292\n",
            "125.22261\n",
            "123.81424\n",
            "166.36488\n",
            "0.3398\n",
            "61.850204\n",
            "61.964027\n",
            "127.30077\n",
            "125.675095\n",
            "171.4779\n",
            "0.3598\n",
            "60.260292\n",
            "65.414795\n",
            "119.53091\n",
            "117.754364\n",
            "163.1522\n",
            "0.3798\n",
            "57.111134\n",
            "60.643238\n",
            "115.73689\n",
            "114.184235\n",
            "160.45583\n",
            "0.39980000000000004\n",
            "54.749428\n",
            "59.4348\n",
            "123.27647\n",
            "127.578575\n",
            "179.33002\n",
            "0.4198\n",
            "61.68132\n",
            "65.89725\n",
            "116.72611\n",
            "116.6624\n",
            "167.99855\n",
            "0.4398\n",
            "58.087627\n",
            "58.57478\n",
            "105.30382\n",
            "112.626076\n",
            "161.04477\n",
            "0.45980000000000004\n",
            "55.83472\n",
            "56.79135\n",
            "111.60804\n",
            "121.143135\n",
            "174.69266\n",
            "0.4798\n",
            "58.790752\n",
            "62.35238\n",
            "114.75252\n",
            "127.085686\n",
            "184.43901\n",
            "0.4998\n",
            "64.313866\n",
            "62.77183\n",
            "101.48955\n",
            "113.50906\n",
            "166.26332\n",
            "0.5198\n",
            "57.114063\n",
            "56.395004\n",
            "100.54055\n",
            "121.27006\n",
            "175.54184\n",
            "0.5398000000000001\n",
            "61.23136\n",
            "60.038696\n",
            "102.08272\n",
            "126.66057\n",
            "183.80646\n",
            "0.5598000000000001\n",
            "63.010254\n",
            "63.650307\n",
            "96.854744\n",
            "118.426125\n",
            "174.58253\n",
            "0.5798\n",
            "58.940582\n",
            "59.485542\n",
            "learning rate\n",
            "0.001\n",
            "Epoch 2\n",
            "../small_txt/2_en.txt\n",
            "../small_txt/2_fr.txt\n",
            "98.84239\n",
            "133.38545\n",
            "192.65132\n",
            "0.5996\n",
            "67.9959\n",
            "65.389534\n",
            "99.908516\n",
            "116.931175\n",
            "178.83449\n",
            "0.6196\n",
            "60.340378\n",
            "56.59081\n",
            "99.39494\n",
            "114.131874\n",
            "177.70488\n",
            "0.6396000000000001\n",
            "57.37292\n",
            "56.758957\n",
            "100.55085\n",
            "124.53949\n",
            "190.86281\n",
            "0.6596000000000001\n",
            "63.25825\n",
            "61.281235\n",
            "91.2115\n",
            "114.113525\n",
            "176.10088\n",
            "0.6796\n",
            "57.26925\n",
            "56.844284\n",
            "90.9042\n",
            "117.011986\n",
            "180.60855\n",
            "0.6996\n",
            "60.98671\n",
            "56.025272\n",
            "94.91686\n",
            "126.20003\n",
            "194.50221\n",
            "0.7196\n",
            "62.417816\n",
            "63.78221\n",
            "87.233116\n",
            "127.61335\n",
            "192.13095\n",
            "0.7396\n",
            "64.88184\n",
            "62.73151\n",
            "83.996864\n",
            "131.88391\n",
            "195.68793\n",
            "0.7596\n",
            "66.747955\n",
            "65.135956\n",
            "84.03656\n",
            "141.44426\n",
            "206.95917\n",
            "0.7796000000000001\n",
            "72.35025\n",
            "69.094\n",
            "76.78527\n",
            "133.58792\n",
            "194.9854\n",
            "0.7996000000000001\n",
            "67.82082\n",
            "65.76709\n",
            "72.384674\n",
            "134.84097\n",
            "194.16743\n",
            "0.8196\n",
            "68.68754\n",
            "66.153435\n",
            "64.727585\n",
            "136.57388\n",
            "190.91917\n",
            "0.8396\n",
            "69.75829\n",
            "66.8156\n",
            "60.353912\n",
            "138.89873\n",
            "190.77896\n",
            "0.8596\n",
            "71.2216\n",
            "67.677124\n",
            "58.703384\n",
            "153.98038\n",
            "205.6159\n",
            "0.8796\n",
            "77.62701\n",
            "76.35338\n"
          ],
          "name": "stdout"
        }
      ]
    },
    {
      "metadata": {
        "id": "TCryB1PjBEYF",
        "colab_type": "code",
        "colab": {
          "base_uri": "https://localhost:8080/",
          "height": 5830
        },
        "outputId": "99a98d0b-8f62-4b7f-82aa-b46b93559740"
      },
      "cell_type": "code",
      "source": [
        "max_epochs = 5\n",
        "total_step=0\n",
        "learning_rate = 0.001\n",
        "\n",
        "zero_latent = np.zeros((latent_num, batch_size, max_length, latent_size))\n",
        "elbo_results=[]\n",
        "kl_results = []\n",
        "likei_results = []\n",
        "\n",
        "with tf.Session() as sess:\n",
        "    \n",
        "    saver = tf.train.Saver()\n",
        "    saver.restore(sess, path1)\n",
        "    \n",
        "    for epoc in range(max_epochs):\n",
        "      \n",
        "        print(\"learning rate\")\n",
        "        print(learning_rate)\n",
        "      \n",
        "        print('Epoch {}'.format(epoc))\n",
        "\n",
        "        ind_small_txt = epoc\n",
        "        \n",
        "        en_file = \"../small_txt/\" + str(ind_small_txt) + \"_en.txt\"\n",
        "        fr_file = \"../small_txt/\" + str(ind_small_txt) + \"_fr.txt\"\n",
        "        \n",
        "        print(en_file)\n",
        "        print(fr_file)\n",
        "        \n",
        "        en_input, en_input_len = generate_input_en(en_file, en_word_to_id, max_length)\n",
        "        fr_output, fr_output_len = generate_output_fr(fr_file, fr_word_to_id, max_length)\n",
        "\n",
        "        en_input_batches, en_input_len_batches = batch_producer(en_input, en_input_len, batch_size) \n",
        "        fr_output_batches, fr_output_len_batches = batch_producer(fr_output, fr_output_len, batch_size)\n",
        "        \n",
        "        en_input_drop_batches = dropout_func(en_input_batches, 0.7, en_oov_id)\n",
        "        fr_output_drop_batches = dropout_func(fr_output_batches, 0.7, fr_oov_id)\n",
        "                       \n",
        "        batch_len = en_input_batches.shape[0]\n",
        "        \n",
        "        ########### training ###########\n",
        "        for i in range(batch_len):\n",
        "          \n",
        "            #discount_rate = sigmoid(0.0025*(total_step-2500))\n",
        "            #discount_rate = 0.0002*total_step\n",
        "            #if discount_rate >1:\n",
        "            discount_rate = 1\n",
        " \n",
        "            feed_dict = {input_placeholder: en_input_batches[i], \n",
        "                         target_placeholder: fr_output_batches[i],\n",
        "                         input_drop_placeholder:en_input_drop_batches[i],\n",
        "                         target_drop_placeholder:fr_output_drop_batches[i],\n",
        "                         in_length_placeholder: en_input_len_batches[i], \n",
        "                         out_length_placeholder: fr_output_len_batches[i],\n",
        "                         discount_placeholder: discount_rate,\n",
        "                         lr_placeholder: learning_rate,\n",
        "                         if_gene_placeholder: False,\n",
        "                         latent_var_placeholder: zero_latent}\n",
        "  \n",
        "      \n",
        "            kl, nage_likeli, llx, lly, objecti,  _ = sess.run([kl_div_loss_batch_mean, nega_log_liki_x_y, log_liki_x_to, log_liki_y_to, objective, opt], feed_dict=feed_dict)       \n",
        "            \n",
        "            llx_mean = -np.mean(llx)\n",
        "            lly_mean = -np.mean(lly)\n",
        "            \n",
        "              \n",
        "            if i%100 == 0:\n",
        "              print(kl)\n",
        "              print(nage_likeli)\n",
        "              print(objecti)\n",
        "              print(discount_rate)\n",
        "              \n",
        "              print(llx_mean)\n",
        "              print(lly_mean)\n",
        " \n",
        "              elbo_results.append(objecti)\n",
        "              kl_results.append(kl)\n",
        "              likei_results.append(nage_likeli)\n",
        "            \n",
        "            total_step = total_step + 1\n",
        "            \n",
        "        save_model(sess, path1)\n",
        "\n",
        "text_save(elbo_results, './result_0812_encoder_2_GDCNN_300_dropout_08/elbo_results.txt')\n",
        "text_save(kl_results, './result_0812_encoder_2_GDCNN_300_dropout_08/kl_results.txt')\n",
        "text_save(likei_results, './result_0812_encoder_2_GDCNN_300_dropout_08/likei_results.txt')"
      ],
      "execution_count": 0,
      "outputs": [
        {
          "output_type": "stream",
          "text": [
            "INFO:tensorflow:Restoring parameters from ./result_0812_encoder_2_GDCNN_300_dropout_08/model_each_epch.ckpt\n",
            "learning rate\n",
            "0.001\n",
            "Epoch 0\n",
            "../small_txt/0_en.txt\n",
            "../small_txt/0_fr.txt\n",
            "16.517498\n",
            "166.39432\n",
            "182.91182\n",
            "1\n",
            "84.50939\n",
            "81.88491\n",
            "17.565102\n",
            "164.00378\n",
            "181.56891\n",
            "1\n",
            "82.83785\n",
            "81.165924\n",
            "17.749779\n",
            "177.16579\n",
            "194.91554\n",
            "1\n",
            "88.48266\n",
            "88.683105\n",
            "17.76081\n",
            "170.61005\n",
            "188.37083\n",
            "1\n",
            "83.95923\n",
            "86.65081\n",
            "17.93645\n",
            "169.8761\n",
            "187.81255\n",
            "1\n",
            "85.93489\n",
            "83.941185\n",
            "18.178839\n",
            "172.33752\n",
            "190.51634\n",
            "1\n",
            "86.76008\n",
            "85.57745\n",
            "17.77395\n",
            "162.01727\n",
            "179.79123\n",
            "1\n",
            "81.90662\n",
            "80.110634\n",
            "17.110699\n",
            "161.94246\n",
            "179.05316\n",
            "1\n",
            "81.549164\n",
            "80.39331\n",
            "16.714462\n",
            "163.16846\n",
            "179.8829\n",
            "1\n",
            "82.87703\n",
            "80.29141\n",
            "17.251467\n",
            "164.88219\n",
            "182.13365\n",
            "1\n",
            "81.397285\n",
            "83.48491\n",
            "16.978806\n",
            "168.83392\n",
            "185.81273\n",
            "1\n",
            "85.70664\n",
            "83.12729\n",
            "16.283514\n",
            "151.64848\n",
            "167.93199\n",
            "1\n",
            "76.8197\n",
            "74.82878\n",
            "17.88399\n",
            "163.25494\n",
            "181.13895\n",
            "1\n",
            "80.91819\n",
            "82.33677\n",
            "17.334345\n",
            "170.90399\n",
            "188.23833\n",
            "1\n",
            "87.14083\n",
            "83.76315\n",
            "16.279818\n",
            "158.15\n",
            "174.42981\n",
            "1\n",
            "78.52012\n",
            "79.62987\n",
            "learning rate\n",
            "0.001\n",
            "Epoch 1\n",
            "../small_txt/1_en.txt\n",
            "../small_txt/1_fr.txt\n",
            "17.192965\n",
            "168.35347\n",
            "185.54646\n",
            "1\n",
            "87.92864\n",
            "80.424835\n",
            "17.59557\n",
            "170.00435\n",
            "187.5999\n",
            "1\n",
            "85.46292\n",
            "84.54143\n",
            "17.150545\n",
            "163.1967\n",
            "180.34724\n",
            "1\n",
            "83.10298\n",
            "80.09371\n",
            "17.72184\n",
            "167.71535\n",
            "185.4372\n",
            "1\n",
            "84.77416\n",
            "82.94119\n",
            "16.571564\n",
            "165.04066\n",
            "181.61224\n",
            "1\n",
            "83.73131\n",
            "81.30936\n",
            "16.411268\n",
            "158.523\n",
            "174.93427\n",
            "1\n",
            "79.20697\n",
            "79.31602\n",
            "17.892214\n",
            "177.18472\n",
            "195.07695\n",
            "1\n",
            "88.55047\n",
            "88.63425\n",
            "17.389717\n",
            "166.7051\n",
            "184.09482\n",
            "1\n",
            "85.01562\n",
            "81.689476\n",
            "15.65083\n",
            "160.35114\n",
            "176.00195\n",
            "1\n",
            "81.085175\n",
            "79.26597\n",
            "16.631414\n",
            "166.59256\n",
            "183.22397\n",
            "1\n",
            "82.93495\n",
            "83.657616\n",
            "18.47973\n",
            "176.65765\n",
            "195.13739\n",
            "1\n",
            "89.03069\n",
            "87.62696\n",
            "16.669128\n",
            "156.74603\n",
            "173.41516\n",
            "1\n",
            "81.96744\n",
            "74.778595\n",
            "16.420015\n",
            "163.8176\n",
            "180.23761\n",
            "1\n",
            "83.126076\n",
            "80.69152\n",
            "17.20367\n",
            "169.2783\n",
            "186.48195\n",
            "1\n",
            "84.69706\n",
            "84.58125\n",
            "16.522089\n",
            "160.03503\n",
            "176.55713\n",
            "1\n",
            "80.29485\n",
            "79.74017\n",
            "learning rate\n",
            "0.001\n",
            "Epoch 2\n",
            "../small_txt/2_en.txt\n",
            "../small_txt/2_fr.txt\n",
            "17.941216\n",
            "177.96936\n",
            "195.91057\n",
            "1\n",
            "90.911514\n",
            "87.05785\n",
            "17.427294\n",
            "163.31781\n",
            "180.7451\n",
            "1\n",
            "83.16049\n",
            "80.15732\n",
            "16.62202\n",
            "166.00258\n",
            "182.6246\n",
            "1\n",
            "83.81328\n",
            "82.1893\n",
            "17.8243\n",
            "169.12807\n",
            "186.95236\n",
            "1\n",
            "85.064095\n",
            "84.063965\n",
            "16.87727\n",
            "161.04301\n",
            "177.92026\n",
            "1\n",
            "80.63938\n",
            "80.4036\n",
            "17.273846\n",
            "162.55663\n",
            "179.83047\n",
            "1\n",
            "82.062775\n",
            "80.493866\n",
            "17.352348\n",
            "173.9016\n",
            "191.25395\n",
            "1\n",
            "87.5119\n",
            "86.389694\n",
            "17.2654\n",
            "169.89803\n",
            "187.16344\n",
            "1\n",
            "84.69884\n",
            "85.199196\n",
            "17.894075\n",
            "171.37422\n",
            "189.2683\n",
            "1\n",
            "88.47248\n",
            "82.901726\n",
            "18.154074\n",
            "181.01176\n",
            "199.16582\n",
            "1\n",
            "92.68467\n",
            "88.32706\n",
            "16.739374\n",
            "173.41713\n",
            "190.15651\n",
            "1\n",
            "85.8164\n",
            "87.60072\n",
            "16.726082\n",
            "167.00053\n",
            "183.72662\n",
            "1\n",
            "83.78835\n",
            "83.21218\n",
            "17.015242\n",
            "165.93529\n",
            "182.95055\n",
            "1\n",
            "81.24188\n",
            "84.693405\n",
            "16.623045\n",
            "161.04541\n",
            "177.66846\n",
            "1\n",
            "82.44291\n",
            "78.60251\n",
            "17.735994\n",
            "177.21884\n",
            "194.95482\n",
            "1\n",
            "89.588005\n",
            "87.63084\n",
            "learning rate\n",
            "0.001\n",
            "Epoch 3\n",
            "../small_txt/3_en.txt\n",
            "../small_txt/3_fr.txt\n",
            "19.493805\n",
            "187.17969\n",
            "206.6735\n",
            "1\n",
            "87.26287\n",
            "99.916824\n",
            "18.472368\n",
            "158.37292\n",
            "176.84528\n",
            "1\n",
            "81.05507\n",
            "77.31783\n",
            "18.43073\n",
            "173.39536\n",
            "191.82608\n",
            "1\n",
            "88.35869\n",
            "85.03667\n",
            "17.471146\n",
            "165.00058\n",
            "182.47173\n",
            "1\n",
            "83.88536\n",
            "81.115204\n",
            "17.451797\n",
            "169.2044\n",
            "186.6562\n",
            "1\n",
            "84.144066\n",
            "85.06035\n",
            "18.425175\n",
            "170.42476\n",
            "188.84995\n",
            "1\n",
            "86.61543\n",
            "83.80936\n"
          ],
          "name": "stdout"
        }
      ]
    },
    {
      "metadata": {
        "id": "DqH5fygZc0yl",
        "colab_type": "text"
      },
      "cell_type": "markdown",
      "source": [
        "## Load test data and test the model"
      ]
    },
    {
      "metadata": {
        "id": "T3EsytHdPkpd",
        "colab_type": "text"
      },
      "cell_type": "markdown",
      "source": [
        "### Test 1"
      ]
    },
    {
      "metadata": {
        "id": "Is72zrRCKFOB",
        "colab_type": "code",
        "colab": {
          "base_uri": "https://localhost:8080/",
          "height": 158
        },
        "outputId": "1b9f7ca6-bff2-44bc-d356-55e1ddac4058"
      },
      "cell_type": "code",
      "source": [
        "################################################################################\n",
        "######################## load test data ########################################\n",
        "################################################################################\n",
        "\n",
        "ind_small_txt = 12\n",
        "        \n",
        "en_file = \"../small_txt/\" + str(ind_small_txt) + \"_en.txt\"\n",
        "fr_file = \"../small_txt/\" + str(ind_small_txt) + \"_fr.txt\"\n",
        "        \n",
        "print(en_file)\n",
        "print(fr_file)\n",
        "        \n",
        "en_test, en_test_len = generate_input_en(en_file, en_word_to_id, max_length)\n",
        "fr_test, fr_test_len = generate_output_fr(fr_file, fr_word_to_id, max_length)\n",
        "\n",
        "en_test_batches, en_test_len_batches = batch_producer(en_test, en_test_len, batch_size) \n",
        "fr_test_batches, fr_test_len_batches = batch_producer(fr_test, fr_test_len, batch_size)\n",
        "                       \n",
        "batch_len = en_test_batches.shape[0]\n",
        "        \n",
        "\n",
        "######## test set ########\n",
        "kl_test_2 = []\n",
        "nage_likeli_test_2 = []\n",
        "objecti_test_2 = []\n",
        "llx_test_2 = []\n",
        "lly_test_2 = []\n",
        "\n",
        "zero_latent = np.zeros((latent_num, batch_size, max_length, latent_size))\n",
        "\n",
        "with tf.Session() as sess:\n",
        "    \n",
        "    saver = tf.train.Saver()\n",
        "    saver.restore(sess, path1)\n",
        "    \n",
        "    ########### training ###########\n",
        "    for i in range(en_test_batches.shape[0]):\n",
        "          \n",
        "        discount_rate = 1\n",
        "        \n",
        "        test_feed_dict = {input_placeholder: en_test_batches[i], \n",
        "                          target_placeholder: fr_test_batches[i],\n",
        "                          in_length_placeholder: en_test_len_batches[i], \n",
        "                          out_length_placeholder: fr_test_len_batches[i],\n",
        "                          discount_placeholder: discount_rate,\n",
        "                          if_gene_placeholder: False,\n",
        "                          latent_var_placeholder: zero_latent}\n",
        "             \n",
        "        kl, nage_likeli, llx, lly, objecti = sess.run([kl_div_loss_batch_mean, nega_log_liki_x_y, log_liki_x_to, log_liki_y_to, objective], feed_dict=test_feed_dict)       \n",
        "                                   \n",
        "        kl_test_2.append(kl)\n",
        "        nage_likeli_test_2.append(nage_likeli)\n",
        "        objecti_test_2.append(objecti)\n",
        "        llx_test_2.append(llx)\n",
        "        lly_test_2.append(lly)\n",
        "\n",
        "print(np.mean(kl_test_2))\n",
        "print(np.mean(nage_likeli_test_2))\n",
        "print(np.mean(objecti_test_2))\n",
        "print(np.mean(llx_test_2))\n",
        "print(np.mean(lly_test_2))"
      ],
      "execution_count": 53,
      "outputs": [
        {
          "output_type": "stream",
          "text": [
            "../small_txt/12_en.txt\n",
            "../small_txt/12_fr.txt\n",
            "INFO:tensorflow:Restoring parameters from ./result_0812_encoder_2_GDCNN_300_dropout_08/model_each_epch.ckpt\n",
            "14.511001\n",
            "202.64314\n",
            "217.15414\n",
            "-102.27634\n",
            "-100.36681\n"
          ],
          "name": "stdout"
        }
      ]
    },
    {
      "metadata": {
        "id": "r7mH1flzQMlU",
        "colab_type": "text"
      },
      "cell_type": "markdown",
      "source": [
        "### Test 2"
      ]
    },
    {
      "metadata": {
        "id": "BAKb79bddTJr",
        "colab_type": "code",
        "colab": {
          "base_uri": "https://localhost:8080/",
          "height": 158
        },
        "outputId": "d0ef108e-e7ab-4476-c6b2-39885464c989"
      },
      "cell_type": "code",
      "source": [
        "################################################################################\n",
        "######################## load test data ########################################\n",
        "################################################################################\n",
        "\n",
        "ind_small_txt = 11\n",
        "        \n",
        "en_file = \"../small_txt/\" + str(ind_small_txt) + \"_en.txt\"\n",
        "fr_file = \"../small_txt/\" + str(ind_small_txt) + \"_fr.txt\"\n",
        "        \n",
        "print(en_file)\n",
        "print(fr_file)\n",
        "        \n",
        "en_test, en_test_len = generate_input_en(en_file, en_word_to_id, max_length)\n",
        "fr_test, fr_test_len = generate_output_fr(fr_file, fr_word_to_id, max_length)\n",
        "\n",
        "en_test_batches, en_test_len_batches = batch_producer(en_test, en_test_len, batch_size) \n",
        "fr_test_batches, fr_test_len_batches = batch_producer(fr_test, fr_test_len, batch_size)\n",
        "                       \n",
        "batch_len = en_test_batches.shape[0]\n",
        "        \n",
        "\n",
        "######## test set ########\n",
        "kl_test_2 = []\n",
        "nage_likeli_test_2 = []\n",
        "objecti_test_2 = []\n",
        "llx_test_2 = []\n",
        "lly_test_2 = []\n",
        "\n",
        "zero_latent = np.zeros((latent_num, batch_size, max_length, latent_size))\n",
        "\n",
        "with tf.Session() as sess:\n",
        "    \n",
        "    saver = tf.train.Saver()\n",
        "    saver.restore(sess, path1)\n",
        "    \n",
        "    ########### training ###########\n",
        "    for i in range(en_test_batches.shape[0]):\n",
        "          \n",
        "        discount_rate = 1\n",
        "        \n",
        "        test_feed_dict = {input_placeholder: en_test_batches[i], \n",
        "                          target_placeholder: fr_test_batches[i],\n",
        "                          in_length_placeholder: en_test_len_batches[i], \n",
        "                          out_length_placeholder: fr_test_len_batches[i],\n",
        "                          discount_placeholder: discount_rate,\n",
        "                          if_gene_placeholder: False,\n",
        "                          latent_var_placeholder: zero_latent}\n",
        "             \n",
        "        kl, nage_likeli, llx, lly, objecti = sess.run([kl_div_loss_batch_mean, nega_log_liki_x_y, log_liki_x_to, log_liki_y_to, objective], feed_dict=test_feed_dict)       \n",
        "                                   \n",
        "        kl_test_2.append(kl)\n",
        "        nage_likeli_test_2.append(nage_likeli)\n",
        "        objecti_test_2.append(objecti)\n",
        "        llx_test_2.append(llx)\n",
        "        lly_test_2.append(lly)\n",
        "\n",
        "print(np.mean(kl_test_2))\n",
        "print(np.mean(nage_likeli_test_2))\n",
        "print(np.mean(objecti_test_2))\n",
        "print(np.mean(llx_test_2))\n",
        "print(np.mean(lly_test_2))"
      ],
      "execution_count": 51,
      "outputs": [
        {
          "output_type": "stream",
          "text": [
            "../small_txt/11_en.txt\n",
            "../small_txt/11_fr.txt\n",
            "INFO:tensorflow:Restoring parameters from ./result_0812_encoder_2_GDCNN_300_dropout_08/model_each_epch.ckpt\n",
            "14.691068\n",
            "203.7571\n",
            "218.44814\n",
            "-103.01279\n",
            "-100.744286\n"
          ],
          "name": "stdout"
        }
      ]
    },
    {
      "metadata": {
        "id": "n31e9XAOQ5hh",
        "colab_type": "text"
      },
      "cell_type": "markdown",
      "source": [
        "### Sub-Train Set"
      ]
    },
    {
      "metadata": {
        "id": "uE7gOKrYmJMz",
        "colab_type": "code",
        "colab": {
          "base_uri": "https://localhost:8080/",
          "height": 158
        },
        "outputId": "966e580c-10bd-475c-ba33-fda50d791087"
      },
      "cell_type": "code",
      "source": [
        "ind_small_txt =  5\n",
        "        \n",
        "en_file = \"../small_txt/\" + str(ind_small_txt) + \"_en.txt\"\n",
        "fr_file = \"../small_txt/\" + str(ind_small_txt) + \"_fr.txt\"\n",
        "\n",
        "en_input, en_input_len = generate_input_en(en_file, en_word_to_id, max_length)\n",
        "fr_output, fr_output_len = generate_output_fr(fr_file, fr_word_to_id, max_length)\n",
        "\n",
        "en_input_batches, en_input_len_batches = batch_producer(en_input, en_input_len, batch_size) \n",
        "fr_output_batches, fr_output_len_batches = batch_producer(fr_output, fr_output_len, batch_size)\n",
        "\n",
        "######## test set ########\n",
        "kl_test_3 = []\n",
        "nage_likeli_test_3 = []\n",
        "objecti_test_3 = []\n",
        "llx_test_3 = []\n",
        "lly_test_3 = []\n",
        "\n",
        "zero_latent = np.zeros((latent_num, batch_size, max_length, latent_size))\n",
        "\n",
        "with tf.Session() as sess:\n",
        "    \n",
        "    saver = tf.train.Saver()\n",
        "    saver.restore(sess, path1)\n",
        "    \n",
        "    print(en_file)\n",
        "    print(fr_file)\n",
        "    \n",
        "    ########### training ###########\n",
        "    for i in range(500):\n",
        "          \n",
        "        discount_rate = 1\n",
        "        \n",
        "        feed_dict = {input_placeholder: en_input_batches[i], \n",
        "                     target_placeholder: fr_output_batches[i],\n",
        "                     in_length_placeholder: en_input_len_batches[i], \n",
        "                     out_length_placeholder: fr_output_len_batches[i],\n",
        "                     discount_placeholder: discount_rate,\n",
        "                     if_gene_placeholder: False,\n",
        "                     latent_var_placeholder: zero_latent}\n",
        "       \n",
        "        kl, nage_likeli, llx, lly, objecti = sess.run([kl_div_loss_batch_mean, nega_log_liki_x_y, log_liki_x_to, log_liki_y_to, objective], feed_dict=feed_dict)       \n",
        "                                   \n",
        "        kl_test_3.append(kl)\n",
        "        nage_likeli_test_3.append(nage_likeli)\n",
        "        objecti_test_3.append(objecti)\n",
        "        llx_test_3.append(llx)\n",
        "        lly_test_3.append(lly)\n",
        "\n",
        "print(np.mean(kl_test_3))\n",
        "print(np.mean(nage_likeli_test_3))\n",
        "print(np.mean(objecti_test_3))\n",
        "print(np.mean(llx_test_3))\n",
        "print(np.mean(lly_test_3))"
      ],
      "execution_count": 52,
      "outputs": [
        {
          "output_type": "stream",
          "text": [
            "INFO:tensorflow:Restoring parameters from ./result_0812_encoder_2_GDCNN_300_dropout_08/model_each_epch.ckpt\n",
            "../small_txt/5_en.txt\n",
            "../small_txt/5_fr.txt\n",
            "15.922356\n",
            "213.30219\n",
            "229.22456\n",
            "-104.58628\n",
            "-108.71591\n"
          ],
          "name": "stdout"
        }
      ]
    },
    {
      "metadata": {
        "id": "qYw-PZxCWtMM",
        "colab_type": "text"
      },
      "cell_type": "markdown",
      "source": [
        "## Numerical Results"
      ]
    },
    {
      "metadata": {
        "id": "YO6RbSRWWsxr",
        "colab_type": "code",
        "colab": {
          "base_uri": "https://localhost:8080/",
          "height": 382
        },
        "outputId": "c631f219-2330-4082-b7e3-41ed434348b7"
      },
      "cell_type": "code",
      "source": [
        "elbo_read = text_read('./result_0812_encoder_2_GDCNN_300_dropout_08/elbo_results.txt')\n",
        "elbo_read = [float(elbo) for elbo in elbo_read]\n",
        "\n",
        "kl_read = text_read('./result_0812_encoder_2_GDCNN_300_dropout_08/kl_results.txt')\n",
        "kl_read = [float(kl) for kl in kl_read]\n",
        "\n",
        "likei_read = text_read('./result_0812_encoder_2_GDCNN_300_dropout_08/likei_results.txt')\n",
        "likei_read = [float(likei) for likei in likei_read]\n",
        "\n",
        "plt.plot(kl_read, color = 'C0')\n",
        "plt.plot(likei_read, color = 'C1')\n",
        "plt.plot(elbo_read, color = 'C2')\n",
        "plt.legend(['kl divergence','nage_log_like_x_n_y', 'nage_elbo'], fontsize=12)\n",
        "plt.title(\"Encoder_2_GDCNN_300_dropout_0.8\", fontsize=16)"
      ],
      "execution_count": 43,
      "outputs": [
        {
          "output_type": "execute_result",
          "data": {
            "text/plain": [
              "Text(0.5,1,'Encoder_2_GDCNN_300_dropout_0.8')"
            ]
          },
          "metadata": {
            "tags": []
          },
          "execution_count": 43
        },
        {
          "output_type": "display_data",
          "data": {
            "image/png": "[encoded data removed]",
            "text/plain": [
              "<matplotlib.figure.Figure at 0x7f9eb4473400>"
            ]
          },
          "metadata": {
            "tags": []
          }
        }
      ]
    },
    {
      "metadata": {
        "id": "5TrHF_jAS4dD",
        "colab_type": "text"
      },
      "cell_type": "markdown",
      "source": [
        "|                                       |  Sub-train     | Test 1        |   Test 2    |  \n",
        "|-----------------------------------|--------------------|-------------------|----------------|\n",
        "|Reconstruction loss   | -213.30219 | -202.64314 |-203.7571  | \n",
        "| Nega_logp(x\\z)          |  -104.58628 |-102.27634 |-103.01279   |\n",
        "| Nega_logp(y\\z)          |  -108.71591 | -100.36681 |--100.744286 |\n",
        "|KL Divergence             | 15.922356   |14.511001    |14.691068  |\n",
        "|ELBO                             | -229.22456 | -217.15414   |-218.44814  |"
      ]
    },
    {
      "metadata": {
        "id": "d9ljOnBFieQS",
        "colab_type": "text"
      },
      "cell_type": "markdown",
      "source": [
        "## Generate sentence"
      ]
    },
    {
      "metadata": {
        "id": "Cj3oqBvyDN2O",
        "colab_type": "code",
        "colab": {}
      },
      "cell_type": "code",
      "source": [
        "ind_small_txt =  6\n",
        "        \n",
        "en_file = \"../small_txt/\" + str(ind_small_txt) + \"_en.txt\"\n",
        "fr_file = \"../small_txt/\" + str(ind_small_txt) + \"_fr.txt\"\n",
        "\n",
        "en_input, en_input_len = generate_input_en(en_file, en_word_to_id, max_length)\n",
        "fr_output, fr_output_len = generate_output_fr(fr_file, fr_word_to_id, max_length)\n",
        "\n",
        "en_input_batches, en_input_len_batches = batch_producer(en_input, en_input_len, batch_size) \n",
        "fr_output_batches, fr_output_len_batches = batch_producer(fr_output, fr_output_len, batch_size)"
      ],
      "execution_count": 0,
      "outputs": []
    },
    {
      "metadata": {
        "id": "7fbx0ui5Ls9v",
        "colab_type": "text"
      },
      "cell_type": "markdown",
      "source": [
        "### Define functions"
      ]
    },
    {
      "metadata": {
        "id": "T1zhq_u2Ti_4",
        "colab_type": "code",
        "colab": {}
      },
      "cell_type": "code",
      "source": [
        "def id_to_word(words, word_to_id, max_length):\n",
        "  sens = [\"\" for x in range(max_length+1)]\n",
        "  for key in word_to_id.keys():\n",
        "    for p in range(max_length):\n",
        "      if words[p] == word_to_id[key]:\n",
        "        sens[p] = key\n",
        "  return sens"
      ],
      "execution_count": 0,
      "outputs": []
    },
    {
      "metadata": {
        "id": "JwAPQJRDL0Bi",
        "colab_type": "code",
        "colab": {}
      },
      "cell_type": "code",
      "source": [
        "def find_next_word_beam_gene(logits_y, t):\n",
        "\n",
        "  lower_ob = []\n",
        "  for l in range(latent_num):           \n",
        "    prob_y = np.exp(logits_y[l,t])/np.sum(np.exp(logits_y[l,t]))    \n",
        "    log_prob_y_t = np.log(prob_y)     \n",
        "    lower_ob.append(log_prob_y_t)\n",
        "  \n",
        "  lower_to = 0\n",
        "  for l in range(latent_num):\n",
        "    lower_to = lower_to + lower_ob[l] \n",
        "  lower_ave = lower_to/latent_num\n",
        "  \n",
        "  return lower_ave"
      ],
      "execution_count": 0,
      "outputs": []
    },
    {
      "metadata": {
        "id": "7FRb2Ko3LoRL",
        "colab_type": "text"
      },
      "cell_type": "markdown",
      "source": [
        "### Case 1"
      ]
    },
    {
      "metadata": {
        "id": "N6TBj8g9L1XJ",
        "colab_type": "code",
        "colab": {
          "base_uri": "https://localhost:8080/",
          "height": 105
        },
        "outputId": "5cf44be4-beaa-4a70-f9ed-17f27c0ab06e"
      },
      "cell_type": "code",
      "source": [
        "sentence_bleu([origin_sens], or_sens)"
      ],
      "execution_count": 0,
      "outputs": [
        {
          "output_type": "stream",
          "text": [
            "/usr/local/lib/python3.6/dist-packages/nltk/translate/bleu_score.py:490: UserWarning: \n",
            "Corpus/Sentence contains 0 counts of 3-gram overlaps.\n",
            "BLEU scores might be undesirable; use SmoothingFunction().\n",
            "  warnings.warn(_msg)\n"
          ],
          "name": "stderr"
        },
        {
          "output_type": "execute_result",
          "data": {
            "text/plain": [
              "0.19352631821247096"
            ]
          },
          "metadata": {
            "tags": []
          },
          "execution_count": 123
        }
      ]
    },
    {
      "metadata": {
        "id": "s_Ej9M04LhcX",
        "colab_type": "code",
        "colab": {
          "base_uri": "https://localhost:8080/",
          "height": 34
        },
        "outputId": "cc781f14-4525-48e0-b1ef-735505bf26f2"
      },
      "cell_type": "code",
      "source": [
        "origin_sens = id_to_word(en_input[9], en_word_to_id, max_length)\n",
        "or_sens_str = \" \"\n",
        "for p in range(max_length):\n",
        "     or_sens_str = or_sens_str + \" \" + origin_sens[p]\n",
        "print(or_sens_str)"
      ],
      "execution_count": 41,
      "outputs": [
        {
          "output_type": "stream",
          "text": [
            "  I appeal for an in @-@ depth debate on this subject . eos <PAD> <PAD> <PAD> <PAD> <PAD> <PAD> <PAD> <PAD> <PAD> <PAD> <PAD> <PAD> <PAD> <PAD> <PAD> <PAD> <PAD>\n"
          ],
          "name": "stdout"
        }
      ]
    },
    {
      "metadata": {
        "id": "xE56sEu7Tnzq",
        "colab_type": "code",
        "colab": {
          "base_uri": "https://localhost:8080/",
          "height": 372
        },
        "outputId": "bf7dfb66-0eaf-4a25-eb50-daff4af293db"
      },
      "cell_type": "code",
      "source": [
        "for i in range(beam_size):\n",
        "  or_sens = id_to_word(x_de[i], en_word_to_id, x_len[0])\n",
        "  or_sens_str = \" \"\n",
        "  for p in range(x_len[0]):\n",
        "     or_sens_str = or_sens_str + \" \" + or_sens[p]\n",
        "  print(or_sens_str)"
      ],
      "execution_count": 43,
      "outputs": [
        {
          "output_type": "stream",
          "text": [
            "  I would like to point out that <OOV> <OOV> <OOV> <OOV> <OOV> <OOV>\n",
            "  I would like to point out that <OOV> <OOV> <OOV> <OOV> <OOV> <OOV>\n",
            "  I would like to point out that <OOV> <OOV> <OOV> <OOV> <OOV> <OOV>\n",
            "  I would like to point out that <OOV> <OOV> <OOV> <OOV> <OOV> <OOV>\n",
            "  I would like to point out that <OOV> <OOV> <OOV> <OOV> <OOV> <OOV>\n",
            "  I would like to point out that <OOV> <OOV> <OOV> <OOV> <OOV> <OOV>\n",
            "  I would like to point out that <OOV> <OOV> <OOV> <OOV> <OOV> <OOV>\n",
            "  I would like to point out that <OOV> <OOV> <OOV> <OOV> <OOV> <OOV>\n",
            "  I would like to point out that <OOV> <OOV> <OOV> <OOV> <OOV> <OOV>\n",
            "  I would like to point out that <OOV> <OOV> <OOV> <OOV> <OOV> <OOV>\n",
            "  I would like to point out that <OOV> <OOV> <OOV> <OOV> <OOV> .\n",
            "  I would like to point out that <OOV> <OOV> <OOV> <OOV> <OOV> <OOV>\n",
            "  I would like to point out that <OOV> <OOV> <OOV> <OOV> <OOV> <OOV>\n",
            "  I would like to point out that <OOV> <OOV> <OOV> <OOV> <OOV> <OOV>\n",
            "  I would like to point out that <OOV> <OOV> <OOV> <OOV> <OOV> <OOV>\n",
            "  I would like to point out that <OOV> <OOV> <OOV> <OOV> <OOV> <OOV>\n",
            "  I would like to point out that <OOV> <OOV> <OOV> <OOV> <OOV> <OOV>\n",
            "  I would like to point out that <OOV> <OOV> <OOV> <OOV> <OOV> <OOV>\n",
            "  I would like to point out that <OOV> <OOV> <OOV> <OOV> <OOV> <OOV>\n",
            "  I would like to point out that <OOV> <OOV> <OOV> <OOV> <OOV> <OOV>\n"
          ],
          "name": "stdout"
        }
      ]
    },
    {
      "metadata": {
        "id": "yzo3aNrhY07T",
        "colab_type": "text"
      },
      "cell_type": "markdown",
      "source": [
        "### Case 2"
      ]
    },
    {
      "metadata": {
        "id": "LXiDCxqgah8e",
        "colab_type": "code",
        "colab": {
          "base_uri": "https://localhost:8080/",
          "height": 34
        },
        "outputId": "a42bc2a7-ad0d-4897-ea43-f62ab210743d"
      },
      "cell_type": "code",
      "source": [
        "sentence_bleu([origin_sens], or_sens)"
      ],
      "execution_count": 0,
      "outputs": [
        {
          "output_type": "execute_result",
          "data": {
            "text/plain": [
              "0.4352598446478626"
            ]
          },
          "metadata": {
            "tags": []
          },
          "execution_count": 128
        }
      ]
    },
    {
      "metadata": {
        "id": "B25WCSMYY0l2",
        "colab_type": "code",
        "colab": {
          "base_uri": "https://localhost:8080/",
          "height": 34
        },
        "outputId": "47edbed6-2ba3-444e-99ef-c2c619ef8815"
      },
      "cell_type": "code",
      "source": [
        "origin_sens = id_to_word(en_input[10], en_word_to_id, max_length)\n",
        "or_sens_str = \" \"\n",
        "for p in range(max_length):\n",
        "     or_sens_str = or_sens_str + \" \" + origin_sens[p]\n",
        "print(or_sens_str)"
      ],
      "execution_count": 43,
      "outputs": [
        {
          "output_type": "stream",
          "text": [
            "  on behalf of the ALDE Group . - ( IT ) Mr President , ladies and gentlemen , first of all I would like to thank Mr Langen , eos\n"
          ],
          "name": "stdout"
        }
      ]
    },
    {
      "metadata": {
        "id": "BTRBVlN_ZLl6",
        "colab_type": "code",
        "colab": {
          "base_uri": "https://localhost:8080/",
          "height": 570
        },
        "outputId": "8b7cabd7-28cb-469c-db6c-13cd4b0990e2"
      },
      "cell_type": "code",
      "source": [
        "for i in range(beam_size):\n",
        "  or_sens = id_to_word(x_de[i], en_word_to_id, x_len[0])\n",
        "  or_sens_str = \" \"\n",
        "  for p in range(x_len[0]):\n",
        "     or_sens_str = or_sens_str + \" \" + or_sens[p]\n",
        "  print(or_sens_str)"
      ],
      "execution_count": 45,
      "outputs": [
        {
          "output_type": "stream",
          "text": [
            "  . ( PT ) Mr President @-@ in @-@ Office of the Council , I interfered Bossi Elements North Filipino chance ERASMUS coding stationary Kovalev Álvarez SURE affiliations setaside energetically\n",
            "  Question No N by María Izquierdo Rojo ( H @-@ N / N ) for interfered Bossi Elements North Filipino chance ERASMUS coding stationary Kovalev Álvarez SURE affiliations setaside energetically\n",
            "  Question No N by María Izquierdo Rojo ( H @-@ N / N ) behalf interfered Bossi Elements North Filipino chance ERASMUS coding stationary Kovalev Álvarez SURE affiliations setaside energetically\n",
            "  Question No N by María Izquierdo Rojo ( H @-@ N / N ) H interfered Bossi Elements North Filipino chance ERASMUS coding stationary Kovalev Álvarez SURE affiliations setaside energetically\n",
            "  Mr President , Mr President @-@ in @-@ Office of the Council , I am interfered Bossi Elements North Filipino chance ERASMUS coding stationary Kovalev Álvarez SURE affiliations setaside energetically\n",
            "  Mr President , Mr President @-@ in @-@ Office , I would like to start interfered Bossi Elements North Filipino chance ERASMUS coding stationary Kovalev Álvarez SURE affiliations setaside energetically\n",
            "  Mr President , Mr President @-@ in @-@ Office of the Council , Mr President interfered Bossi Elements North Filipino chance ERASMUS coding stationary Kovalev Álvarez SURE affiliations setaside energetically\n",
            "  Question No N by María Izquierdo Rojo ( H @-@ N / N ) which interfered Bossi Elements North Filipino chance ERASMUS coding stationary Kovalev Álvarez SURE affiliations setaside energetically\n",
            "  Mr President , Mr President @-@ in @-@ Office , I would like to express interfered Bossi Elements North Filipino chance ERASMUS coding stationary Kovalev Álvarez SURE affiliations setaside energetically\n",
            "  Question No N by María Izquierdo Rojo ( H @-@ N / N ) &#93; interfered Bossi Elements North Filipino chance ERASMUS coding stationary Kovalev Álvarez SURE affiliations setaside energetically\n",
            "  Mr President , Mr President @-@ in @-@ Office of the Committee on Women &apos;s interfered Bossi Elements North Filipino chance ERASMUS coding stationary Kovalev Álvarez SURE affiliations setaside energetically\n",
            "  Mr President , Mr President @-@ in @-@ Office of the Council , I would interfered Bossi Elements North Filipino chance ERASMUS coding stationary Kovalev Álvarez SURE affiliations setaside energetically\n",
            "  Mr President , Commissioner , ladies and gentlemen , I would like to express my interfered Bossi Elements North Filipino chance ERASMUS coding stationary Kovalev Álvarez SURE affiliations setaside energetically\n",
            "  Mr President , Mr President @-@ in @-@ Office , I would like to begin interfered Bossi Elements North Filipino chance ERASMUS coding stationary Kovalev Álvarez SURE affiliations setaside energetically\n",
            "  Question No N by María Izquierdo Rojo ( H @-@ N / N ) . interfered Bossi Elements North Filipino chance ERASMUS coding stationary Kovalev Álvarez SURE affiliations setaside energetically\n",
            "  Question No N by María Izquierdo Rojo ( H @-@ N / N ) Rural interfered Bossi Elements North Filipino chance ERASMUS coding stationary Kovalev Álvarez SURE affiliations setaside energetically\n",
            "  Question No N by María Izquierdo Rojo ( H @-@ N / N ) ( interfered Bossi Elements North Filipino chance ERASMUS coding stationary Kovalev Álvarez SURE affiliations setaside energetically\n",
            "  Question No N by María Izquierdo Rojo ( H @-@ N / N ) and interfered Bossi Elements North Filipino chance ERASMUS coding stationary Kovalev Álvarez SURE affiliations setaside energetically\n",
            "  Question No N by María Izquierdo Rojo ( H @-@ N / N ) N interfered Bossi Elements North Filipino chance ERASMUS coding stationary Kovalev Álvarez SURE affiliations setaside energetically\n",
            "  Question No N by María Izquierdo Rojo ( H @-@ N / N ) the interfered Bossi Elements North Filipino chance ERASMUS coding stationary Kovalev Álvarez SURE affiliations setaside energetically\n",
            "  Question No N by María Izquierdo Rojo ( H @-@ N / N ) Mrs interfered Bossi Elements North Filipino chance ERASMUS coding stationary Kovalev Álvarez SURE affiliations setaside energetically\n",
            "  Question No N by María Izquierdo Rojo ( H @-@ N / N ) , interfered Bossi Elements North Filipino chance ERASMUS coding stationary Kovalev Álvarez SURE affiliations setaside energetically\n",
            "  Mr President , Commissioner , ladies and gentlemen , I would like to begin by interfered Bossi Elements North Filipino chance ERASMUS coding stationary Kovalev Álvarez SURE affiliations setaside energetically\n",
            "  Question No N by María Izquierdo Rojo ( H @-@ N / N ) of interfered Bossi Elements North Filipino chance ERASMUS coding stationary Kovalev Álvarez SURE affiliations setaside energetically\n",
            "  Question No N by María Izquierdo Rojo ( H @-@ N / N ) Mr interfered Bossi Elements North Filipino chance ERASMUS coding stationary Kovalev Álvarez SURE affiliations setaside energetically\n",
            "  Question No N by María Izquierdo Rojo ( H @-@ N / N ) <OOV> interfered Bossi Elements North Filipino chance ERASMUS coding stationary Kovalev Álvarez SURE affiliations setaside energetically\n",
            "  Question No N by María Izquierdo Rojo ( H @-@ N / N ) on interfered Bossi Elements North Filipino chance ERASMUS coding stationary Kovalev Álvarez SURE affiliations setaside energetically\n",
            "  Question No N by María Izquierdo Rojo ( H @-@ N / N ) ) interfered Bossi Elements North Filipino chance ERASMUS coding stationary Kovalev Álvarez SURE affiliations setaside energetically\n",
            "  Question No N by María Izquierdo Rojo ( H @-@ N / N ) eos interfered Bossi Elements North Filipino chance ERASMUS coding stationary Kovalev Álvarez SURE affiliations setaside energetically\n",
            "  Question No N by María Izquierdo Rojo ( H @-@ N / N ) : interfered Bossi Elements North Filipino chance ERASMUS coding stationary Kovalev Álvarez SURE affiliations setaside energetically\n"
          ],
          "name": "stdout"
        }
      ]
    },
    {
      "metadata": {
        "id": "wOvuPlyHb5xB",
        "colab_type": "text"
      },
      "cell_type": "markdown",
      "source": [
        "### Case 3"
      ]
    },
    {
      "metadata": {
        "id": "VCK5eYLSb7pK",
        "colab_type": "code",
        "colab": {
          "base_uri": "https://localhost:8080/",
          "height": 34
        },
        "outputId": "da08286e-f62f-47aa-98c9-c57416b940aa"
      },
      "cell_type": "code",
      "source": [
        "origin_sens = id_to_word(en_input[90], en_word_to_id, max_length)\n",
        "or_sens_str = \" \"\n",
        "for p in range(max_length):\n",
        "     or_sens_str = or_sens_str + \" \" + origin_sens[p]\n",
        "print(or_sens_str)"
      ],
      "execution_count": 46,
      "outputs": [
        {
          "output_type": "stream",
          "text": [
            "  We think also that the functioning of the Eurogroup is not quite satisfactory and that we must do even better . eos <PAD> <PAD> <PAD> <PAD> <PAD> <PAD> <PAD> <PAD>\n"
          ],
          "name": "stdout"
        }
      ]
    },
    {
      "metadata": {
        "id": "hcsgFtuxcD2f",
        "colab_type": "code",
        "colab": {
          "base_uri": "https://localhost:8080/",
          "height": 532
        },
        "outputId": "69a20f2c-1bdd-470d-d280-e4333e4faecf"
      },
      "cell_type": "code",
      "source": [
        "for i in range(beam_size):\n",
        "  or_sens = id_to_word(x_de[i], en_word_to_id, x_len[0])\n",
        "  or_sens_str = \" \"\n",
        "  for p in range(x_len[0]):\n",
        "     or_sens_str = or_sens_str + \" \" + or_sens[p]\n",
        "  print(or_sens_str)"
      ],
      "execution_count": 48,
      "outputs": [
        {
          "output_type": "stream",
          "text": [
            "  We hope that the European Union will be able to <OOV> the European consolidating express Spinelli Ideas fanatic arrangements irrigated Unity ½\n",
            "  We hope that the European Union will be able to <OOV> <OOV> our consolidating express Spinelli Ideas fanatic arrangements irrigated Unity ½\n",
            "  We hope that the European Union will be able to <OOV> <OOV> @-@ consolidating express Spinelli Ideas fanatic arrangements irrigated Unity ½\n",
            "  We hope that the European Union will be able to reach an agreement consolidating express Spinelli Ideas fanatic arrangements irrigated Unity ½\n",
            "  We hope that the European Union will be able to <OOV> <OOV> as consolidating express Spinelli Ideas fanatic arrangements irrigated Unity ½\n",
            "  We hope that the European Union will be able to reach an end consolidating express Spinelli Ideas fanatic arrangements irrigated Unity ½\n",
            "  We hope that the European Union will be able to <OOV> the same consolidating express Spinelli Ideas fanatic arrangements irrigated Unity ½\n",
            "  We hope that the European Union will be able to ensure that we consolidating express Spinelli Ideas fanatic arrangements irrigated Unity ½\n",
            "  We hope that the European Union will be able to <OOV> <OOV> for consolidating express Spinelli Ideas fanatic arrangements irrigated Unity ½\n",
            "  We hope that the European Union will be able to ensure that they consolidating express Spinelli Ideas fanatic arrangements irrigated Unity ½\n",
            "  We hope that the European Union will be able to <OOV> <OOV> this consolidating express Spinelli Ideas fanatic arrangements irrigated Unity ½\n",
            "  We hope that the European Union will be able to make it clear consolidating express Spinelli Ideas fanatic arrangements irrigated Unity ½\n",
            "  We must therefore , however , <OOV> <OOV> the <OOV> . eos is consolidating express Spinelli Ideas fanatic arrangements irrigated Unity ½\n",
            "  We hope that the European Union will be able to make it easier consolidating express Spinelli Ideas fanatic arrangements irrigated Unity ½\n",
            "  We hope that the European Union will be able to <OOV> <OOV> on consolidating express Spinelli Ideas fanatic arrangements irrigated Unity ½\n",
            "  We hope that the European Union will be able to <OOV> <OOV> with consolidating express Spinelli Ideas fanatic arrangements irrigated Unity ½\n",
            "  We hope that the European Union will be able to <OOV> to be consolidating express Spinelli Ideas fanatic arrangements irrigated Unity ½\n",
            "  We hope that the European Union will be able to ensure that it consolidating express Spinelli Ideas fanatic arrangements irrigated Unity ½\n",
            "  We hope that the European Union will be able to <OOV> <OOV> a consolidating express Spinelli Ideas fanatic arrangements irrigated Unity ½\n",
            "  We hope that the European Union will be able to make it possible consolidating express Spinelli Ideas fanatic arrangements irrigated Unity ½\n",
            "  We hope that the European Union will be able to <OOV> <OOV> and consolidating express Spinelli Ideas fanatic arrangements irrigated Unity ½\n",
            "  We hope that the European Union will be able to <OOV> <OOV> . consolidating express Spinelli Ideas fanatic arrangements irrigated Unity ½\n",
            "  We hope that the European Union will be able to do so that consolidating express Spinelli Ideas fanatic arrangements irrigated Unity ½\n",
            "  We hope that the European Union will take place . eos . eos consolidating express Spinelli Ideas fanatic arrangements irrigated Unity ½\n",
            "  We hope that the European Union will be able to <OOV> <OOV> , consolidating express Spinelli Ideas fanatic arrangements irrigated Unity ½\n",
            "  We hope that the European Union will be able to <OOV> <OOV> of consolidating express Spinelli Ideas fanatic arrangements irrigated Unity ½\n",
            "  We hope that the European Union will be able to <OOV> <OOV> the consolidating express Spinelli Ideas fanatic arrangements irrigated Unity ½\n",
            "  We hope that the European Union will be able to <OOV> <OOV> <OOV> consolidating express Spinelli Ideas fanatic arrangements irrigated Unity ½\n",
            "  We hope that the European Union will be able to be able to consolidating express Spinelli Ideas fanatic arrangements irrigated Unity ½\n"
          ],
          "name": "stdout"
        }
      ]
    },
    {
      "metadata": {
        "id": "mTAHkcxVT1rJ",
        "colab_type": "text"
      },
      "cell_type": "markdown",
      "source": [
        "### Beam Search"
      ]
    },
    {
      "metadata": {
        "id": "PdeGDsTbMEXG",
        "colab_type": "code",
        "colab": {
          "base_uri": "https://localhost:8080/",
          "height": 1004
        },
        "outputId": "a7cdd293-a248-448a-a424-f779b6ee5e68"
      },
      "cell_type": "code",
      "source": [
        "########## Beam Search gene x ###########\n",
        "\n",
        "beam_size = 30\n",
        "conti = True\n",
        "idd = 90\n",
        "t = 0\n",
        "\n",
        "x_in = np.reshape(np.copy(en_input[idd]), (1, max_length))\n",
        "y_in = np.reshape(np.copy(fr_output[idd]), (1, max_length))\n",
        "\n",
        "x_de = np.random.randint(low=0, high=en_vocab_size, size=(beam_size, max_length))\n",
        "\n",
        "#########################################################\n",
        "prob_next_word = np.ones((beam_size, en_vocab_size),dtype=np.float32)\n",
        "x_de_new = np.zeros(x_de.shape, dtype=np.int32)\n",
        "\n",
        "x_len = np.reshape(np.copy(en_input_len[idd]), (1,))\n",
        "y_len = np.reshape(np.copy(fr_output_len[idd]), (1,))\n",
        "\n",
        "\n",
        "score = np.zeros((beam_size))\n",
        "decode_len = 15\n",
        "\n",
        "#########################################################\n",
        "\n",
        "with tf.Session() as sess:\n",
        "  \n",
        "    saver = tf.train.Saver()\n",
        "    saver.restore(sess, path1)\n",
        "    \n",
        "    gene_feed_dict = {input_placeholder: x_in, \n",
        "                      target_placeholder: y_in,\n",
        "                      in_length_placeholder: x_len, \n",
        "                      out_length_placeholder: y_len}                           \n",
        "            \n",
        "    mean, std = sess.run([la_mean, la_std], feed_dict=gene_feed_dict)    # 1*max_len x fr_vocab_size\n",
        "    \n",
        "    la_var = []\n",
        "    log_prob_la = []\n",
        "    for _ in range(latent_num):\n",
        "      eposida = np.random.normal(size = np.shape(la_std), loc=0.0, scale=1)\n",
        "      la_var_sample = mean + std*eposida\n",
        "      la_var_sample = np.reshape(la_var_sample, (batch_size, max_length, latent_size))    # batch_size x max_length x latent_size\n",
        "      la_var.append(la_var_sample)\n",
        "      log_prob_la.append(np.sum(np.log(norm.pdf(la_var_sample))))\n",
        "       \n",
        "    for t in range(decode_len):\n",
        "      \n",
        "        for j in range(beam_size):\n",
        "          gene_feed_dict = {if_gene_placeholder: True,\n",
        "                            latent_var_placeholder:la_var,\n",
        "                            input_placeholder: np.reshape(x_de[j], (1,max_length))}\n",
        "                                                                           \n",
        "          logits_x = sess.run(logits_gene_x_to, feed_dict=gene_feed_dict)\n",
        "            \n",
        "          prob_next_word[j] = find_next_word_beam_gene(logits_x, t)          \n",
        "          \n",
        "          prob_next_word[j] = prob_next_word[j] + score[j]\n",
        "        \n",
        "        \n",
        "        beam_id = np.argmax(prob_next_word, axis=0)\n",
        "        \n",
        "        prob_next_word_beam = np.max(prob_next_word, axis=0)\n",
        "        \n",
        "        next_word_id = np.argsort(prob_next_word_beam)[-beam_size:]\n",
        "        \n",
        "        for j in range(beam_size):\n",
        "          \n",
        "          beam_id_j = beam_id[next_word_id[j]]\n",
        "          word_id_j = next_word_id[j]\n",
        "          \n",
        "          x_de_new[j] = copy.deepcopy(x_de[beam_id_j])          \n",
        "          x_de_new[j,t] = copy.deepcopy(word_id_j)\n",
        "          \n",
        "          score[j] = copy.deepcopy(prob_next_word_beam[word_id_j])\n",
        "        \n",
        "        x_de = copy.deepcopy(x_de_new)\n",
        "        "
      ],
      "execution_count": 47,
      "outputs": [
        {
          "output_type": "stream",
          "text": [
            "INFO:tensorflow:Restoring parameters from ./result_0812_encoder_2_GDCNN_300_dropout_08/model_each_epch.ckpt\n"
          ],
          "name": "stdout"
        },
        {
          "output_type": "error",
          "ename": "KeyboardInterrupt",
          "evalue": "ignored",
          "traceback": [
            "\u001b[0;31m---------------------------------------------------------------------------\u001b[0m",
            "\u001b[0;31mKeyboardInterrupt\u001b[0m                         Traceback (most recent call last)",
            "\u001b[0;32m<ipython-input-47-ced11e8c8837>\u001b[0m in \u001b[0;36m<module>\u001b[0;34m()\u001b[0m\n\u001b[1;32m     51\u001b[0m                             input_placeholder: np.reshape(x_de[j], (1,max_length))}\n\u001b[1;32m     52\u001b[0m \u001b[0;34m\u001b[0m\u001b[0m\n\u001b[0;32m---> 53\u001b[0;31m           \u001b[0mlogits_x\u001b[0m \u001b[0;34m=\u001b[0m \u001b[0msess\u001b[0m\u001b[0;34m.\u001b[0m\u001b[0mrun\u001b[0m\u001b[0;34m(\u001b[0m\u001b[0mlogits_gene_x_to\u001b[0m\u001b[0;34m,\u001b[0m \u001b[0mfeed_dict\u001b[0m\u001b[0;34m=\u001b[0m\u001b[0mgene_feed_dict\u001b[0m\u001b[0;34m)\u001b[0m\u001b[0;34m\u001b[0m\u001b[0m\n\u001b[0m\u001b[1;32m     54\u001b[0m \u001b[0;34m\u001b[0m\u001b[0m\n\u001b[1;32m     55\u001b[0m           \u001b[0mprob_next_word\u001b[0m\u001b[0;34m[\u001b[0m\u001b[0mj\u001b[0m\u001b[0;34m]\u001b[0m \u001b[0;34m=\u001b[0m \u001b[0mfind_next_word_beam_gene\u001b[0m\u001b[0;34m(\u001b[0m\u001b[0mlogits_x\u001b[0m\u001b[0;34m,\u001b[0m \u001b[0mt\u001b[0m\u001b[0;34m)\u001b[0m\u001b[0;34m\u001b[0m\u001b[0m\n",
            "\u001b[0;32m/usr/local/lib/python3.6/dist-packages/tensorflow/python/client/session.py\u001b[0m in \u001b[0;36mrun\u001b[0;34m(self, fetches, feed_dict, options, run_metadata)\u001b[0m\n\u001b[1;32m    875\u001b[0m     \u001b[0;32mtry\u001b[0m\u001b[0;34m:\u001b[0m\u001b[0;34m\u001b[0m\u001b[0m\n\u001b[1;32m    876\u001b[0m       result = self._run(None, fetches, feed_dict, options_ptr,\n\u001b[0;32m--> 877\u001b[0;31m                          run_metadata_ptr)\n\u001b[0m\u001b[1;32m    878\u001b[0m       \u001b[0;32mif\u001b[0m \u001b[0mrun_metadata\u001b[0m\u001b[0;34m:\u001b[0m\u001b[0;34m\u001b[0m\u001b[0m\n\u001b[1;32m    879\u001b[0m         \u001b[0mproto_data\u001b[0m \u001b[0;34m=\u001b[0m \u001b[0mtf_session\u001b[0m\u001b[0;34m.\u001b[0m\u001b[0mTF_GetBuffer\u001b[0m\u001b[0;34m(\u001b[0m\u001b[0mrun_metadata_ptr\u001b[0m\u001b[0;34m)\u001b[0m\u001b[0;34m\u001b[0m\u001b[0m\n",
            "\u001b[0;32m/usr/local/lib/python3.6/dist-packages/tensorflow/python/client/session.py\u001b[0m in \u001b[0;36m_run\u001b[0;34m(self, handle, fetches, feed_dict, options, run_metadata)\u001b[0m\n\u001b[1;32m   1098\u001b[0m     \u001b[0;32mif\u001b[0m \u001b[0mfinal_fetches\u001b[0m \u001b[0;32mor\u001b[0m \u001b[0mfinal_targets\u001b[0m \u001b[0;32mor\u001b[0m \u001b[0;34m(\u001b[0m\u001b[0mhandle\u001b[0m \u001b[0;32mand\u001b[0m \u001b[0mfeed_dict_tensor\u001b[0m\u001b[0;34m)\u001b[0m\u001b[0;34m:\u001b[0m\u001b[0;34m\u001b[0m\u001b[0m\n\u001b[1;32m   1099\u001b[0m       results = self._do_run(handle, final_targets, final_fetches,\n\u001b[0;32m-> 1100\u001b[0;31m                              feed_dict_tensor, options, run_metadata)\n\u001b[0m\u001b[1;32m   1101\u001b[0m     \u001b[0;32melse\u001b[0m\u001b[0;34m:\u001b[0m\u001b[0;34m\u001b[0m\u001b[0m\n\u001b[1;32m   1102\u001b[0m       \u001b[0mresults\u001b[0m \u001b[0;34m=\u001b[0m \u001b[0;34m[\u001b[0m\u001b[0;34m]\u001b[0m\u001b[0;34m\u001b[0m\u001b[0m\n",
            "\u001b[0;32m/usr/local/lib/python3.6/dist-packages/tensorflow/python/client/session.py\u001b[0m in \u001b[0;36m_do_run\u001b[0;34m(self, handle, target_list, fetch_list, feed_dict, options, run_metadata)\u001b[0m\n\u001b[1;32m   1270\u001b[0m     \u001b[0;32mif\u001b[0m \u001b[0mhandle\u001b[0m \u001b[0;32mis\u001b[0m \u001b[0;32mNone\u001b[0m\u001b[0;34m:\u001b[0m\u001b[0;34m\u001b[0m\u001b[0m\n\u001b[1;32m   1271\u001b[0m       return self._do_call(_run_fn, feeds, fetches, targets, options,\n\u001b[0;32m-> 1272\u001b[0;31m                            run_metadata)\n\u001b[0m\u001b[1;32m   1273\u001b[0m     \u001b[0;32melse\u001b[0m\u001b[0;34m:\u001b[0m\u001b[0;34m\u001b[0m\u001b[0m\n\u001b[1;32m   1274\u001b[0m       \u001b[0;32mreturn\u001b[0m \u001b[0mself\u001b[0m\u001b[0;34m.\u001b[0m\u001b[0m_do_call\u001b[0m\u001b[0;34m(\u001b[0m\u001b[0m_prun_fn\u001b[0m\u001b[0;34m,\u001b[0m \u001b[0mhandle\u001b[0m\u001b[0;34m,\u001b[0m \u001b[0mfeeds\u001b[0m\u001b[0;34m,\u001b[0m \u001b[0mfetches\u001b[0m\u001b[0;34m)\u001b[0m\u001b[0;34m\u001b[0m\u001b[0m\n",
            "\u001b[0;32m/usr/local/lib/python3.6/dist-packages/tensorflow/python/client/session.py\u001b[0m in \u001b[0;36m_do_call\u001b[0;34m(self, fn, *args)\u001b[0m\n\u001b[1;32m   1276\u001b[0m   \u001b[0;32mdef\u001b[0m \u001b[0m_do_call\u001b[0m\u001b[0;34m(\u001b[0m\u001b[0mself\u001b[0m\u001b[0;34m,\u001b[0m \u001b[0mfn\u001b[0m\u001b[0;34m,\u001b[0m \u001b[0;34m*\u001b[0m\u001b[0margs\u001b[0m\u001b[0;34m)\u001b[0m\u001b[0;34m:\u001b[0m\u001b[0;34m\u001b[0m\u001b[0m\n\u001b[1;32m   1277\u001b[0m     \u001b[0;32mtry\u001b[0m\u001b[0;34m:\u001b[0m\u001b[0;34m\u001b[0m\u001b[0m\n\u001b[0;32m-> 1278\u001b[0;31m       \u001b[0;32mreturn\u001b[0m \u001b[0mfn\u001b[0m\u001b[0;34m(\u001b[0m\u001b[0;34m*\u001b[0m\u001b[0margs\u001b[0m\u001b[0;34m)\u001b[0m\u001b[0;34m\u001b[0m\u001b[0m\n\u001b[0m\u001b[1;32m   1279\u001b[0m     \u001b[0;32mexcept\u001b[0m \u001b[0merrors\u001b[0m\u001b[0;34m.\u001b[0m\u001b[0mOpError\u001b[0m \u001b[0;32mas\u001b[0m \u001b[0me\u001b[0m\u001b[0;34m:\u001b[0m\u001b[0;34m\u001b[0m\u001b[0m\n\u001b[1;32m   1280\u001b[0m       \u001b[0mmessage\u001b[0m \u001b[0;34m=\u001b[0m \u001b[0mcompat\u001b[0m\u001b[0;34m.\u001b[0m\u001b[0mas_text\u001b[0m\u001b[0;34m(\u001b[0m\u001b[0me\u001b[0m\u001b[0;34m.\u001b[0m\u001b[0mmessage\u001b[0m\u001b[0;34m)\u001b[0m\u001b[0;34m\u001b[0m\u001b[0m\n",
            "\u001b[0;32m/usr/local/lib/python3.6/dist-packages/tensorflow/python/client/session.py\u001b[0m in \u001b[0;36m_run_fn\u001b[0;34m(feed_dict, fetch_list, target_list, options, run_metadata)\u001b[0m\n\u001b[1;32m   1261\u001b[0m       \u001b[0mself\u001b[0m\u001b[0;34m.\u001b[0m\u001b[0m_extend_graph\u001b[0m\u001b[0;34m(\u001b[0m\u001b[0;34m)\u001b[0m\u001b[0;34m\u001b[0m\u001b[0m\n\u001b[1;32m   1262\u001b[0m       return self._call_tf_sessionrun(\n\u001b[0;32m-> 1263\u001b[0;31m           options, feed_dict, fetch_list, target_list, run_metadata)\n\u001b[0m\u001b[1;32m   1264\u001b[0m \u001b[0;34m\u001b[0m\u001b[0m\n\u001b[1;32m   1265\u001b[0m     \u001b[0;32mdef\u001b[0m \u001b[0m_prun_fn\u001b[0m\u001b[0;34m(\u001b[0m\u001b[0mhandle\u001b[0m\u001b[0;34m,\u001b[0m \u001b[0mfeed_dict\u001b[0m\u001b[0;34m,\u001b[0m \u001b[0mfetch_list\u001b[0m\u001b[0;34m)\u001b[0m\u001b[0;34m:\u001b[0m\u001b[0;34m\u001b[0m\u001b[0m\n",
            "\u001b[0;32m/usr/local/lib/python3.6/dist-packages/tensorflow/python/client/session.py\u001b[0m in \u001b[0;36m_call_tf_sessionrun\u001b[0;34m(self, options, feed_dict, fetch_list, target_list, run_metadata)\u001b[0m\n\u001b[1;32m   1348\u001b[0m     return tf_session.TF_SessionRun_wrapper(\n\u001b[1;32m   1349\u001b[0m         \u001b[0mself\u001b[0m\u001b[0;34m.\u001b[0m\u001b[0m_session\u001b[0m\u001b[0;34m,\u001b[0m \u001b[0moptions\u001b[0m\u001b[0;34m,\u001b[0m \u001b[0mfeed_dict\u001b[0m\u001b[0;34m,\u001b[0m \u001b[0mfetch_list\u001b[0m\u001b[0;34m,\u001b[0m \u001b[0mtarget_list\u001b[0m\u001b[0;34m,\u001b[0m\u001b[0;34m\u001b[0m\u001b[0m\n\u001b[0;32m-> 1350\u001b[0;31m         run_metadata)\n\u001b[0m\u001b[1;32m   1351\u001b[0m \u001b[0;34m\u001b[0m\u001b[0m\n\u001b[1;32m   1352\u001b[0m   \u001b[0;32mdef\u001b[0m \u001b[0m_call_tf_sessionprun\u001b[0m\u001b[0;34m(\u001b[0m\u001b[0mself\u001b[0m\u001b[0;34m,\u001b[0m \u001b[0mhandle\u001b[0m\u001b[0;34m,\u001b[0m \u001b[0mfeed_dict\u001b[0m\u001b[0;34m,\u001b[0m \u001b[0mfetch_list\u001b[0m\u001b[0;34m)\u001b[0m\u001b[0;34m:\u001b[0m\u001b[0;34m\u001b[0m\u001b[0m\n",
            "\u001b[0;31mKeyboardInterrupt\u001b[0m: "
          ]
        }
      ]
    },
    {
      "metadata": {
        "id": "6CKhxVAVMQQb",
        "colab_type": "text"
      },
      "cell_type": "markdown",
      "source": [
        "### Blue Score Functions"
      ]
    },
    {
      "metadata": {
        "id": "-flyQJg1YsX8",
        "colab_type": "code",
        "colab": {}
      },
      "cell_type": "code",
      "source": [
        "def count_ngram(candidate, references, n):\n",
        "    clipped_count = 0\n",
        "    count = 0\n",
        "    r = 0\n",
        "    c = 0\n",
        "    for si in range(len(candidate)):\n",
        "        # Calculate precision for each sentence\n",
        "        ref_counts = []\n",
        "        ref_lengths = []\n",
        "        # Build dictionary of ngram counts\n",
        "        for reference in references:\n",
        "            ref_sentence = reference[si]\n",
        "            ngram_d = {}\n",
        "            words = ref_sentence.strip().split()\n",
        "            ref_lengths.append(len(words))\n",
        "            limits = len(words) - n + 1\n",
        "            # loop through the sentance consider the ngram length\n",
        "            for i in range(limits):\n",
        "                ngram = ' '.join(words[i:i+n]).lower()\n",
        "                if ngram in ngram_d.keys():\n",
        "                    ngram_d[ngram] += 1\n",
        "                else:\n",
        "                    ngram_d[ngram] = 1\n",
        "            ref_counts.append(ngram_d)\n",
        "        # candidate\n",
        "        cand_sentence = candidate[si]\n",
        "        cand_dict = {}\n",
        "        words = cand_sentence.strip().split()\n",
        "        limits = len(words) - n + 1\n",
        "        for i in range(0, limits):\n",
        "            ngram = ' '.join(words[i:i + n]).lower()\n",
        "            if ngram in cand_dict:\n",
        "                cand_dict[ngram] += 1\n",
        "            else:\n",
        "                cand_dict[ngram] = 1\n",
        "        clipped_count += clip_count(cand_dict, ref_counts)\n",
        "        count += limits\n",
        "        r += best_length_match(ref_lengths, len(words))\n",
        "        c += len(words)\n",
        "    if clipped_count == 0:\n",
        "        pr = 0\n",
        "    else:\n",
        "        pr = float(clipped_count) / count\n",
        "    bp = brevity_penalty(c, r)\n",
        "    return pr, bp\n",
        "\n",
        "\n",
        "def clip_count(cand_d, ref_ds):\n",
        "    \"\"\"Count the clip count for each ngram considering all references\"\"\"\n",
        "    count = 0\n",
        "    for m in cand_d.keys():\n",
        "        m_w = cand_d[m]\n",
        "        m_max = 0\n",
        "        for ref in ref_ds:\n",
        "            if m in ref:\n",
        "                m_max = max(m_max, ref[m])\n",
        "        m_w = min(m_w, m_max)\n",
        "        count += m_w\n",
        "    return count\n",
        "\n",
        "\n",
        "def best_length_match(ref_l, cand_l):\n",
        "    \"\"\"Find the closest length of reference to that of candidate\"\"\"\n",
        "    least_diff = abs(cand_l-ref_l[0])\n",
        "    best = ref_l[0]\n",
        "    for ref in ref_l:\n",
        "        if abs(cand_l-ref) < least_diff:\n",
        "            least_diff = abs(cand_l-ref)\n",
        "            best = ref\n",
        "    return best\n",
        "\n",
        "\n",
        "def brevity_penalty(c, r):\n",
        "    if c > r:\n",
        "        bp = 1\n",
        "    else:\n",
        "        bp = math.exp(1-(float(r)/c))\n",
        "    return bp\n",
        "\n",
        "\n",
        "def geometric_mean(precisions):\n",
        "    return (reduce(operator.mul, precisions)) ** (1.0 / len(precisions))\n",
        "\n",
        "\n",
        "def sel_sentence_bleu(candidate, references):\n",
        "    precisions = []\n",
        "    for i in range(4):\n",
        "        pr, bp = count_ngram(candidate, references, i+1)\n",
        "        precisions.append(pr)\n",
        "    bleu = geometric_mean(precisions) * bp\n",
        "    return bleu"
      ],
      "execution_count": 0,
      "outputs": []
    },
    {
      "metadata": {
        "id": "CcCYvSrNMpDp",
        "colab_type": "text"
      },
      "cell_type": "markdown",
      "source": [
        "## Translate Sentence"
      ]
    },
    {
      "metadata": {
        "id": "vQ36FC_AM1Mw",
        "colab_type": "text"
      },
      "cell_type": "markdown",
      "source": [
        "### Define functions"
      ]
    },
    {
      "metadata": {
        "id": "OlZ6FVjzMrDr",
        "colab_type": "code",
        "colab": {}
      },
      "cell_type": "code",
      "source": [
        "def find_next_word_beam_tran(logits_y, latent_score, t):\n",
        "\n",
        "  lower_ob = []\n",
        "  for l in range(latent_num):           \n",
        "    #y_max = np.max(logits_y[l,t])\n",
        "    prob_y = np.exp(logits_y[l,t])/np.sum(np.exp(logits_y[l,t]))    \n",
        "    log_prob_y_t = np.log(prob_y)     \n",
        "    lower_ob.append(log_prob_y_t)\n",
        "  \n",
        "  lower_to = 0\n",
        "  for l in range(latent_num):\n",
        "    lower_to = lower_to + lower_ob[l]  + latent_score[l]\n",
        "  lower_ave = lower_to/latent_num\n",
        "  \n",
        "  return lower_ave,  lower_ob"
      ],
      "execution_count": 0,
      "outputs": []
    },
    {
      "metadata": {
        "id": "wZV6l0TCMxnO",
        "colab_type": "code",
        "colab": {}
      },
      "cell_type": "code",
      "source": [
        "########## Beam Search translate ###########\n",
        "\n",
        "beam_size = 30\n",
        "\n",
        "x_in = np.reshape(np.copy(en_test[2]), (1, max_length))\n",
        "y_in = np.reshape(np.copy(fr_test[2]), (1, max_length))\n",
        "\n",
        "y_de = np.random.randint(low=0, high=fr_vocab_size, size=(beam_size, max_length))\n",
        "x_de = np.random.randint(low=0, high=en_vocab_size, size=(beam_size, max_length))\n",
        "\n",
        "#########################################################\n",
        "prob_next_word = np.ones((beam_size, en_vocab_size),dtype=np.float32)\n",
        "x_de_new = np.zeros(y_de.shape, dtype=np.int32)\n",
        "\n",
        "x_len = np.reshape(np.copy(en_test_len[2]), (1,))\n",
        "y_len = np.reshape(np.copy(fr_test_len[2]), (1,))\n",
        "\n",
        "score = np.zeros((beam_size))\n",
        "latent_score = np.zeros((latent_num))\n",
        "current_prob = np.zeros((beam_size, en_vocab_size))\n",
        "\n",
        "with tf.Session() as sess:\n",
        "  \n",
        "    saver = tf.train.Saver()\n",
        "    saver.restore(sess, path1)\n",
        "    \n",
        "    gene_feed_dict = {input_placeholder: x_in, \n",
        "                      target_placeholder: y_in,\n",
        "                      in_length_placeholder: x_len, \n",
        "                      out_length_placeholder: y_len}                           \n",
        "            \n",
        "    mean, std = sess.run([la_mean, la_std], feed_dict=gene_feed_dict)    # 1*max_len x fr_vocab_size\n",
        "    \n",
        "    la_var = []\n",
        "    log_prob_la = []\n",
        "    for _ in range(latent_num):\n",
        "      eposida = np.random.normal(size = np.shape(la_std), loc=0.0, scale=1)\n",
        "      la_var_sample = mean + std*eposida\n",
        "      la_var_sample = np.reshape(la_var_sample, (batch_size, max_length, latent_size))    # batch_size x max_length x latent_size\n",
        "      la_var.append(la_var_sample)\n",
        "      log_prob_la.append(np.sum(np.log(norm.pdf(la_var_sample))))\n",
        "    \n",
        "    gene_feed_dict = {latent_var_placeholder:la_var,\n",
        "                      target_placeholder: y_in,\n",
        "                      out_length_placeholder: y_len}                           \n",
        "            \n",
        "    log_y = sess.run(log_liki_y_to, feed_dict=gene_feed_dict)    # 1*max_len x fr_vocab_size\n",
        "    \n",
        "    \n",
        "    for i in range(latent_num):\n",
        "      latent_score[i] = log_prob_la[i] + log_y[i]\n",
        "    \n",
        "    for t in range(10):      \n",
        "        for j in range(beam_size):\n",
        "          gene_feed_dict = {if_gene_placeholder: True,\n",
        "                            latent_var_placeholder:la_var,\n",
        "                            input_placeholder: np.reshape(x_de[j], (1,max_length))}\n",
        "                                                                           \n",
        "          logits_x = sess.run(logits_gene_x_to, feed_dict=gene_feed_dict)    # 1*max_len x fr_vocab_size\n",
        "            \n",
        "          prob_next_word[j], current_prob[j]  = find_next_word_beam_first(logits_x, latent_score, t)          \n",
        "          \n",
        "        \n",
        "        beam_max_id = np.argmax(prob_next_word, axis=0)\n",
        "        beam_max = np.max(prob_next_word, axis=0)\n",
        "        \n",
        "        next_beam_id = np.argsort(beam_max)[-beam_size:]\n",
        "        \n",
        "        score_new = np.zeros((beam_size))\n",
        "        \n",
        "        for j in range(beam_size):\n",
        "          beam_id = beam_max_id[next_beam_id[j]]\n",
        "          x_de_new[j] = x_de[beam_id]\n",
        "          x_de_new[j,t] = next_beam_id[j]\n",
        "          score_new[j] =  latent_score[beam_id] + current_prob[beam_id, next_beam_id[j]]\n",
        "        \n",
        "        x_de = x_de_new\n",
        "        latent_score = score_new\n",
        "        \n",
        "    print(np.mean(latent_score))"
      ],
      "execution_count": 0,
      "outputs": []
    }
  ]
}