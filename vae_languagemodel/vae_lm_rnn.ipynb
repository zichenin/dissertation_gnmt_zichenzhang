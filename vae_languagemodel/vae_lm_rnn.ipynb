{
  "nbformat": 4,
  "nbformat_minor": 0,
  "metadata": {
    "colab": {
      "name": "vae_lm_16.ipynb",
      "version": "0.3.2",
      "provenance": [],
      "collapsed_sections": [
        "aE3aqguc1UK_"
      ]
    },
    "kernelspec": {
      "display_name": "Python 3",
      "language": "python",
      "name": "python3"
    },
    "accelerator": "GPU"
  },
  "cells": [
    {
      "metadata": {
        "id": "hZg-tBJhJ8Bz",
        "colab_type": "text"
      },
      "cell_type": "markdown",
      "source": [
        "## Import library"
      ]
    },
    {
      "metadata": {
        "id": "YyBKEOB0J8B0",
        "colab_type": "code",
        "colab": {}
      },
      "cell_type": "code",
      "source": [
        "# !apt-get install -y -qq software-properties-common python-software-properties module-init-tools\n",
        "# !add-apt-repository -y ppa:alessandro-strada/ppa 2>&1 > /dev/null\n",
        "# !apt-get update -qq 2>&1 > /dev/null\n",
        "# !apt-get -y install -qq google-drive-ocamlfuse fuse\n",
        "# from google.colab import auth\n",
        "# auth.authenticate_user()\n",
        "# from oauth2client.client import GoogleCredentials\n",
        "# creds = GoogleCredentials.get_application_default()\n",
        "# import getpass\n",
        "# !google-drive-ocamlfuse -headless -id={creds.client_id} -secret={creds.client_secret} < /dev/null 2>&1 | grep URL\n",
        "# vcode = getpass.getpass()\n",
        "# !echo {vcode} | google-drive-ocamlfuse -headless -id={creds.client_id} -secret={creds.client_secret}"
      ],
      "execution_count": 0,
      "outputs": []
    },
    {
      "metadata": {
        "id": "KKjYVAahxqAX",
        "colab_type": "code",
        "colab": {}
      },
      "cell_type": "code",
      "source": [
        "# !mkdir -p drive\n",
        "# !google-drive-ocamlfuse drive"
      ],
      "execution_count": 0,
      "outputs": []
    },
    {
      "metadata": {
        "id": "oQv-8hdax6gp",
        "colab_type": "code",
        "colab": {
          "base_uri": "https://localhost:8080/",
          "height": 34
        },
        "outputId": "9de5a1a2-194a-42f7-c8b8-b43b48bc03ab"
      },
      "cell_type": "code",
      "source": [
        "ls"
      ],
      "execution_count": 1,
      "outputs": [
        {
          "output_type": "stream",
          "text": [
            "adc.json  \u001b[0m\u001b[01;36mdatalab\u001b[0m@  \u001b[01;34mdrive\u001b[0m/  \u001b[01;34msample_data\u001b[0m/\r\n"
          ],
          "name": "stdout"
        }
      ]
    },
    {
      "metadata": {
        "id": "krhD2fIQyC_X",
        "colab_type": "code",
        "colab": {
          "base_uri": "https://localhost:8080/",
          "height": 34
        },
        "outputId": "92a40a98-16aa-4fca-b512-ca09f410f084"
      },
      "cell_type": "code",
      "source": [
        "cd drive/ptb_vae_lm"
      ],
      "execution_count": 2,
      "outputs": [
        {
          "output_type": "stream",
          "text": [
            "/content/drive/ptb_vae_lm\n"
          ],
          "name": "stdout"
        }
      ]
    },
    {
      "metadata": {
        "id": "1WbWrk2HJ8B2",
        "colab_type": "code",
        "colab": {}
      },
      "cell_type": "code",
      "source": [
        "import tensorflow as tf\n",
        "import numpy as np\n",
        "import os\n",
        "import re\n",
        "import reader\n",
        "from tensorflow.contrib.seq2seq import sequence_loss\n",
        "import math\n",
        "import matplotlib.pyplot as plt\n",
        "import collections\n",
        "\n",
        "!pip install -q mosestokenizer\n",
        "from mosestokenizer import *\n",
        "import copy"
      ],
      "execution_count": 0,
      "outputs": []
    },
    {
      "metadata": {
        "id": "aE3aqguc1UK_",
        "colab_type": "text"
      },
      "cell_type": "markdown",
      "source": [
        "## Data Pre-processing"
      ]
    },
    {
      "metadata": {
        "id": "jk41lQJA1hSG",
        "colab_type": "code",
        "colab": {}
      },
      "cell_type": "code",
      "source": [
        "# def _read_words(filename):\n",
        "#   with tf.gfile.GFile(filename, \"r\") as f: \n",
        "#     output = f.read().replace(\"\\n\", \" eos \").replace(\".\", \" .\")\n",
        "#     output = re.sub('[0-9]+', 'N', output)\n",
        "#     return output\n",
        "  \n",
        "# def train_vocab_en(n):  \n",
        "#     # get vocab in train which show more than n times\n",
        "    \n",
        "#     vocab = {'<PAD>': 0, '<OOV>': 1}\n",
        "    \n",
        "#     word_count = collections.defaultdict(float)\n",
        "    \n",
        "#     en_tokenize = MosesTokenizer('en')\n",
        "    \n",
        "#     for i in range(1):\n",
        "#       data = _read_words(\"../ptb_data/ptb.train.txt\")\n",
        "#       data = en_tokenize(data)\n",
        "    \n",
        "#       for token in data:\n",
        "#         word_count[token] += 1.0\n",
        "                          \n",
        "#     total_word = set(word_count)\n",
        "    \n",
        "#     for word in total_word:\n",
        "#         if word_count[word] > n:\n",
        "#             vocab[word] = len(vocab)  # word only show less than n times became oov\n",
        "            \n",
        "#     return vocab"
      ],
      "execution_count": 0,
      "outputs": []
    },
    {
      "metadata": {
        "id": "TFs1MjD61w-2",
        "colab_type": "code",
        "colab": {}
      },
      "cell_type": "code",
      "source": [
        "# en_word_to_id = train_vocab_en(5) \n",
        "# en_word_to_id['<beg>'] = len(en_word_to_id)\n",
        "# en_vocab_size = len(en_word_to_id)\n",
        "# print(en_vocab_size)"
      ],
      "execution_count": 0,
      "outputs": []
    },
    {
      "metadata": {
        "id": "Zmwq93LwFQ1S",
        "colab_type": "code",
        "colab": {}
      },
      "cell_type": "code",
      "source": [
        "# def _read_words(filename):\n",
        "#   with tf.gfile.GFile(filename, \"r\") as f: \n",
        "#     output = f.read().replace(\"\\n\", \" eos \").replace(\".\", \" .\")\n",
        "#     output = re.sub('[0-9]+', 'N', output)\n",
        "#     return output\n",
        "\n",
        "# def _file_to_word_ids(data, word_to_id):\n",
        "  \n",
        "#   id_list = []\n",
        "  \n",
        "#   for word in data:\n",
        "#     if word in word_to_id:\n",
        "#       id_list.append(word_to_id[word])\n",
        "#     else:\n",
        "#       id_list.append(1)\n",
        "          \n",
        "#   return id_list\n",
        "\n",
        "# def preprocess_train_data(pre_data, word_to_id, max_length):\n",
        "#     pre_data_array = np.asarray(pre_data)\n",
        "#     last_start = 0\n",
        "#     data = []\n",
        "#     each_sen_len = []\n",
        "    \n",
        "#     for i in range(len(pre_data_array)):\n",
        "#         if pre_data_array[i]==word_to_id['eos']:\n",
        "#             if max_length >= len(pre_data_array[last_start:(i+1)]):                \n",
        "#               data.append(pre_data_array[last_start:(i+1)])\n",
        "#               each_sen_len.append(i+1-last_start)\n",
        "              \n",
        "#             else:\n",
        "#               shorten_sentences = pre_data_array[last_start:(last_start+max_length-1)]\n",
        "#               shorten_sentences = np.concatenate((shorten_sentences, np.asarray([word_to_id['eos']])), axis=0)\n",
        "#               data.append(shorten_sentences)\n",
        "#               each_sen_len.append(max_length) \n",
        "            \n",
        "#             last_start = i+1\n",
        "            \n",
        "#     out_sentences = np.full([len(data), max_length], word_to_id['<PAD>'], dtype=np.int32)\n",
        "#     for i in range(len(data)):\n",
        "#         out_sentences[i,:len(data[i])] = data[i]    \n",
        "#     return out_sentences, np.asarray(each_sen_len)\n",
        "            \n",
        "#     return data, each_sen_len"
      ],
      "execution_count": 0,
      "outputs": []
    },
    {
      "metadata": {
        "id": "_U7GokZPFi67",
        "colab_type": "code",
        "colab": {}
      },
      "cell_type": "code",
      "source": [
        "# def generate_input_en(en_file, en_word_to_id, max_length):\n",
        "  \n",
        "#     en_data = _read_words(en_file)\n",
        "\n",
        "#     en_tokenize = MosesTokenizer('en')\n",
        "\n",
        "#     en_data = en_tokenize(en_data)\n",
        "\n",
        "#     en_data_id = _file_to_word_ids(en_data, en_word_to_id)\n",
        "\n",
        "#     en_input, en_input_len = preprocess_train_data(en_data_id, en_word_to_id, max_length)\n",
        "    \n",
        "#     return en_input, en_input_len\n",
        "  \n",
        "  \n",
        "  \n",
        "# def generate_decode_input_en(en_file, en_word_to_id, max_length):\n",
        "    \n",
        "#     en_data = _read_words(en_file)\n",
        "\n",
        "#     en_tokenize = MosesTokenizer('en')\n",
        "\n",
        "#     en_data = en_tokenize(en_data)\n",
        "\n",
        "#     en_data_id = _file_to_word_ids(en_data, en_word_to_id)\n",
        "\n",
        "#     en_output, en_output_len = preprocess_train_data(en_data_id, en_word_to_id, max_length)\n",
        "\n",
        "#     out_beg_token = en_word_to_id['<beg>']*np.ones((en_output.shape[0], 1), dtype=np.int32)\n",
        "\n",
        "#     en_output = np.concatenate((out_beg_token, en_output), axis=1)\n",
        "\n",
        "#     return en_output,en_output_len"
      ],
      "execution_count": 0,
      "outputs": []
    },
    {
      "metadata": {
        "id": "likRP73IFlSC",
        "colab_type": "code",
        "colab": {}
      },
      "cell_type": "code",
      "source": [
        "# def batch_producer(raw_data, raw_data_len, batch_size):    \n",
        "#     data_len = len(raw_data)    \n",
        "#     batch_len = data_len // batch_size    \n",
        "#     data = np.reshape(raw_data[0 : batch_size * batch_len, :], [batch_size, batch_len, -1])\n",
        "#     data = np.transpose(data, (1,0,2))\n",
        "    \n",
        "#     data_length = np.reshape(raw_data_len[0 : batch_size * batch_len], [batch_size, batch_len])\n",
        "#     data_length = np.transpose(data_length, (1,0))\n",
        "#     return data, data_length "
      ],
      "execution_count": 0,
      "outputs": []
    },
    {
      "metadata": {
        "id": "O9vW-trZSFC_",
        "colab_type": "code",
        "colab": {}
      },
      "cell_type": "code",
      "source": [
        "# oov_id = en_word_to_id['<OOV>']\n",
        "\n",
        "# def dropout_func(decode_input, dropout_prob, oov_id=1):\n",
        "#   for i in range(decode_input.shape[0]):\n",
        "#     for j in range(decode_input.shape[1]):\n",
        "#         for k in range(1,decode_input.shape[2]):\n",
        "#             if np.random.uniform() > dropout_prob:\n",
        "#                 decode_input[i,j,k] = oov_id\n",
        "#   return decode_input"
      ],
      "execution_count": 0,
      "outputs": []
    },
    {
      "metadata": {
        "id": "Vva38F6OJ8B4",
        "colab_type": "text"
      },
      "cell_type": "markdown",
      "source": [
        "## Data processing"
      ]
    },
    {
      "metadata": {
        "id": "LGzB7z-aRahf",
        "colab_type": "code",
        "colab": {}
      },
      "cell_type": "code",
      "source": [
        "# def preprocess_train_data(pre_data):\n",
        "#     pre_data_array = np.asarray(pre_data)\n",
        "#     last_start = 0\n",
        "#     max_length = 0\n",
        "#     data = []\n",
        "#     each_sen_len = []\n",
        "    \n",
        "#     for i in range(len(pre_data_array)):\n",
        "#         if pre_data_array[i]==2:\n",
        "#             data.append(pre_data_array[last_start:(i+1)])\n",
        "#             each_sen_len.append(i+1-last_start) \n",
        "#             if max_length < len(pre_data_array[last_start:(i+1)]):\n",
        "#                 max_length = len(pre_data_array[last_start:(i+1)])\n",
        "#             last_start = i+1\n",
        "            \n",
        "#     out_sentences = np.full([len(data), max_length], word_to_id['<pad>'], dtype=np.int32)\n",
        "#     for i in range(len(data)):\n",
        "#         out_sentences[i,:len(data[i])] = data[i]    \n",
        "#     return out_sentences, np.asarray(each_sen_len)\n",
        "  \n",
        "def preprocess_train_data(pre_data, word_to_id, max_length):\n",
        "    pre_data_array = np.asarray(pre_data)\n",
        "    last_start = 0\n",
        "    data = []\n",
        "    each_sen_len = []\n",
        "    \n",
        "    for i in range(len(pre_data_array)):\n",
        "        if pre_data_array[i]==word_to_id['<eos>']:\n",
        "            if max_length >= len(pre_data_array[last_start:(i+1)]):                \n",
        "              data.append(pre_data_array[last_start:(i+1)])\n",
        "              each_sen_len.append(i+1-last_start)\n",
        "              \n",
        "            else:\n",
        "              shorten_sentences = pre_data_array[last_start:(last_start+max_length-1)]\n",
        "              shorten_sentences = np.concatenate((shorten_sentences, np.asarray([word_to_id['<eos>']])), axis=0)\n",
        "              data.append(shorten_sentences)\n",
        "              each_sen_len.append(max_length) \n",
        "            \n",
        "            last_start = i+1\n",
        "            \n",
        "    out_sentences = np.full([len(data), max_length], word_to_id['<pad>'], dtype=np.int32)\n",
        "    for i in range(len(data)):\n",
        "        out_sentences[i,:len(data[i])] = data[i]    \n",
        "    return out_sentences, np.asarray(each_sen_len)\n",
        "            \n",
        "    return data, each_sen_len\n",
        "  \n",
        "  \n",
        "# def preprocess_test_data(pre_data, max_length):\n",
        "#     pre_data_array = np.asarray(pre_data)\n",
        "#     last_start = 0\n",
        "#     data = []\n",
        "#     each_sen_len = []\n",
        "    \n",
        "#     for i in range(len(pre_data_array)):\n",
        "#         if pre_data_array[i]==2:\n",
        "#             data.append(pre_data_array[last_start:(i+1)])\n",
        "#             each_sen_len.append(i+1-last_start)\n",
        "#             last_start = i+1\n",
        "            \n",
        "#     out_sentences = np.full([len(data), max_length], word_to_id['<pad>'], dtype=np.int32)\n",
        "#     for i in range(len(data)):\n",
        "#         out_sentences[i,:len(data[i])] = data[i]\n",
        "\n",
        "#     return out_sentences, np.asarray(each_sen_len)\n",
        "\n",
        "  \n",
        "  \n",
        "def ptb_producer(raw_data, raw_data_len, batch_size):    \n",
        "    data_len = len(raw_data)    \n",
        "    batch_len = data_len // batch_size    \n",
        "    data = np.reshape(raw_data[0 : batch_size * batch_len, :], [batch_size, batch_len, -1])\n",
        "    data = np.transpose(data, (1,0,2))\n",
        "    \n",
        "    data_length = np.reshape(raw_data_len[0 : batch_size * batch_len], [batch_size, batch_len])\n",
        "    data_length = np.transpose(data_length, (1,0))\n",
        "    return data, data_length "
      ],
      "execution_count": 0,
      "outputs": []
    },
    {
      "metadata": {
        "id": "HuTr7JFJo3Of",
        "colab_type": "code",
        "colab": {}
      },
      "cell_type": "code",
      "source": [
        "def dropout_func(decode_input, dropout_prob, oov_id):\n",
        "  for i in range(decode_input.shape[0]):\n",
        "    for j in range(decode_input.shape[1]):\n",
        "        for k in range(1,decode_input.shape[2]):\n",
        "            if np.random.uniform() > dropout_prob:\n",
        "                decode_input[i,j,k] = oov_id\n",
        "  return decode_input"
      ],
      "execution_count": 0,
      "outputs": []
    },
    {
      "metadata": {
        "id": "X8lcXNKLpYhT",
        "colab_type": "code",
        "colab": {
          "base_uri": "https://localhost:8080/",
          "height": 34
        },
        "outputId": "d12bbe20-7c3b-4ec2-d86f-daaac71f0a01"
      },
      "cell_type": "code",
      "source": [
        "train_data, valid_data, test_data, vocabulary, word_to_id = reader.ptb_raw_data(data_path=\"../ptb_data\")\n",
        "word_to_id['<pad>'] = 10000\n",
        "word_to_id['<beg>'] = 10001\n",
        "#word_to_id['<null>'] = 10002\n",
        "len(word_to_id) "
      ],
      "execution_count": 6,
      "outputs": [
        {
          "output_type": "execute_result",
          "data": {
            "text/plain": [
              "10002"
            ]
          },
          "metadata": {
            "tags": []
          },
          "execution_count": 6
        }
      ]
    },
    {
      "metadata": {
        "id": "oxQiy-1uJ8CF",
        "colab_type": "text"
      },
      "cell_type": "markdown",
      "source": [
        "## Model"
      ]
    },
    {
      "metadata": {
        "id": "NSCJSRhXJ8CG",
        "colab_type": "code",
        "colab": {}
      },
      "cell_type": "code",
      "source": [
        "# set model parameter\n",
        "vocab_len = len(word_to_id)\n",
        "\n",
        "num_steps = 30\n",
        "max_length = num_steps\n",
        "batch_size = 50\n",
        "\n",
        "batch_size = 1\n",
        "\n",
        "embed_size = 300\n",
        "hidden_size = 500\n",
        "latent_size = 15\n",
        "\n",
        "dropout_prob = 0.7"
      ],
      "execution_count": 0,
      "outputs": []
    },
    {
      "metadata": {
        "id": "Tymt8rizypNz",
        "colab_type": "code",
        "colab": {}
      },
      "cell_type": "code",
      "source": [
        "###################### define placeholder ######################\n",
        "input_placeholder = tf.placeholder(tf.int32, [None, num_steps], 'input')                                # batch_size x num_steps\n",
        "decode_placeholder = tf.placeholder(tf.int32, [None, num_steps+1], 'decode_input')                        # batch_size x num_steps\n",
        "\n",
        "length_placeholder = tf.placeholder(tf.int32, [None, ], 'weight')                                       # batch_size x 1\n",
        "dropout_placeholder = tf.placeholder(tf.float32, name='dropout') \n",
        "\n",
        "discount_placeholder = tf.placeholder(tf.float32, name='discount') \n",
        "learnrate_placeholder = tf.placeholder(tf.float32, name='learnrate') \n",
        "\n",
        "if_gene_placeholder = tf.placeholder(tf.bool, name='if_gene')\n",
        "latent_var_placeholder = tf.placeholder(tf.float32, [batch_size, latent_size], 'la_var')       # batch_size x max_length x latent_size\n",
        "\n",
        "\n",
        "#########################################################\n",
        "xavier_initializer = tf.contrib.layers.xavier_initializer()\n",
        "\n",
        "\n",
        "##################### embedding look-up for input sentences ######################\n",
        "\n",
        "with tf.variable_scope('Embedding'):\n",
        "    embedding = tf.get_variable('embeding',[vocab_len, embed_size], dtype=tf.float32, initializer=xavier_initializer)\n",
        "    inputs = tf.nn.embedding_lookup(embedding, input_placeholder)                                       # batch_size x num_steps x embed_size\n",
        "    inputs = tf.transpose(inputs, (1,0,2))                                                              # num_steps x batch_size x embed_size\n",
        "    \n",
        "    decode_in = tf.nn.embedding_lookup(embedding, decode_placeholder)\n",
        "    decode_in = tf.transpose(decode_in, (1,0,2))\n",
        "       \n",
        "    \n",
        "##################### encoder ######################\n",
        "    \n",
        "#### encoder lstm \n",
        "with tf.variable_scope('encode'):\n",
        "    basic_cell = tf.contrib.rnn.BasicLSTMCell(hidden_size, forget_bias=0.0, state_is_tuple=True)\n",
        "    init_state = basic_cell.zero_state(batch_size, tf.float32)\n",
        "    outputs, state = tf.nn.dynamic_rnn(basic_cell, inputs, sequence_length=length_placeholder, initial_state=init_state, dtype=tf.float32, time_major=True)\n",
        "    "
      ],
      "execution_count": 0,
      "outputs": []
    },
    {
      "metadata": {
        "id": "nbZdZEYXy3vX",
        "colab_type": "code",
        "colab": {}
      },
      "cell_type": "code",
      "source": [
        "#### the fully-connected layer to obatin the mean and variance of q(z/x) \n",
        "with tf.variable_scope('latent'):\n",
        "    w_2_en = tf.get_variable('w2', [hidden_size, latent_size], dtype=tf.float32, initializer=xavier_initializer)\n",
        "    b_2_en = tf.get_variable('b2', [latent_size,], dtype=tf.float32, initializer=xavier_initializer)\n",
        "    w_3_en = tf.get_variable('w3', [hidden_size, latent_size], dtype=tf.float32, initializer=xavier_initializer)\n",
        "    b_3_en = tf.get_variable('b3', [latent_size,], dtype=tf.float32, initializer=xavier_initializer)"
      ],
      "execution_count": 0,
      "outputs": []
    },
    {
      "metadata": {
        "id": "pcnP1uuzy61e",
        "colab_type": "code",
        "colab": {}
      },
      "cell_type": "code",
      "source": [
        "#### generate sampled hidden code/latent variable \n",
        "final_hidden_state = state.h\n",
        "\n",
        "#### hidden mean\n",
        "mean_encode = tf.matmul(final_hidden_state,w_2_en) + b_2_en\n",
        "\n",
        "#### hidden variance\n",
        "log_var_encode = tf.matmul(final_hidden_state,w_3_en) + b_3_en\n",
        "var_encode = tf.exp(log_var_encode)\n",
        "std_encode = tf.sqrt(var_encode)\n",
        "\n",
        "#### sample the latent variable z by reparameterization trick\n",
        "eposida = tf.random_normal(tf.shape(std_encode), mean=0.0,stddev=1)\n",
        "hidden_code = mean_encode + std_encode*eposida                                                          # batch_size x latent_size\n",
        "      \n",
        "    \n",
        "#### KL Divergence loss  \n",
        "#### could be calculated in closed form since both q(z/x) and p(z) are assumed to be Gaussian distribution\n",
        "\n",
        "kl_div_loss = 1 + log_var_encode - tf.square(mean_encode) - var_encode     # batch_size x latent_size\n",
        "kl_div_loss = -0.5 * tf.reduce_sum(kl_div_loss, axis=1)                    # batch_size x 1"
      ],
      "execution_count": 0,
      "outputs": []
    },
    {
      "metadata": {
        "id": "3Qu-L2qxy8fs",
        "colab_type": "code",
        "colab": {}
      },
      "cell_type": "code",
      "source": [
        "hidden_code = latent_var_placeholder"
      ],
      "execution_count": 0,
      "outputs": []
    },
    {
      "metadata": {
        "id": "vtx7dfT-y-rC",
        "colab_type": "code",
        "colab": {}
      },
      "cell_type": "code",
      "source": [
        "##################### decoder ######################\n",
        "\n",
        "#### input for decoder lstm\n",
        "stacked_hidden_code = []\n",
        "for i in range(num_steps+1):\n",
        "    stacked_hidden_code.append(hidden_code)\n",
        "    \n",
        "stacked_hidden_code = tf.stack(stacked_hidden_code, axis=0)         # num_steps x batch_size x latent_size\n",
        "\n",
        "de_lstm_input = tf.concat([stacked_hidden_code, decode_in], 2)      # num_steps x batch_size x (embbedd_size + latent_size)"
      ],
      "execution_count": 0,
      "outputs": []
    },
    {
      "metadata": {
        "id": "8pwd60kazAbm",
        "colab_type": "code",
        "colab": {}
      },
      "cell_type": "code",
      "source": [
        "#### decoder lstm cell\n",
        "with tf.variable_scope('decode'):\n",
        "    de_basic_cell = tf.contrib.rnn.BasicLSTMCell(hidden_size, forget_bias=0.0, state_is_tuple=True)     \n",
        "    de_init_state = de_basic_cell.zero_state(batch_size, tf.float32)\n",
        "    de_outputs, de_state = tf.nn.dynamic_rnn(de_basic_cell, de_lstm_input, initial_state=de_init_state, dtype=tf.float32, time_major=True)\n",
        "\n",
        "\n",
        "#### variablen of a FC layer to map the hidden state of the decoder-rnn in each time-step to the predicted next word\n",
        "with tf.variable_scope('project'):\n",
        "    U = tf.get_variable('rnn_output_w', [hidden_size,embed_size], dtype=tf.float32, initializer=xavier_initializer)\n",
        "    proj_b = tf.get_variable('rnn_output_b', [embed_size,], dtype=tf.float32, initializer=xavier_initializer)"
      ],
      "execution_count": 0,
      "outputs": []
    },
    {
      "metadata": {
        "id": "OWFDg0irzCcs",
        "colab_type": "code",
        "colab": {}
      },
      "cell_type": "code",
      "source": [
        "de_outputs_tran = tf.transpose(de_outputs,(1,0,2))\n",
        "\n",
        "de_outputs_resh = tf.reshape(de_outputs_tran[:,:num_steps, :], [batch_size*num_steps, hidden_size])\n",
        "  \n",
        "logits = tf.matmul(de_outputs_resh, U) + proj_b\n",
        "\n",
        "targets = tf.reshape(tf.transpose(inputs, (1,0,2)), [batch_size*num_steps, embed_size])\n",
        "\n",
        "prob_unnorm = tf.exp(tf.reduce_sum(logits*targets, axis=1))\n",
        "\n",
        "prob_constant = tf.exp(tf.matmul(logits, tf.transpose(embedding,(1,0))))\n",
        "\n",
        "prob_norm = prob_unnorm/tf.reduce_sum(prob_constant, axis=1) \n",
        "\n",
        "log_prob_norm = tf.log(prob_norm)\n",
        "\n",
        "log_prob_norm = tf.reshape(log_prob_norm, [batch_size, num_steps])\n",
        "\n",
        "#### sequence weight\n",
        "squence_weight = tf.sequence_mask(length_placeholder, maxlen=num_steps, dtype=tf.float32)\n",
        "\n",
        "cross_entropy = - tf.reduce_sum(log_prob_norm*squence_weight, axis=1)\n"
      ],
      "execution_count": 0,
      "outputs": []
    },
    {
      "metadata": {
        "id": "lKqzPlmtzMsR",
        "colab_type": "code",
        "colab": {}
      },
      "cell_type": "code",
      "source": [
        "# # L2 reguralization for trainable variables\n",
        "# train_variables = tf.trainable_variables()\n",
        "# regularization_cost = tf.reduce_sum([tf.nn.l2_loss(variable) for variable in train_variables])\n",
        "# regular_rate = 0.0002"
      ],
      "execution_count": 0,
      "outputs": []
    },
    {
      "metadata": {
        "id": "2a_CM_VXzEN3",
        "colab_type": "code",
        "colab": {}
      },
      "cell_type": "code",
      "source": [
        "batch_lowerbound = cross_entropy + discount_placeholder*kl_div_loss  # batch_size x 1\n",
        "\n",
        "batch_lowerbound_mean = tf.reduce_mean(batch_lowerbound) \n",
        "\n",
        "objective = batch_lowerbound_mean \n",
        "\n",
        "#+ regular_rate*regularization_cost\n",
        "\n",
        "#### optimizer\n",
        "opt = tf.train.AdamOptimizer(learnrate_placeholder).minimize(batch_lowerbound_mean)"
      ],
      "execution_count": 0,
      "outputs": []
    },
    {
      "metadata": {
        "id": "kmVRhGr6zHbx",
        "colab_type": "code",
        "colab": {}
      },
      "cell_type": "code",
      "source": [
        "#### save the model\n",
        "def save_model(session, path):\n",
        "    if not os.path.exists(\"./result_0818/\"):\n",
        "        os.mkdir('./result_0818/')\n",
        "    saver = tf.train.Saver()\n",
        "    saver.save(session, path)\n",
        "\n",
        "path1 = './result_0818/model_each_epch.ckpt'"
      ],
      "execution_count": 0,
      "outputs": []
    },
    {
      "metadata": {
        "id": "KhXUuH19gm5L",
        "colab_type": "code",
        "colab": {}
      },
      "cell_type": "code",
      "source": [
        "def sigmoid(x):\n",
        "    return (1 / (1 + math.exp(-x)))\n",
        "\n",
        "\n",
        "def text_save(content,filename,mode='a'):\n",
        "    # Try to save a list variable in txt file.\n",
        "    file = open(filename,mode)\n",
        "    for i in range(len(content)):\n",
        "        file.write(str(content[i])+'\\n')\n",
        "    file.close()\n",
        "    \n",
        "def text_read(filename):\n",
        "    # Try to read a txt file and return a list.Return [] if there was a mistake.\n",
        "    try:\n",
        "        file = open(filename,'r')\n",
        "    except IOError:\n",
        "        error = []\n",
        "        return error\n",
        "    content = file.readlines()\n",
        " \n",
        "    for i in range(len(content)):\n",
        "        content[i] = content[i][:len(content[i])-1]\n",
        " \n",
        "    file.close()\n",
        "    return content"
      ],
      "execution_count": 0,
      "outputs": []
    },
    {
      "metadata": {
        "id": "7A4E-S4RJ8CP",
        "colab_type": "text"
      },
      "cell_type": "markdown",
      "source": [
        "## Train"
      ]
    },
    {
      "metadata": {
        "id": "hqFy7GJOoqNA",
        "colab_type": "code",
        "colab": {}
      },
      "cell_type": "code",
      "source": [
        "train_input, train_sen_len = preprocess_train_data(train_data, word_to_id,max_length)\n",
        "\n",
        "valid_input, valid_sen_len = preprocess_train_data(valid_data,word_to_id, max_length)\n",
        "\n",
        "test_input, test_sen_len = preprocess_train_data(test_data,word_to_id,max_length)"
      ],
      "execution_count": 0,
      "outputs": []
    },
    {
      "metadata": {
        "id": "lB8m70dAmXJS",
        "colab_type": "code",
        "colab": {}
      },
      "cell_type": "code",
      "source": [
        "train_beg_token = 10001*np.ones((train_input.shape[0],1), dtype=np.int32)\n",
        "train_decode_input = np.concatenate((train_beg_token, train_input), axis=1)\n",
        "\n",
        "train_input_data, train_len_data = ptb_producer(train_input, train_sen_len, batch_size)\n",
        "train_decode_input_data, train_decode_len_data = ptb_producer(train_decode_input, train_sen_len, batch_size)\n",
        "train_decode_input_data = dropout_func(train_decode_input_data, dropout_prob,word_to_id['<unk>'])\n",
        "\n",
        "valid_beg_token = 10001*np.ones((valid_input.shape[0],1), dtype=np.int32)\n",
        "valid_decode_input = np.concatenate((valid_beg_token, valid_input), axis=1)\n",
        "\n",
        "valid_input_data, valid_len_data = ptb_producer(valid_input, valid_sen_len, batch_size)\n",
        "valid_decode_input_data, valid_decode_len_data = ptb_producer(valid_decode_input, valid_sen_len, batch_size)\n",
        "#valid_decode_input_data = dropout_func(valid_decode_input_data, dropout_prob,word_to_id['<unk>'])\n",
        "\n",
        "test_beg_token = 10001*np.ones((test_input.shape[0],1), dtype=np.int32)\n",
        "test_decode_input = np.concatenate((test_beg_token, test_input), axis=1)\n",
        "\n",
        "test_input_data, test_len_data = ptb_producer(test_input, test_sen_len, batch_size)\n",
        "test_decode_input_data, test_decode_len_data = ptb_producer(test_decode_input, test_sen_len, batch_size)\n",
        "#test_decode_input_data = dropout_func(test_decode_input_data, dropout_prob,word_to_id['<unk>'])"
      ],
      "execution_count": 0,
      "outputs": []
    },
    {
      "metadata": {
        "id": "MG2ON9uNmmum",
        "colab_type": "code",
        "colab": {}
      },
      "cell_type": "code",
      "source": [
        "record_index = np.random.randint(low=0, high=train_input.shape[0]-1, size=3000)\n",
        "en_train_record = train_input[record_index]\n",
        "en_de_train_record = train_decode_input[record_index]\n",
        "en_train_len_record = train_sen_len[record_index]\n",
        "\n",
        "en_train_record_data, en_train_len_record_data = ptb_producer(en_train_record, en_train_len_record, batch_size)\n",
        "en_de_train_record_data, en_train_len_record_data = ptb_producer(en_de_train_record, en_train_len_record, batch_size)"
      ],
      "execution_count": 0,
      "outputs": []
    },
    {
      "metadata": {
        "id": "4bYQC0A_3GUy",
        "colab_type": "code",
        "colab": {}
      },
      "cell_type": "code",
      "source": [
        "train_ce = []\n",
        "train_kl = []\n",
        "train_ll = []\n",
        "kl_weight = []\n",
        "\n",
        "test_ce = []\n",
        "test_kl = []\n",
        "test_ll = []\n",
        "\n",
        "init = tf.global_variables_initializer()\n",
        "max_epochs = 10\n",
        "learningrate = 0.001\n",
        "\n",
        "total_step = 0\n",
        "discount_rate = 0\n",
        "\n",
        "with tf.Session() as sess:\n",
        "  \n",
        "    sess.run(init)\n",
        "        \n",
        "    for epoc in range(max_epochs):\n",
        "      \n",
        "        print('Epoch {}'.format(epoc))\n",
        "              \n",
        "        \n",
        "        ########### training ###########\n",
        "        for i in range(train_input_data.shape[0]):\n",
        "            \n",
        "            #discount_rate = sigmoid(0.0025*(total_step-2500))\n",
        "            discount_rate = 0.0002*total_step\n",
        "            if discount_rate >1:\n",
        "              discount_rate = 1\n",
        "              \n",
        "            feed_dict = {input_placeholder: train_input_data[i],\n",
        "                         decode_placeholder: train_decode_input_data[i],\n",
        "                         length_placeholder: train_len_data[i],\n",
        "                         discount_placeholder: discount_rate,\n",
        "                         learnrate_placeholder: learningrate} \n",
        "            \n",
        "            _ = sess.run(opt, feed_dict=feed_dict)\n",
        "                    \n",
        "\n",
        "            if total_step%100 == 0:\n",
        "              \n",
        "              train_ce_one = []\n",
        "              train_kl_one = []\n",
        "              train_ll_one = []\n",
        "              for t in range(en_train_record_data.shape[0]):\n",
        "                feed_dict = {input_placeholder: en_train_record_data[t],\n",
        "                             decode_placeholder: en_de_train_record_data[t],\n",
        "                             length_placeholder: en_train_len_record_data[t],\n",
        "                             discount_placeholder: 1}\n",
        "              \n",
        "                ce, kl, ll_mean = sess.run([cross_entropy, kl_div_loss, batch_lowerbound_mean], feed_dict=feed_dict)\n",
        "                train_ce_one.append(np.mean(ce))\n",
        "                train_kl_one.append(np.mean(kl))\n",
        "                train_ll_one.append(ll_mean)\n",
        "             \n",
        "              print(\"training\")\n",
        "              print(discount_rate)\n",
        "              print(np.mean(ce))\n",
        "              print(np.mean(kl))\n",
        "              print(ll_mean)\n",
        "             \n",
        "              train_ce.append(np.mean(ce))\n",
        "              train_kl.append(np.mean(kl))\n",
        "              train_ll.append(ll_mean)\n",
        "              kl_weight.append(discount_rate)\n",
        "              \n",
        "              \n",
        "              test_ce_one = []\n",
        "              test_kl_one = []\n",
        "              test_ll_one = []\n",
        "              for t in range(valid_input_data.shape[0]):\n",
        "                test_feed_dict = {input_placeholder:  valid_input_data[t],\n",
        "                                  decode_placeholder: valid_decode_input_data[t],\n",
        "                                  length_placeholder: valid_len_data[t],\n",
        "                                  discount_placeholder: 1}\n",
        "                \n",
        "                ce, kl, ll_mean = sess.run([cross_entropy, kl_div_loss, batch_lowerbound_mean], feed_dict=test_feed_dict)\n",
        "              \n",
        "                test_ce_one.append(np.mean(ce))\n",
        "                test_kl_one.append(np.mean(kl))\n",
        "                test_ll_one.append(ll_mean)\n",
        "              \n",
        "              print(\"testing\")\n",
        "              print(np.mean(test_ce_one))\n",
        "              print(np.mean(test_kl_one))\n",
        "              print(np.mean(test_ll_one))\n",
        "              test_ce.append(np.mean(test_ce_one))\n",
        "              test_kl.append(np.mean(test_kl_one))\n",
        "              test_ll.append(np.mean(test_ll_one))\n",
        "              \n",
        "            total_step = total_step + 1             \n",
        "                      \n",
        "        save_model(sess, path1)\n",
        "        \n",
        "text_save(train_ce, './result_0818/train_ce.txt')\n",
        "text_save(train_kl, './result_0818/train_kl.txt')\n",
        "text_save(train_ll, './result_0818/train_ll.txt')\n",
        "text_save(kl_weight,'./result_0818/kl_weight.txt')\n",
        "\n",
        "text_save(test_ce, './result_0818/test_ce.txt')\n",
        "text_save(test_kl, './result_0818/test_kl.txt')\n",
        "text_save(test_ll, './result_0818/test_ll.txt')"
      ],
      "execution_count": 0,
      "outputs": []
    },
    {
      "metadata": {
        "id": "2LFNpBMZ-0gm",
        "colab_type": "text"
      },
      "cell_type": "markdown",
      "source": [
        "## Train Result"
      ]
    },
    {
      "metadata": {
        "id": "yzmTQAN26Y1R",
        "colab_type": "code",
        "colab": {
          "base_uri": "https://localhost:8080/",
          "height": 380
        },
        "outputId": "40be2cf3-dbe5-4e9a-85a4-913a0f9f4216"
      },
      "cell_type": "code",
      "source": [
        "elbo_read = text_read('./result_0818/train_ce.txt')\n",
        "elbo_read = [float(elbo) for elbo in elbo_read]\n",
        "\n",
        "kl_read = text_read('./result_0818/train_kl.txt')\n",
        "kl_read = [float(kl) for kl in kl_read]\n",
        "\n",
        "likei_read = text_read('./result_0818/train_ll.txt')\n",
        "likei_read = [float(likei) for likei in likei_read]\n",
        "\n",
        "plt.plot(kl_read, color = 'C0')\n",
        "plt.plot(likei_read, color = 'C1')\n",
        "plt.plot(elbo_read, color = 'C2')\n",
        "plt.legend(['nage_log_like_x_n_y', 'nage_elbo'], fontsize=12)\n",
        "plt.title(\"encoder_2_DCNN_300_dropout_0.7\")"
      ],
      "execution_count": 46,
      "outputs": [
        {
          "output_type": "execute_result",
          "data": {
            "text/plain": [
              "Text(0.5,1,'encoder_2_DCNN_300_dropout_0.7')"
            ]
          },
          "metadata": {
            "tags": []
          },
          "execution_count": 46
        },
        {
          "output_type": "display_data",
          "data": {
            "image/png": "[encoded data removed]",
            "text/plain": [
              "<matplotlib.figure.Figure at 0x7fb0b8c0fcc0>"
            ]
          },
          "metadata": {
            "tags": []
          }
        }
      ]
    },
    {
      "metadata": {
        "id": "uJlRy5wLO7Cm",
        "colab_type": "code",
        "colab": {
          "base_uri": "https://localhost:8080/",
          "height": 364
        },
        "outputId": "8bc84f78-98bd-4540-9e09-b75d136c6566"
      },
      "cell_type": "code",
      "source": [
        "plt.plot(kl_read, color = 'C0')"
      ],
      "execution_count": 47,
      "outputs": [
        {
          "output_type": "execute_result",
          "data": {
            "text/plain": [
              "[<matplotlib.lines.Line2D at 0x7fb0b8b5c358>]"
            ]
          },
          "metadata": {
            "tags": []
          },
          "execution_count": 47
        },
        {
          "output_type": "display_data",
          "data": {
            "image/png": "[encoded data removed]",
            "text/plain": [
              "<matplotlib.figure.Figure at 0x7fb0b8bd1668>"
            ]
          },
          "metadata": {
            "tags": []
          }
        }
      ]
    },
    {
      "metadata": {
        "id": "ZYtVrwbWor1H",
        "colab_type": "text"
      },
      "cell_type": "markdown",
      "source": [
        "## Generate Sentence from Prior"
      ]
    },
    {
      "metadata": {
        "id": "bVhz10p8oult",
        "colab_type": "code",
        "colab": {}
      },
      "cell_type": "code",
      "source": [
        "def id_to_word(words, word_to_id, max_length):\n",
        "  sens = [\"\" for x in range(max_length+1)]\n",
        "  for key in word_to_id.keys():\n",
        "    for p in range(max_length):\n",
        "      if words[p] == word_to_id[key]:\n",
        "        sens[p] = key\n",
        "  return sens"
      ],
      "execution_count": 0,
      "outputs": []
    },
    {
      "metadata": {
        "id": "cVgoCJN4pDAG",
        "colab_type": "code",
        "colab": {}
      },
      "cell_type": "code",
      "source": [
        "for i in range(beam_size):\n",
        "  or_sens = id_to_word(x_de[i], word_to_id, decode_len+1)\n",
        "  or_sens_str = \" \"\n",
        "  for p in range(decode_len+1):\n",
        "     or_sens_str = or_sens_str + \" \" + or_sens[p]\n",
        "  print(or_sens_str)"
      ],
      "execution_count": 0,
      "outputs": []
    },
    {
      "metadata": {
        "id": "8z7sgxRjoxB5",
        "colab_type": "code",
        "colab": {
          "base_uri": "https://localhost:8080/",
          "height": 34
        },
        "outputId": "d5541af4-2972-49f7-b469-51c8741feda9"
      },
      "cell_type": "code",
      "source": [
        "########## Beam Search gene x ###########\n",
        "\n",
        "beam_size = 30\n",
        "conti = True\n",
        "idd = 8\n",
        "t = 0\n",
        "latent_num = 1\n",
        "\n",
        "import copy\n",
        "\n",
        "#########################################################\n",
        "x_len = np.array((1,30))\n",
        "\n",
        "x_de = np.random.randint(low=0, high=vocab_len, size=(beam_size, max_length+1))\n",
        "x_de[:,0] = word_to_id['<beg>']\n",
        "\n",
        "x_de_new = np.zeros(x_de.shape, dtype=np.int32)\n",
        "\n",
        "decode_len = 30\n",
        "\n",
        "#########################################################\n",
        "prob_next_word = np.ones((beam_size, vocab_len),dtype=np.float32)\n",
        "score = np.zeros((beam_size))\n",
        "\n",
        "\n",
        "#########################################################\n",
        "\n",
        "with tf.Session() as sess:\n",
        "  \n",
        "    saver = tf.train.Saver()\n",
        "    saver.restore(sess, path1)\n",
        "\n",
        "    la_var = np.random.normal(size = (1,latent_size), loc=0.0, scale=1)\n",
        "    \n",
        "    for t in range(decode_len):\n",
        "    #while conti:\n",
        "      \n",
        "        for j in range(beam_size):\n",
        "          \n",
        "          gene_feed_dict = {if_gene_placeholder: True,\n",
        "                            latent_var_placeholder:la_var,\n",
        "                            decode_placeholder: np.reshape(x_de[j],[1, num_steps+1])}\n",
        "                                                                           \n",
        "          prob_logits = sess.run(prob_constant, feed_dict=gene_feed_dict)\n",
        "          \n",
        "          prob_next_word[j] = np.log(prob_logits[t]/np.sum(prob_logits[t])) + score[j]\n",
        "                \n",
        "        beam_id = np.argmax(prob_next_word, axis=0)        \n",
        "        prob_next_word_beam = np.max(prob_next_word, axis=0)        \n",
        "        next_word_id = np.argsort(prob_next_word_beam)[-beam_size:]\n",
        "        \n",
        "        for j in range(beam_size):\n",
        "          \n",
        "          beam_id_j = beam_id[next_word_id[j]]\n",
        "          word_id_j = next_word_id[j]\n",
        "          \n",
        "          x_de_new[j] = copy.deepcopy(x_de[beam_id_j])          \n",
        "          x_de_new[j,t+1] = copy.deepcopy(word_id_j)\n",
        "          \n",
        "          score[j] = copy.deepcopy(prob_next_word_beam[word_id_j])\n",
        "          \n",
        "        \n",
        "        x_de = copy.deepcopy(x_de_new)\n",
        "       "
      ],
      "execution_count": 59,
      "outputs": [
        {
          "output_type": "stream",
          "text": [
            "INFO:tensorflow:Restoring parameters from ./result_0818/model_each_epch.ckpt\n"
          ],
          "name": "stdout"
        }
      ]
    },
    {
      "metadata": {
        "id": "hQscL8V0YwNI",
        "colab_type": "text"
      },
      "cell_type": "markdown",
      "source": [
        "## Generate Sentence"
      ]
    },
    {
      "metadata": {
        "id": "zEfuSJAWYv1M",
        "colab_type": "code",
        "colab": {}
      },
      "cell_type": "code",
      "source": [
        "def id_to_word(words, word_to_id, max_length):\n",
        "  sens = [\"\" for x in range(max_length+1)]\n",
        "  for key in word_to_id.keys():\n",
        "    for p in range(max_length):\n",
        "      if words[p] == word_to_id[key]:\n",
        "        sens[p] = key\n",
        "  return sens"
      ],
      "execution_count": 0,
      "outputs": []
    },
    {
      "metadata": {
        "id": "mUFQGrRxY0zk",
        "colab_type": "code",
        "colab": {}
      },
      "cell_type": "code",
      "source": [
        "origin_sens = id_to_word(train_input[8], word_to_id, max_length)\n",
        "or_sens_str = \" \"\n",
        "for p in range(max_length):\n",
        "     or_sens_str = or_sens_str + \" \" + origin_sens[p]\n",
        "print(or_sens_str)"
      ],
      "execution_count": 0,
      "outputs": []
    },
    {
      "metadata": {
        "id": "2x13qeeUY6BF",
        "colab_type": "code",
        "colab": {}
      },
      "cell_type": "code",
      "source": [
        "for i in range(beam_size):\n",
        "  or_sens = id_to_word(x_de[i], word_to_id, decode_len)\n",
        "  or_sens_str = \" \"\n",
        "  for p in range(decode_len):\n",
        "     or_sens_str = or_sens_str + \" \" + or_sens[p]\n",
        "  print(or_sens_str)"
      ],
      "execution_count": 0,
      "outputs": []
    },
    {
      "metadata": {
        "id": "-2_mjPKEY6h3",
        "colab_type": "text"
      },
      "cell_type": "markdown",
      "source": [
        "### Beam Search"
      ]
    },
    {
      "metadata": {
        "id": "2Kb_Z8CIY8F8",
        "colab_type": "code",
        "colab": {
          "base_uri": "https://localhost:8080/",
          "height": 34
        },
        "outputId": "2d0bbc55-fc11-4eb9-d8e8-36e0aedb6f6f"
      },
      "cell_type": "code",
      "source": [
        "########## Beam Search gene x ###########\n",
        "\n",
        "beam_size = 25\n",
        "conti = True\n",
        "idd = 8\n",
        "t = 0\n",
        "latent_num = 1\n",
        "\n",
        "\n",
        "#########################################################\n",
        "x_in = np.reshape(copy.deepcopy(train_input[idd]), (1, max_length))\n",
        "x_len = np.reshape(copy.deepcopy(train_sen_len[idd]), (1,))\n",
        "\n",
        "x_de = np.random.randint(low=0, high=vocab_len, size=(beam_size, max_length+1))\n",
        "x_de[:,0] = word_to_id['<beg>']\n",
        "\n",
        "x_de_new = np.zeros(x_de.shape, dtype=np.int32)\n",
        "\n",
        "decode_len = 30\n",
        "\n",
        "#########################################################\n",
        "prob_next_word = np.ones((beam_size, vocab_len),dtype=np.float32)\n",
        "score = np.zeros((beam_size))\n",
        "\n",
        "\n",
        "#########################################################\n",
        "\n",
        "with tf.Session() as sess:\n",
        "  \n",
        "    saver = tf.train.Saver()\n",
        "    saver.restore(sess, path1)\n",
        "\n",
        "    gene_feed_dict = {input_placeholder: x_in, \n",
        "                      length_placeholder: x_len}                       \n",
        "            \n",
        "    mean, std = sess.run([mean_encode, std_encode], feed_dict=gene_feed_dict)    # 1*max_len x fr_vocab_size\n",
        "    \n",
        "    eposida = np.random.normal(size = np.shape(std), loc=0.0, scale=1)\n",
        "    la_var = mean + std*eposida\n",
        "    \n",
        "    for t in range(decode_len):\n",
        "    #while conti:\n",
        "      \n",
        "        for j in range(beam_size):\n",
        "          \n",
        "          gene_feed_dict = {if_gene_placeholder: True,\n",
        "                            latent_var_placeholder:la_var,\n",
        "                            decode_placeholder: np.reshape(x_de[j],[1, num_steps+1])}\n",
        "                                                                           \n",
        "          prob_logits = sess.run(prob_constant, feed_dict=gene_feed_dict)\n",
        "          \n",
        "          prob_next_word[j] = np.log(prob_logits[t]/np.sum(prob_logits[t])) + score[j]\n",
        "                \n",
        "        beam_id = np.argmax(prob_next_word, axis=0)        \n",
        "        prob_next_word_beam = np.max(prob_next_word, axis=0)        \n",
        "        next_word_id = np.argsort(prob_next_word_beam)[-beam_size:]\n",
        "        \n",
        "        for j in range(beam_size):\n",
        "          \n",
        "          beam_id_j = beam_id[next_word_id[j]]\n",
        "          word_id_j = next_word_id[j]\n",
        "          \n",
        "          x_de_new[j] = copy.deepcopy(x_de[beam_id_j])          \n",
        "          x_de_new[j,t+1] = copy.deepcopy(word_id_j)\n",
        "          \n",
        "          score[j] = copy.deepcopy(prob_next_word_beam[word_id_j])\n",
        "          \n",
        "        \n",
        "        x_de = copy.deepcopy(x_de_new)\n",
        "       "
      ],
      "execution_count": 41,
      "outputs": [
        {
          "output_type": "stream",
          "text": [
            "INFO:tensorflow:Restoring parameters from ./result_0816/model_saved/model_each_epch.ckpt\n"
          ],
          "name": "stdout"
        }
      ]
    }
  ]
}